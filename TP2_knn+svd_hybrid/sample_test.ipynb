{
 "cells": [
  {
   "cell_type": "code",
   "execution_count": 2,
   "metadata": {},
   "outputs": [],
   "source": [
    "from utils import Dataloader\n",
    "import pandas as pd\n",
    "import seaborn as sns\n",
    "import matplotlib.pyplot as plt\n",
    "import numpy as np\n",
    "\n",
    "path = 'data'\n",
    "movies_df = Dataloader.load_movies(path)\n",
    "ratings_df = Dataloader.load_ratings(path)\n",
    "users_df = Dataloader.load_users(path)\n",
    "tags_df = Dataloader.load_tags(path)"
   ]
  },
  {
   "cell_type": "code",
   "execution_count": 16,
   "metadata": {},
   "outputs": [
    {
     "data": {
      "text/html": [
       "<div>\n",
       "<style scoped>\n",
       "    .dataframe tbody tr th:only-of-type {\n",
       "        vertical-align: middle;\n",
       "    }\n",
       "\n",
       "    .dataframe tbody tr th {\n",
       "        vertical-align: top;\n",
       "    }\n",
       "\n",
       "    .dataframe thead th {\n",
       "        text-align: right;\n",
       "    }\n",
       "</style>\n",
       "<table border=\"1\" class=\"dataframe\">\n",
       "  <thead>\n",
       "    <tr style=\"text-align: right;\">\n",
       "      <th></th>\n",
       "      <th>userId</th>\n",
       "      <th>gender</th>\n",
       "      <th>age</th>\n",
       "      <th>Occupation</th>\n",
       "      <th>zip_code</th>\n",
       "    </tr>\n",
       "  </thead>\n",
       "  <tbody>\n",
       "    <tr>\n",
       "      <th>0</th>\n",
       "      <td>1</td>\n",
       "      <td>F</td>\n",
       "      <td>1</td>\n",
       "      <td>10</td>\n",
       "      <td>48067</td>\n",
       "    </tr>\n",
       "    <tr>\n",
       "      <th>1</th>\n",
       "      <td>2</td>\n",
       "      <td>M</td>\n",
       "      <td>56</td>\n",
       "      <td>16</td>\n",
       "      <td>70072</td>\n",
       "    </tr>\n",
       "    <tr>\n",
       "      <th>2</th>\n",
       "      <td>3</td>\n",
       "      <td>M</td>\n",
       "      <td>25</td>\n",
       "      <td>15</td>\n",
       "      <td>55117</td>\n",
       "    </tr>\n",
       "    <tr>\n",
       "      <th>3</th>\n",
       "      <td>4</td>\n",
       "      <td>M</td>\n",
       "      <td>45</td>\n",
       "      <td>7</td>\n",
       "      <td>02460</td>\n",
       "    </tr>\n",
       "    <tr>\n",
       "      <th>4</th>\n",
       "      <td>5</td>\n",
       "      <td>M</td>\n",
       "      <td>25</td>\n",
       "      <td>20</td>\n",
       "      <td>55455</td>\n",
       "    </tr>\n",
       "    <tr>\n",
       "      <th>...</th>\n",
       "      <td>...</td>\n",
       "      <td>...</td>\n",
       "      <td>...</td>\n",
       "      <td>...</td>\n",
       "      <td>...</td>\n",
       "    </tr>\n",
       "    <tr>\n",
       "      <th>6035</th>\n",
       "      <td>6036</td>\n",
       "      <td>F</td>\n",
       "      <td>25</td>\n",
       "      <td>15</td>\n",
       "      <td>32603</td>\n",
       "    </tr>\n",
       "    <tr>\n",
       "      <th>6036</th>\n",
       "      <td>6037</td>\n",
       "      <td>F</td>\n",
       "      <td>45</td>\n",
       "      <td>1</td>\n",
       "      <td>76006</td>\n",
       "    </tr>\n",
       "    <tr>\n",
       "      <th>6037</th>\n",
       "      <td>6038</td>\n",
       "      <td>F</td>\n",
       "      <td>56</td>\n",
       "      <td>1</td>\n",
       "      <td>14706</td>\n",
       "    </tr>\n",
       "    <tr>\n",
       "      <th>6038</th>\n",
       "      <td>6039</td>\n",
       "      <td>F</td>\n",
       "      <td>45</td>\n",
       "      <td>0</td>\n",
       "      <td>01060</td>\n",
       "    </tr>\n",
       "    <tr>\n",
       "      <th>6039</th>\n",
       "      <td>6040</td>\n",
       "      <td>M</td>\n",
       "      <td>25</td>\n",
       "      <td>6</td>\n",
       "      <td>11106</td>\n",
       "    </tr>\n",
       "  </tbody>\n",
       "</table>\n",
       "<p>6040 rows × 5 columns</p>\n",
       "</div>"
      ],
      "text/plain": [
       "      userId gender  age  Occupation zip_code\n",
       "0          1      F    1          10    48067\n",
       "1          2      M   56          16    70072\n",
       "2          3      M   25          15    55117\n",
       "3          4      M   45           7    02460\n",
       "4          5      M   25          20    55455\n",
       "...      ...    ...  ...         ...      ...\n",
       "6035    6036      F   25          15    32603\n",
       "6036    6037      F   45           1    76006\n",
       "6037    6038      F   56           1    14706\n",
       "6038    6039      F   45           0    01060\n",
       "6039    6040      M   25           6    11106\n",
       "\n",
       "[6040 rows x 5 columns]"
      ]
     },
     "execution_count": 16,
     "metadata": {},
     "output_type": "execute_result"
    }
   ],
   "source": [
    "users_df"
   ]
  },
  {
   "cell_type": "code",
   "execution_count": 15,
   "metadata": {},
   "outputs": [
    {
     "data": {
      "text/html": [
       "<div>\n",
       "<style scoped>\n",
       "    .dataframe tbody tr th:only-of-type {\n",
       "        vertical-align: middle;\n",
       "    }\n",
       "\n",
       "    .dataframe tbody tr th {\n",
       "        vertical-align: top;\n",
       "    }\n",
       "\n",
       "    .dataframe thead th {\n",
       "        text-align: right;\n",
       "    }\n",
       "</style>\n",
       "<table border=\"1\" class=\"dataframe\">\n",
       "  <thead>\n",
       "    <tr style=\"text-align: right;\">\n",
       "      <th></th>\n",
       "      <th>userId</th>\n",
       "      <th>movieId</th>\n",
       "      <th>rating</th>\n",
       "      <th>timestamp</th>\n",
       "    </tr>\n",
       "  </thead>\n",
       "  <tbody>\n",
       "    <tr>\n",
       "      <th>0</th>\n",
       "      <td>1</td>\n",
       "      <td>1193</td>\n",
       "      <td>5</td>\n",
       "      <td>978300760</td>\n",
       "    </tr>\n",
       "    <tr>\n",
       "      <th>1</th>\n",
       "      <td>1</td>\n",
       "      <td>661</td>\n",
       "      <td>3</td>\n",
       "      <td>978302109</td>\n",
       "    </tr>\n",
       "    <tr>\n",
       "      <th>2</th>\n",
       "      <td>1</td>\n",
       "      <td>914</td>\n",
       "      <td>3</td>\n",
       "      <td>978301968</td>\n",
       "    </tr>\n",
       "    <tr>\n",
       "      <th>3</th>\n",
       "      <td>1</td>\n",
       "      <td>3408</td>\n",
       "      <td>4</td>\n",
       "      <td>978300275</td>\n",
       "    </tr>\n",
       "    <tr>\n",
       "      <th>4</th>\n",
       "      <td>1</td>\n",
       "      <td>2355</td>\n",
       "      <td>5</td>\n",
       "      <td>978824291</td>\n",
       "    </tr>\n",
       "    <tr>\n",
       "      <th>...</th>\n",
       "      <td>...</td>\n",
       "      <td>...</td>\n",
       "      <td>...</td>\n",
       "      <td>...</td>\n",
       "    </tr>\n",
       "    <tr>\n",
       "      <th>1000204</th>\n",
       "      <td>6040</td>\n",
       "      <td>1091</td>\n",
       "      <td>1</td>\n",
       "      <td>956716541</td>\n",
       "    </tr>\n",
       "    <tr>\n",
       "      <th>1000205</th>\n",
       "      <td>6040</td>\n",
       "      <td>1094</td>\n",
       "      <td>5</td>\n",
       "      <td>956704887</td>\n",
       "    </tr>\n",
       "    <tr>\n",
       "      <th>1000206</th>\n",
       "      <td>6040</td>\n",
       "      <td>562</td>\n",
       "      <td>5</td>\n",
       "      <td>956704746</td>\n",
       "    </tr>\n",
       "    <tr>\n",
       "      <th>1000207</th>\n",
       "      <td>6040</td>\n",
       "      <td>1096</td>\n",
       "      <td>4</td>\n",
       "      <td>956715648</td>\n",
       "    </tr>\n",
       "    <tr>\n",
       "      <th>1000208</th>\n",
       "      <td>6040</td>\n",
       "      <td>1097</td>\n",
       "      <td>4</td>\n",
       "      <td>956715569</td>\n",
       "    </tr>\n",
       "  </tbody>\n",
       "</table>\n",
       "<p>1000209 rows × 4 columns</p>\n",
       "</div>"
      ],
      "text/plain": [
       "         userId  movieId  rating  timestamp\n",
       "0             1     1193       5  978300760\n",
       "1             1      661       3  978302109\n",
       "2             1      914       3  978301968\n",
       "3             1     3408       4  978300275\n",
       "4             1     2355       5  978824291\n",
       "...         ...      ...     ...        ...\n",
       "1000204    6040     1091       1  956716541\n",
       "1000205    6040     1094       5  956704887\n",
       "1000206    6040      562       5  956704746\n",
       "1000207    6040     1096       4  956715648\n",
       "1000208    6040     1097       4  956715569\n",
       "\n",
       "[1000209 rows x 4 columns]"
      ]
     },
     "execution_count": 15,
     "metadata": {},
     "output_type": "execute_result"
    }
   ],
   "source": [
    "ratings_df"
   ]
  },
  {
   "cell_type": "code",
   "execution_count": 14,
   "metadata": {},
   "outputs": [
    {
     "data": {
      "text/html": [
       "<div>\n",
       "<style scoped>\n",
       "    .dataframe tbody tr th:only-of-type {\n",
       "        vertical-align: middle;\n",
       "    }\n",
       "\n",
       "    .dataframe tbody tr th {\n",
       "        vertical-align: top;\n",
       "    }\n",
       "\n",
       "    .dataframe thead th {\n",
       "        text-align: right;\n",
       "    }\n",
       "</style>\n",
       "<table border=\"1\" class=\"dataframe\">\n",
       "  <thead>\n",
       "    <tr style=\"text-align: right;\">\n",
       "      <th></th>\n",
       "      <th>movieId</th>\n",
       "      <th>title</th>\n",
       "      <th>genres</th>\n",
       "      <th>Action</th>\n",
       "      <th>Adventure</th>\n",
       "      <th>Animation</th>\n",
       "      <th>Children's</th>\n",
       "      <th>Comedy</th>\n",
       "      <th>Crime</th>\n",
       "      <th>Documentary</th>\n",
       "      <th>...</th>\n",
       "      <th>Fantasy</th>\n",
       "      <th>Film-Noir</th>\n",
       "      <th>Horror</th>\n",
       "      <th>Musical</th>\n",
       "      <th>Mystery</th>\n",
       "      <th>Romance</th>\n",
       "      <th>Sci-Fi</th>\n",
       "      <th>Thriller</th>\n",
       "      <th>War</th>\n",
       "      <th>Western</th>\n",
       "    </tr>\n",
       "  </thead>\n",
       "  <tbody>\n",
       "    <tr>\n",
       "      <th>2718</th>\n",
       "      <td>2787</td>\n",
       "      <td>Cat's Eye (1985)</td>\n",
       "      <td>Horror</td>\n",
       "      <td>0</td>\n",
       "      <td>0</td>\n",
       "      <td>0</td>\n",
       "      <td>0</td>\n",
       "      <td>0</td>\n",
       "      <td>0</td>\n",
       "      <td>0</td>\n",
       "      <td>...</td>\n",
       "      <td>0</td>\n",
       "      <td>0</td>\n",
       "      <td>1</td>\n",
       "      <td>0</td>\n",
       "      <td>0</td>\n",
       "      <td>0</td>\n",
       "      <td>0</td>\n",
       "      <td>0</td>\n",
       "      <td>0</td>\n",
       "      <td>0</td>\n",
       "    </tr>\n",
       "  </tbody>\n",
       "</table>\n",
       "<p>1 rows × 21 columns</p>\n",
       "</div>"
      ],
      "text/plain": [
       "      movieId             title  genres  Action  Adventure  Animation  \\\n",
       "2718     2787  Cat's Eye (1985)  Horror       0          0          0   \n",
       "\n",
       "      Children's  Comedy  Crime  Documentary  ...  Fantasy  Film-Noir  Horror  \\\n",
       "2718           0       0      0            0  ...        0          0       1   \n",
       "\n",
       "      Musical  Mystery  Romance  Sci-Fi  Thriller  War  Western  \n",
       "2718        0        0        0       0         0    0        0  \n",
       "\n",
       "[1 rows x 21 columns]"
      ]
     },
     "execution_count": 14,
     "metadata": {},
     "output_type": "execute_result"
    }
   ],
   "source": [
    "movies_df[movies_df['movieId']==2787]"
   ]
  },
  {
   "cell_type": "code",
   "execution_count": 3,
   "metadata": {},
   "outputs": [
    {
     "data": {
      "text/plain": [
       "userId\n",
       "10555    6012\n",
       "23388    5811\n",
       "23172    4034\n",
       "33384    3632\n",
       "52723    1747\n",
       "         ... \n",
       "35568       1\n",
       "35553       1\n",
       "35543       1\n",
       "35462       1\n",
       "35438       1\n",
       "Name: count, Length: 4009, dtype: int64"
      ]
     },
     "execution_count": 3,
     "metadata": {},
     "output_type": "execute_result"
    }
   ],
   "source": [
    "tags_df['userId'].value_counts()"
   ]
  },
  {
   "cell_type": "code",
   "execution_count": 4,
   "metadata": {},
   "outputs": [
    {
     "data": {
      "text/html": [
       "<div>\n",
       "<style scoped>\n",
       "    .dataframe tbody tr th:only-of-type {\n",
       "        vertical-align: middle;\n",
       "    }\n",
       "\n",
       "    .dataframe tbody tr th {\n",
       "        vertical-align: top;\n",
       "    }\n",
       "\n",
       "    .dataframe thead th {\n",
       "        text-align: right;\n",
       "    }\n",
       "</style>\n",
       "<table border=\"1\" class=\"dataframe\">\n",
       "  <thead>\n",
       "    <tr style=\"text-align: right;\">\n",
       "      <th></th>\n",
       "      <th>userId</th>\n",
       "      <th>movieId</th>\n",
       "      <th>rating</th>\n",
       "      <th>timestamp</th>\n",
       "    </tr>\n",
       "  </thead>\n",
       "  <tbody>\n",
       "    <tr>\n",
       "      <th>2763</th>\n",
       "      <td>22</td>\n",
       "      <td>1205</td>\n",
       "      <td>4</td>\n",
       "      <td>978136836</td>\n",
       "    </tr>\n",
       "    <tr>\n",
       "      <th>3348</th>\n",
       "      <td>25</td>\n",
       "      <td>1205</td>\n",
       "      <td>5</td>\n",
       "      <td>978132441</td>\n",
       "    </tr>\n",
       "    <tr>\n",
       "      <th>7037</th>\n",
       "      <td>48</td>\n",
       "      <td>1205</td>\n",
       "      <td>3</td>\n",
       "      <td>978032270</td>\n",
       "    </tr>\n",
       "    <tr>\n",
       "      <th>7959</th>\n",
       "      <td>53</td>\n",
       "      <td>1205</td>\n",
       "      <td>4</td>\n",
       "      <td>977950419</td>\n",
       "    </tr>\n",
       "    <tr>\n",
       "      <th>8618</th>\n",
       "      <td>58</td>\n",
       "      <td>1205</td>\n",
       "      <td>4</td>\n",
       "      <td>977936364</td>\n",
       "    </tr>\n",
       "    <tr>\n",
       "      <th>...</th>\n",
       "      <td>...</td>\n",
       "      <td>...</td>\n",
       "      <td>...</td>\n",
       "      <td>...</td>\n",
       "    </tr>\n",
       "    <tr>\n",
       "      <th>957100</th>\n",
       "      <td>5776</td>\n",
       "      <td>1205</td>\n",
       "      <td>4</td>\n",
       "      <td>958169348</td>\n",
       "    </tr>\n",
       "    <tr>\n",
       "      <th>961449</th>\n",
       "      <td>5795</td>\n",
       "      <td>1205</td>\n",
       "      <td>1</td>\n",
       "      <td>958145035</td>\n",
       "    </tr>\n",
       "    <tr>\n",
       "      <th>962158</th>\n",
       "      <td>5797</td>\n",
       "      <td>1205</td>\n",
       "      <td>1</td>\n",
       "      <td>958059106</td>\n",
       "    </tr>\n",
       "    <tr>\n",
       "      <th>965536</th>\n",
       "      <td>5824</td>\n",
       "      <td>1205</td>\n",
       "      <td>3</td>\n",
       "      <td>957898304</td>\n",
       "    </tr>\n",
       "    <tr>\n",
       "      <th>986970</th>\n",
       "      <td>5957</td>\n",
       "      <td>1205</td>\n",
       "      <td>4</td>\n",
       "      <td>957073493</td>\n",
       "    </tr>\n",
       "  </tbody>\n",
       "</table>\n",
       "<p>231 rows × 4 columns</p>\n",
       "</div>"
      ],
      "text/plain": [
       "        userId  movieId  rating  timestamp\n",
       "2763        22     1205       4  978136836\n",
       "3348        25     1205       5  978132441\n",
       "7037        48     1205       3  978032270\n",
       "7959        53     1205       4  977950419\n",
       "8618        58     1205       4  977936364\n",
       "...        ...      ...     ...        ...\n",
       "957100    5776     1205       4  958169348\n",
       "961449    5795     1205       1  958145035\n",
       "962158    5797     1205       1  958059106\n",
       "965536    5824     1205       3  957898304\n",
       "986970    5957     1205       4  957073493\n",
       "\n",
       "[231 rows x 4 columns]"
      ]
     },
     "execution_count": 4,
     "metadata": {},
     "output_type": "execute_result"
    }
   ],
   "source": [
    "ratings_df.loc[ratings_df['movieId']==1205]"
   ]
  },
  {
   "cell_type": "code",
   "execution_count": 5,
   "metadata": {},
   "outputs": [
    {
     "data": {
      "text/html": [
       "<div>\n",
       "<style scoped>\n",
       "    .dataframe tbody tr th:only-of-type {\n",
       "        vertical-align: middle;\n",
       "    }\n",
       "\n",
       "    .dataframe tbody tr th {\n",
       "        vertical-align: top;\n",
       "    }\n",
       "\n",
       "    .dataframe thead th {\n",
       "        text-align: right;\n",
       "    }\n",
       "</style>\n",
       "<table border=\"1\" class=\"dataframe\">\n",
       "  <thead>\n",
       "    <tr style=\"text-align: right;\">\n",
       "      <th></th>\n",
       "      <th>movieId</th>\n",
       "      <th>title</th>\n",
       "      <th>genres</th>\n",
       "    </tr>\n",
       "  </thead>\n",
       "  <tbody>\n",
       "    <tr>\n",
       "      <th>1187</th>\n",
       "      <td>1205</td>\n",
       "      <td>Transformers: The Movie, The (1986)</td>\n",
       "      <td>Action|Animation|Children's|Sci-Fi|Thriller|War</td>\n",
       "    </tr>\n",
       "  </tbody>\n",
       "</table>\n",
       "</div>"
      ],
      "text/plain": [
       "      movieId                                title  \\\n",
       "1187     1205  Transformers: The Movie, The (1986)   \n",
       "\n",
       "                                               genres  \n",
       "1187  Action|Animation|Children's|Sci-Fi|Thriller|War  "
      ]
     },
     "execution_count": 5,
     "metadata": {},
     "output_type": "execute_result"
    }
   ],
   "source": [
    "movies_df.loc[movies_df['movieId']==1205]"
   ]
  },
  {
   "cell_type": "code",
   "execution_count": 6,
   "metadata": {},
   "outputs": [
    {
     "name": "stdout",
     "output_type": "stream",
     "text": [
      "<class 'pandas.core.frame.DataFrame'>\n",
      "RangeIndex: 1000209 entries, 0 to 1000208\n",
      "Data columns (total 4 columns):\n",
      " #   Column     Non-Null Count    Dtype\n",
      "---  ------     --------------    -----\n",
      " 0   userId     1000209 non-null  int64\n",
      " 1   movieId    1000209 non-null  int64\n",
      " 2   rating     1000209 non-null  int64\n",
      " 3   timestamp  1000209 non-null  int64\n",
      "dtypes: int64(4)\n",
      "memory usage: 30.5 MB\n"
     ]
    },
    {
     "data": {
      "text/plain": [
       "None"
      ]
     },
     "metadata": {},
     "output_type": "display_data"
    },
    {
     "name": "stdout",
     "output_type": "stream",
     "text": [
      "<class 'pandas.core.frame.DataFrame'>\n",
      "RangeIndex: 6040 entries, 0 to 6039\n",
      "Data columns (total 5 columns):\n",
      " #   Column      Non-Null Count  Dtype \n",
      "---  ------      --------------  ----- \n",
      " 0   userId      6040 non-null   int64 \n",
      " 1   gender      6040 non-null   object\n",
      " 2   age         6040 non-null   int64 \n",
      " 3   Occupation  6040 non-null   int64 \n",
      " 4   zip_code    6040 non-null   object\n",
      "dtypes: int64(3), object(2)\n",
      "memory usage: 236.1+ KB\n"
     ]
    },
    {
     "data": {
      "text/plain": [
       "None"
      ]
     },
     "metadata": {},
     "output_type": "display_data"
    },
    {
     "name": "stdout",
     "output_type": "stream",
     "text": [
      "<class 'pandas.core.frame.DataFrame'>\n",
      "RangeIndex: 3883 entries, 0 to 3882\n",
      "Data columns (total 3 columns):\n",
      " #   Column   Non-Null Count  Dtype \n",
      "---  ------   --------------  ----- \n",
      " 0   movieId  3883 non-null   int64 \n",
      " 1   title    3883 non-null   object\n",
      " 2   genres   3883 non-null   object\n",
      "dtypes: int64(1), object(2)\n",
      "memory usage: 91.1+ KB\n"
     ]
    },
    {
     "data": {
      "text/plain": [
       "None"
      ]
     },
     "metadata": {},
     "output_type": "display_data"
    }
   ],
   "source": [
    "display(ratings_df.info())\n",
    "display(users_df.info())\n",
    "display(movies_df.info())"
   ]
  },
  {
   "cell_type": "code",
   "execution_count": 7,
   "metadata": {},
   "outputs": [
    {
     "data": {
      "text/plain": [
       "0"
      ]
     },
     "metadata": {},
     "output_type": "display_data"
    },
    {
     "data": {
      "text/plain": [
       "0"
      ]
     },
     "metadata": {},
     "output_type": "display_data"
    },
    {
     "data": {
      "text/plain": [
       "0"
      ]
     },
     "metadata": {},
     "output_type": "display_data"
    }
   ],
   "source": [
    "display(movies_df.duplicated().sum())\n",
    "display(ratings_df.duplicated().sum())\n",
    "display(users_df.duplicated().sum())"
   ]
  },
  {
   "cell_type": "markdown",
   "metadata": {},
   "source": [
    "### 08/10 목요일 시각화 할것\n",
    "- 가장 평점이 높은 영화 top5\n",
    "- 가장 평점이 높은 장르 top5"
   ]
  },
  {
   "cell_type": "code",
   "execution_count": 8,
   "metadata": {},
   "outputs": [
    {
     "data": {
      "text/plain": [
       "123.5"
      ]
     },
     "execution_count": 8,
     "metadata": {},
     "output_type": "execute_result"
    }
   ],
   "source": [
    "rating_top = ratings_df.groupby('movieId')['rating'].agg(['mean', 'count'])\n",
    "\n",
    "# 평점 1개에 5점짜리 영화가 많아서 평점개수의 중앙값을 찾은 뒤 그 이상의 데이터들만 가지고 가장 평점이 높은 영화 top5선정\n",
    "rating_top['count'].median()"
   ]
  },
  {
   "cell_type": "code",
   "execution_count": 9,
   "metadata": {},
   "outputs": [],
   "source": [
    "rating_top5 = rating_top.loc[rating_top['count']>123.5]\n",
    "rating_top5 = rating_top5['mean'].sort_values(ascending=False)"
   ]
  },
  {
   "cell_type": "code",
   "execution_count": 10,
   "metadata": {},
   "outputs": [
    {
     "data": {
      "text/html": [
       "<div>\n",
       "<style scoped>\n",
       "    .dataframe tbody tr th:only-of-type {\n",
       "        vertical-align: middle;\n",
       "    }\n",
       "\n",
       "    .dataframe tbody tr th {\n",
       "        vertical-align: top;\n",
       "    }\n",
       "\n",
       "    .dataframe thead th {\n",
       "        text-align: right;\n",
       "    }\n",
       "</style>\n",
       "<table border=\"1\" class=\"dataframe\">\n",
       "  <thead>\n",
       "    <tr style=\"text-align: right;\">\n",
       "      <th></th>\n",
       "      <th>rating</th>\n",
       "    </tr>\n",
       "    <tr>\n",
       "      <th>movieId</th>\n",
       "      <th></th>\n",
       "    </tr>\n",
       "  </thead>\n",
       "  <tbody>\n",
       "    <tr>\n",
       "      <th>2019</th>\n",
       "      <td>4.560510</td>\n",
       "    </tr>\n",
       "    <tr>\n",
       "      <th>318</th>\n",
       "      <td>4.554558</td>\n",
       "    </tr>\n",
       "    <tr>\n",
       "      <th>858</th>\n",
       "      <td>4.524966</td>\n",
       "    </tr>\n",
       "    <tr>\n",
       "      <th>745</th>\n",
       "      <td>4.520548</td>\n",
       "    </tr>\n",
       "    <tr>\n",
       "      <th>50</th>\n",
       "      <td>4.517106</td>\n",
       "    </tr>\n",
       "    <tr>\n",
       "      <th>...</th>\n",
       "      <td>...</td>\n",
       "    </tr>\n",
       "    <tr>\n",
       "      <th>2382</th>\n",
       "      <td>1.766667</td>\n",
       "    </tr>\n",
       "    <tr>\n",
       "      <th>2555</th>\n",
       "      <td>1.701220</td>\n",
       "    </tr>\n",
       "    <tr>\n",
       "      <th>2383</th>\n",
       "      <td>1.657718</td>\n",
       "    </tr>\n",
       "    <tr>\n",
       "      <th>2817</th>\n",
       "      <td>1.640000</td>\n",
       "    </tr>\n",
       "    <tr>\n",
       "      <th>3593</th>\n",
       "      <td>1.611111</td>\n",
       "    </tr>\n",
       "  </tbody>\n",
       "</table>\n",
       "<p>1853 rows × 1 columns</p>\n",
       "</div>"
      ],
      "text/plain": [
       "           rating\n",
       "movieId          \n",
       "2019     4.560510\n",
       "318      4.554558\n",
       "858      4.524966\n",
       "745      4.520548\n",
       "50       4.517106\n",
       "...           ...\n",
       "2382     1.766667\n",
       "2555     1.701220\n",
       "2383     1.657718\n",
       "2817     1.640000\n",
       "3593     1.611111\n",
       "\n",
       "[1853 rows x 1 columns]"
      ]
     },
     "execution_count": 10,
     "metadata": {},
     "output_type": "execute_result"
    }
   ],
   "source": [
    "# rating_top5 시리즈를 데이터프레임으로 변환\n",
    "rating_top5_df = rating_top5.to_frame(name='rating')\n",
    "rating_top5_df"
   ]
  },
  {
   "cell_type": "code",
   "execution_count": 11,
   "metadata": {},
   "outputs": [],
   "source": [
    "# movies_df의 인덱스를 'movieId'로 설정\n",
    "movies_df_sample = movies_df.set_index('movieId')\n",
    "\n",
    "rating_top5_df['title'] = movies_df_sample['title']\n",
    "\n",
    "rating_top5_df['genres'] = movies_df_sample['genres']"
   ]
  },
  {
   "cell_type": "code",
   "execution_count": 12,
   "metadata": {},
   "outputs": [],
   "source": [
    "rating_top5_df = rating_top5_df.head(5)"
   ]
  },
  {
   "cell_type": "code",
   "execution_count": 13,
   "metadata": {},
   "outputs": [
    {
     "data": {
      "text/html": [
       "<div>\n",
       "<style scoped>\n",
       "    .dataframe tbody tr th:only-of-type {\n",
       "        vertical-align: middle;\n",
       "    }\n",
       "\n",
       "    .dataframe tbody tr th {\n",
       "        vertical-align: top;\n",
       "    }\n",
       "\n",
       "    .dataframe thead th {\n",
       "        text-align: right;\n",
       "    }\n",
       "</style>\n",
       "<table border=\"1\" class=\"dataframe\">\n",
       "  <thead>\n",
       "    <tr style=\"text-align: right;\">\n",
       "      <th></th>\n",
       "      <th>movieId</th>\n",
       "      <th>title</th>\n",
       "      <th>genres</th>\n",
       "    </tr>\n",
       "  </thead>\n",
       "  <tbody>\n",
       "    <tr>\n",
       "      <th>1950</th>\n",
       "      <td>2019</td>\n",
       "      <td>Seven Samurai (The Magnificent Seven) (Shichin...</td>\n",
       "      <td>Action|Drama</td>\n",
       "    </tr>\n",
       "  </tbody>\n",
       "</table>\n",
       "</div>"
      ],
      "text/plain": [
       "      movieId                                              title        genres\n",
       "1950     2019  Seven Samurai (The Magnificent Seven) (Shichin...  Action|Drama"
      ]
     },
     "execution_count": 13,
     "metadata": {},
     "output_type": "execute_result"
    }
   ],
   "source": [
    "# 위의 데이터프레임이 제대로 되었나 확인용\n",
    "movies_df.loc[movies_df['movieId']==2019]"
   ]
  },
  {
   "cell_type": "code",
   "execution_count": 14,
   "metadata": {},
   "outputs": [
    {
     "data": {
      "text/html": [
       "<div>\n",
       "<style scoped>\n",
       "    .dataframe tbody tr th:only-of-type {\n",
       "        vertical-align: middle;\n",
       "    }\n",
       "\n",
       "    .dataframe tbody tr th {\n",
       "        vertical-align: top;\n",
       "    }\n",
       "\n",
       "    .dataframe thead th {\n",
       "        text-align: right;\n",
       "    }\n",
       "</style>\n",
       "<table border=\"1\" class=\"dataframe\">\n",
       "  <thead>\n",
       "    <tr style=\"text-align: right;\">\n",
       "      <th></th>\n",
       "      <th>rating</th>\n",
       "      <th>title</th>\n",
       "      <th>genres</th>\n",
       "    </tr>\n",
       "    <tr>\n",
       "      <th>movieId</th>\n",
       "      <th></th>\n",
       "      <th></th>\n",
       "      <th></th>\n",
       "    </tr>\n",
       "  </thead>\n",
       "  <tbody>\n",
       "    <tr>\n",
       "      <th>2019</th>\n",
       "      <td>4.560510</td>\n",
       "      <td>Seven Samurai (The Magnificent Seven) (Shichin...</td>\n",
       "      <td>Action|Drama</td>\n",
       "    </tr>\n",
       "    <tr>\n",
       "      <th>318</th>\n",
       "      <td>4.554558</td>\n",
       "      <td>Shawshank Redemption, The (1994)</td>\n",
       "      <td>Drama</td>\n",
       "    </tr>\n",
       "    <tr>\n",
       "      <th>858</th>\n",
       "      <td>4.524966</td>\n",
       "      <td>Godfather, The (1972)</td>\n",
       "      <td>Action|Crime|Drama</td>\n",
       "    </tr>\n",
       "    <tr>\n",
       "      <th>745</th>\n",
       "      <td>4.520548</td>\n",
       "      <td>Close Shave, A (1995)</td>\n",
       "      <td>Animation|Comedy|Thriller</td>\n",
       "    </tr>\n",
       "    <tr>\n",
       "      <th>50</th>\n",
       "      <td>4.517106</td>\n",
       "      <td>Usual Suspects, The (1995)</td>\n",
       "      <td>Crime|Thriller</td>\n",
       "    </tr>\n",
       "  </tbody>\n",
       "</table>\n",
       "</div>"
      ],
      "text/plain": [
       "           rating                                              title  \\\n",
       "movieId                                                                \n",
       "2019     4.560510  Seven Samurai (The Magnificent Seven) (Shichin...   \n",
       "318      4.554558                   Shawshank Redemption, The (1994)   \n",
       "858      4.524966                              Godfather, The (1972)   \n",
       "745      4.520548                              Close Shave, A (1995)   \n",
       "50       4.517106                         Usual Suspects, The (1995)   \n",
       "\n",
       "                            genres  \n",
       "movieId                             \n",
       "2019                  Action|Drama  \n",
       "318                          Drama  \n",
       "858             Action|Crime|Drama  \n",
       "745      Animation|Comedy|Thriller  \n",
       "50                  Crime|Thriller  "
      ]
     },
     "execution_count": 14,
     "metadata": {},
     "output_type": "execute_result"
    }
   ],
   "source": [
    "rating_top5_df"
   ]
  },
  {
   "cell_type": "code",
   "execution_count": 15,
   "metadata": {},
   "outputs": [
    {
     "data": {
      "image/png": "[encoded data removed]",
      "text/plain": [
       "<Figure size 1200x800 with 1 Axes>"
      ]
     },
     "metadata": {},
     "output_type": "display_data"
    }
   ],
   "source": [
    "# 가장 평점이 높은 영화 top5\n",
    "\n",
    "plt.figure(figsize=(12, 8))\n",
    "sns.set(style=\"whitegrid\")\n",
    "ax = sns.barplot(x='rating', y='title', data=rating_top5_df)\n",
    "plt.xlabel('Rating')\n",
    "plt.ylabel('Title')\n",
    "plt.title('Top 5 Movies by Rating')\n",
    "# x축 범위 설정\n",
    "plt.xlim(0, 5)\n",
    "\n",
    "# 각 막대의 중간에 레이팅 값 표시\n",
    "for p in ax.patches:\n",
    "    rating_value = p.get_width()  # 막대의 너비(레이팅 값)\n",
    "    title = p.get_y() + p.get_height() / 2  # 막대의 중간 y 좌표\n",
    "    ax.text(rating_value + 0.05, title, f'{rating_value:.3f}', va='center')  # 숫자 표시\n",
    "\n",
    "plt.show()"
   ]
  },
  {
   "cell_type": "code",
   "execution_count": 16,
   "metadata": {},
   "outputs": [
    {
     "data": {
      "text/html": [
       "<div>\n",
       "<style scoped>\n",
       "    .dataframe tbody tr th:only-of-type {\n",
       "        vertical-align: middle;\n",
       "    }\n",
       "\n",
       "    .dataframe tbody tr th {\n",
       "        vertical-align: top;\n",
       "    }\n",
       "\n",
       "    .dataframe thead th {\n",
       "        text-align: right;\n",
       "    }\n",
       "</style>\n",
       "<table border=\"1\" class=\"dataframe\">\n",
       "  <thead>\n",
       "    <tr style=\"text-align: right;\">\n",
       "      <th></th>\n",
       "      <th>movieId</th>\n",
       "      <th>title</th>\n",
       "      <th>genres</th>\n",
       "    </tr>\n",
       "  </thead>\n",
       "  <tbody>\n",
       "    <tr>\n",
       "      <th>0</th>\n",
       "      <td>1</td>\n",
       "      <td>Toy Story (1995)</td>\n",
       "      <td>[Animation, Children's, Comedy]</td>\n",
       "    </tr>\n",
       "    <tr>\n",
       "      <th>1</th>\n",
       "      <td>2</td>\n",
       "      <td>Jumanji (1995)</td>\n",
       "      <td>[Adventure, Children's, Fantasy]</td>\n",
       "    </tr>\n",
       "    <tr>\n",
       "      <th>2</th>\n",
       "      <td>3</td>\n",
       "      <td>Grumpier Old Men (1995)</td>\n",
       "      <td>[Comedy, Romance]</td>\n",
       "    </tr>\n",
       "    <tr>\n",
       "      <th>3</th>\n",
       "      <td>4</td>\n",
       "      <td>Waiting to Exhale (1995)</td>\n",
       "      <td>[Comedy, Drama]</td>\n",
       "    </tr>\n",
       "    <tr>\n",
       "      <th>4</th>\n",
       "      <td>5</td>\n",
       "      <td>Father of the Bride Part II (1995)</td>\n",
       "      <td>[Comedy]</td>\n",
       "    </tr>\n",
       "    <tr>\n",
       "      <th>...</th>\n",
       "      <td>...</td>\n",
       "      <td>...</td>\n",
       "      <td>...</td>\n",
       "    </tr>\n",
       "    <tr>\n",
       "      <th>3878</th>\n",
       "      <td>3948</td>\n",
       "      <td>Meet the Parents (2000)</td>\n",
       "      <td>[Comedy]</td>\n",
       "    </tr>\n",
       "    <tr>\n",
       "      <th>3879</th>\n",
       "      <td>3949</td>\n",
       "      <td>Requiem for a Dream (2000)</td>\n",
       "      <td>[Drama]</td>\n",
       "    </tr>\n",
       "    <tr>\n",
       "      <th>3880</th>\n",
       "      <td>3950</td>\n",
       "      <td>Tigerland (2000)</td>\n",
       "      <td>[Drama]</td>\n",
       "    </tr>\n",
       "    <tr>\n",
       "      <th>3881</th>\n",
       "      <td>3951</td>\n",
       "      <td>Two Family House (2000)</td>\n",
       "      <td>[Drama]</td>\n",
       "    </tr>\n",
       "    <tr>\n",
       "      <th>3882</th>\n",
       "      <td>3952</td>\n",
       "      <td>Contender, The (2000)</td>\n",
       "      <td>[Drama, Thriller]</td>\n",
       "    </tr>\n",
       "  </tbody>\n",
       "</table>\n",
       "<p>3883 rows × 3 columns</p>\n",
       "</div>"
      ],
      "text/plain": [
       "      movieId                               title  \\\n",
       "0           1                    Toy Story (1995)   \n",
       "1           2                      Jumanji (1995)   \n",
       "2           3             Grumpier Old Men (1995)   \n",
       "3           4            Waiting to Exhale (1995)   \n",
       "4           5  Father of the Bride Part II (1995)   \n",
       "...       ...                                 ...   \n",
       "3878     3948             Meet the Parents (2000)   \n",
       "3879     3949          Requiem for a Dream (2000)   \n",
       "3880     3950                    Tigerland (2000)   \n",
       "3881     3951             Two Family House (2000)   \n",
       "3882     3952               Contender, The (2000)   \n",
       "\n",
       "                                genres  \n",
       "0      [Animation, Children's, Comedy]  \n",
       "1     [Adventure, Children's, Fantasy]  \n",
       "2                    [Comedy, Romance]  \n",
       "3                      [Comedy, Drama]  \n",
       "4                             [Comedy]  \n",
       "...                                ...  \n",
       "3878                          [Comedy]  \n",
       "3879                           [Drama]  \n",
       "3880                           [Drama]  \n",
       "3881                           [Drama]  \n",
       "3882                 [Drama, Thriller]  \n",
       "\n",
       "[3883 rows x 3 columns]"
      ]
     },
     "execution_count": 16,
     "metadata": {},
     "output_type": "execute_result"
    }
   ],
   "source": [
    "movies_df_top = movies_df.copy()\n",
    "\n",
    "movies_df_top['genres'] = movies_df['genres'].str.split('|')\n",
    "\n",
    "movies_df_top"
   ]
  },
  {
   "cell_type": "code",
   "execution_count": 17,
   "metadata": {},
   "outputs": [
    {
     "data": {
      "text/html": [
       "<div>\n",
       "<style scoped>\n",
       "    .dataframe tbody tr th:only-of-type {\n",
       "        vertical-align: middle;\n",
       "    }\n",
       "\n",
       "    .dataframe tbody tr th {\n",
       "        vertical-align: top;\n",
       "    }\n",
       "\n",
       "    .dataframe thead th {\n",
       "        text-align: right;\n",
       "    }\n",
       "</style>\n",
       "<table border=\"1\" class=\"dataframe\">\n",
       "  <thead>\n",
       "    <tr style=\"text-align: right;\">\n",
       "      <th></th>\n",
       "      <th>movieId</th>\n",
       "      <th>title</th>\n",
       "      <th>genres</th>\n",
       "    </tr>\n",
       "  </thead>\n",
       "  <tbody>\n",
       "    <tr>\n",
       "      <th>0</th>\n",
       "      <td>1</td>\n",
       "      <td>Toy Story (1995)</td>\n",
       "      <td>Animation</td>\n",
       "    </tr>\n",
       "    <tr>\n",
       "      <th>0</th>\n",
       "      <td>1</td>\n",
       "      <td>Toy Story (1995)</td>\n",
       "      <td>Children's</td>\n",
       "    </tr>\n",
       "    <tr>\n",
       "      <th>0</th>\n",
       "      <td>1</td>\n",
       "      <td>Toy Story (1995)</td>\n",
       "      <td>Comedy</td>\n",
       "    </tr>\n",
       "    <tr>\n",
       "      <th>1</th>\n",
       "      <td>2</td>\n",
       "      <td>Jumanji (1995)</td>\n",
       "      <td>Adventure</td>\n",
       "    </tr>\n",
       "    <tr>\n",
       "      <th>1</th>\n",
       "      <td>2</td>\n",
       "      <td>Jumanji (1995)</td>\n",
       "      <td>Children's</td>\n",
       "    </tr>\n",
       "    <tr>\n",
       "      <th>...</th>\n",
       "      <td>...</td>\n",
       "      <td>...</td>\n",
       "      <td>...</td>\n",
       "    </tr>\n",
       "    <tr>\n",
       "      <th>3879</th>\n",
       "      <td>3949</td>\n",
       "      <td>Requiem for a Dream (2000)</td>\n",
       "      <td>Drama</td>\n",
       "    </tr>\n",
       "    <tr>\n",
       "      <th>3880</th>\n",
       "      <td>3950</td>\n",
       "      <td>Tigerland (2000)</td>\n",
       "      <td>Drama</td>\n",
       "    </tr>\n",
       "    <tr>\n",
       "      <th>3881</th>\n",
       "      <td>3951</td>\n",
       "      <td>Two Family House (2000)</td>\n",
       "      <td>Drama</td>\n",
       "    </tr>\n",
       "    <tr>\n",
       "      <th>3882</th>\n",
       "      <td>3952</td>\n",
       "      <td>Contender, The (2000)</td>\n",
       "      <td>Drama</td>\n",
       "    </tr>\n",
       "    <tr>\n",
       "      <th>3882</th>\n",
       "      <td>3952</td>\n",
       "      <td>Contender, The (2000)</td>\n",
       "      <td>Thriller</td>\n",
       "    </tr>\n",
       "  </tbody>\n",
       "</table>\n",
       "<p>6408 rows × 3 columns</p>\n",
       "</div>"
      ],
      "text/plain": [
       "      movieId                       title      genres\n",
       "0           1            Toy Story (1995)   Animation\n",
       "0           1            Toy Story (1995)  Children's\n",
       "0           1            Toy Story (1995)      Comedy\n",
       "1           2              Jumanji (1995)   Adventure\n",
       "1           2              Jumanji (1995)  Children's\n",
       "...       ...                         ...         ...\n",
       "3879     3949  Requiem for a Dream (2000)       Drama\n",
       "3880     3950            Tigerland (2000)       Drama\n",
       "3881     3951     Two Family House (2000)       Drama\n",
       "3882     3952       Contender, The (2000)       Drama\n",
       "3882     3952       Contender, The (2000)    Thriller\n",
       "\n",
       "[6408 rows x 3 columns]"
      ]
     },
     "execution_count": 17,
     "metadata": {},
     "output_type": "execute_result"
    }
   ],
   "source": [
    "movies_expanded = movies_df_top.explode('genres')\n",
    "movies_expanded"
   ]
  },
  {
   "cell_type": "code",
   "execution_count": 18,
   "metadata": {},
   "outputs": [],
   "source": [
    "# 장르별 레이팅 평균 계산\n",
    "genre_rating_mean = ratings_df.merge(movies_expanded, on='movieId').groupby('genres')['rating'].mean()"
   ]
  },
  {
   "cell_type": "code",
   "execution_count": 19,
   "metadata": {},
   "outputs": [],
   "source": [
    "genre_top_5 = genre_rating_mean.sort_values(ascending=False).head(5)"
   ]
  },
  {
   "cell_type": "code",
   "execution_count": 20,
   "metadata": {},
   "outputs": [],
   "source": [
    "genre_rating_df = pd.DataFrame(list(genre_top_5.items()), columns=['genres', 'rating'])"
   ]
  },
  {
   "cell_type": "code",
   "execution_count": 21,
   "metadata": {},
   "outputs": [
    {
     "data": {
      "image/png": "[encoded data removed]",
      "text/plain": [
       "<Figure size 1200x800 with 1 Axes>"
      ]
     },
     "metadata": {},
     "output_type": "display_data"
    }
   ],
   "source": [
    "# 가장 평점이 높은 장르 top5\n",
    "\n",
    "plt.figure(figsize=(12, 8))\n",
    "sns.set(style=\"whitegrid\")\n",
    "ax = sns.barplot(x='rating', y='genres', data=genre_rating_df)\n",
    "plt.xlabel('Rating')\n",
    "plt.ylabel('Genres')\n",
    "plt.title('Average Ratings by Genre')\n",
    "plt.xlim(0, 5)\n",
    "\n",
    "# 각 막대의 중간에 레이팅 값 표시\n",
    "for p in ax.patches:\n",
    "    rating_value = p.get_width()  # 막대의 너비(레이팅 값)\n",
    "    title = p.get_y() + p.get_height() / 2  # 막대의 중간 y 좌표\n",
    "    ax.text(rating_value + 0.05, title, f'{rating_value:.3f}', va='center')  # 숫자 표시\n",
    "\n",
    "plt.show()"
   ]
  },
  {
   "cell_type": "code",
   "execution_count": 22,
   "metadata": {},
   "outputs": [
    {
     "data": {
      "text/plain": [
       "Occupation\n",
       "4     759\n",
       "0     711\n",
       "7     679\n",
       "1     528\n",
       "17    502\n",
       "12    388\n",
       "14    302\n",
       "20    281\n",
       "2     267\n",
       "16    241\n",
       "6     236\n",
       "10    195\n",
       "3     173\n",
       "15    144\n",
       "13    142\n",
       "11    129\n",
       "5     112\n",
       "9      92\n",
       "19     72\n",
       "18     70\n",
       "8      17\n",
       "Name: count, dtype: int64"
      ]
     },
     "execution_count": 22,
     "metadata": {},
     "output_type": "execute_result"
    }
   ],
   "source": [
    "users_df['Occupation'].value_counts()"
   ]
  },
  {
   "cell_type": "code",
   "execution_count": 23,
   "metadata": {},
   "outputs": [
    {
     "data": {
      "image/png": "[encoded data removed]",
      "text/plain": [
       "<Figure size 1000x600 with 1 Axes>"
      ]
     },
     "metadata": {},
     "output_type": "display_data"
    }
   ],
   "source": [
    "# 사용자의 직업과 평가 데이터를 병합\n",
    "merged_data = ratings_df.merge(users_df, on='userId', how='inner')\n",
    "\n",
    "# 직업별 평가 데이터 그룹화\n",
    "occupation_ratings = merged_data.groupby('Occupation')['rating'].count().reset_index()\n",
    "occupation_ratings = occupation_ratings.sort_values(by='Occupation', ascending=True)\n",
    "\n",
    "# 시각화\n",
    "plt.figure(figsize=(10, 6))\n",
    "plt.bar(occupation_ratings['Occupation'], occupation_ratings['rating'])\n",
    "plt.xlabel('Occupation')\n",
    "plt.ylabel('Number of Ratings')\n",
    "plt.title('Number of Ratings by Occupation')\n",
    "plt.xticks(np.arange(len(occupation_ratings)), rotation=90)\n",
    "plt.tight_layout()\n",
    "plt.show()"
   ]
  },
  {
   "cell_type": "markdown",
   "metadata": {},
   "source": [
    "#### Cosine 유사도 기반(컨텐츠 기반)"
   ]
  },
  {
   "cell_type": "markdown",
   "metadata": {},
   "source": [
    "$$cosine(X_r, X_s) = \\frac{X_r \\cdot X_s}{\\parallel X_r \\parallel \\parallel X_s \\parallel} = \\frac{\\sum_{i=1}^n X_{ri}X_{si}}{\\sqrt{\\sum_{i=1}^n X_{ri}^2}\\sqrt{\\sum_{i=1}^n X_{si}^2}}$$"
   ]
  },
  {
   "cell_type": "code",
   "execution_count": 24,
   "metadata": {},
   "outputs": [
    {
     "name": "stdout",
     "output_type": "stream",
     "text": [
      "0.9031334566143822\n"
     ]
    }
   ],
   "source": [
    "import numpy as np\n",
    "\n",
    "def cosine_similarity(a, b):\n",
    "    return np.dot(a, b) / (np.linalg.norm(a) * (np.linalg.norm(b)))\n",
    "\n",
    "print(cosine_similarity([3, 10, 7, 2], [2, 15, 10, 12]))"
   ]
  },
  {
   "cell_type": "code",
   "execution_count": 25,
   "metadata": {},
   "outputs": [],
   "source": [
    "# 영화 전체 movieID\n",
    "array1 = movies_df['movieId'].unique()"
   ]
  },
  {
   "cell_type": "code",
   "execution_count": 26,
   "metadata": {},
   "outputs": [],
   "source": [
    "# 평점 매긴 전체 movieID\n",
    "array2 = ratings_df['movieId'].unique()"
   ]
  },
  {
   "cell_type": "code",
   "execution_count": 27,
   "metadata": {},
   "outputs": [
    {
     "name": "stdout",
     "output_type": "stream",
     "text": [
      "Missing elements in array2: [51, 109, 115, 143, 284, 285, 395, 399, 400, 403, 604, 620, 625, 629, 636, 654, 675, 676, 683, 693, 699, 713, 721, 723, 727, 738, 739, 752, 768, 770, 772, 773, 777, 794, 795, 797, 812, 816, 819, 822, 825, 845, 855, 856, 857, 871, 873, 890, 894, 979, 983, 1001, 1045, 1052, 1065, 1075, 1106, 1108, 1109, 1110, 1122, 1137, 1140, 1141, 1143, 1146, 1155, 1156, 1157, 1158, 1159, 1166, 1308, 1309, 1314, 1318, 1319, 1368, 1400, 1424, 1443, 1448, 1462, 1467, 1524, 1557, 1559, 1568, 1577, 1578, 1628, 1697, 1698, 1705, 1706, 1708, 1710, 1716, 1723, 1738, 1740, 1742, 1757, 1765, 1768, 1774, 1776, 1781, 1789, 1819, 1847, 2030, 2199, 2216, 2220, 2222, 2224, 2225, 2228, 2229, 2230, 2270, 2274, 2319, 2489, 2508, 2547, 2564, 2588, 2595, 2601, 2603, 2604, 2680, 2684, 2698, 2832, 2838, 2910, 2954, 2957, 2958, 2980, 3009, 3023, 3059, 3080, 3170, 3191, 3193, 3195, 3226, 3227, 3231, 3234, 3278, 3279, 3332, 3348, 3356, 3369, 3383, 3411, 3455, 3541, 3558, 3560, 3561, 3582, 3583, 3589, 3630, 3650, 3750, 3829, 3856, 3907]\n"
     ]
    }
   ],
   "source": [
    "# 영화ID는 있지만 평점매긴영화ID에는 없는 원소 찾기\n",
    "missing_elements = [element for element in array1 if element not in array2]\n",
    "print(\"Missing elements in array2:\", missing_elements)"
   ]
  },
  {
   "cell_type": "code",
   "execution_count": 28,
   "metadata": {},
   "outputs": [
    {
     "data": {
      "text/plain": [
       "177"
      ]
     },
     "execution_count": 28,
     "metadata": {},
     "output_type": "execute_result"
    }
   ],
   "source": [
    "len(missing_elements)"
   ]
  },
  {
   "cell_type": "code",
   "execution_count": 29,
   "metadata": {},
   "outputs": [
    {
     "data": {
      "text/plain": [
       "177"
      ]
     },
     "execution_count": 29,
     "metadata": {},
     "output_type": "execute_result"
    }
   ],
   "source": [
    "# 전체영화개수에서 밑에 영화-사용자평점행렬 생성한 개수 빼보기\n",
    "3883 - 3706 # 위와 동일\n",
    "# 177개의 영화에 대해서는 평점이 매겨지지 않음."
   ]
  },
  {
   "cell_type": "code",
   "execution_count": 30,
   "metadata": {},
   "outputs": [
    {
     "name": "stdout",
     "output_type": "stream",
     "text": [
      "Recommended movies for user 1\n",
      "Movie: American President, The (1995)\n",
      "Movie: Ace Ventura: When Nature Calls (1995)\n",
      "Movie: Babe (1995)\n",
      "Movie: Birdcage, The (1996)\n",
      "Movie: Basketball Diaries, The (1995)\n"
     ]
    }
   ],
   "source": [
    "from sklearn.metrics.pairwise import cosine_similarity\n",
    "\n",
    "# 영화-사용자 평점 행렬 생성\n",
    "user_movie_ratings = ratings_df.pivot(index='userId', columns='movieId', values='rating')\n",
    "\n",
    "# 사용자 간 유사도 계산\n",
    "user_similarity = cosine_similarity(user_movie_ratings.fillna(0))\n",
    "\n",
    "# 추천 함수 수정\n",
    "def recommend_movie(user_id, user_similarity, user_movie_ratings, num_recommendations=5):\n",
    "    \n",
    "    global similar_users, new_recommendations, user_rated_movies\n",
    "\n",
    "    similar_users = user_similarity[user_id].argsort()[::-1][1:]  # 유사도가 높은 순서로 정렬 (자기 자신 제외)\n",
    "    user_rated_movies = user_movie_ratings.loc[user_id].dropna().index  # 사용자가 평가한 영화\n",
    "    recommendations = []\n",
    "    \n",
    "    for user in similar_users:\n",
    "        similar_user_rated_movies = user_movie_ratings.loc[user].dropna().index\n",
    "        new_recommendations = similar_user_rated_movies.difference(user_rated_movies)\n",
    "        recommendations.extend(new_recommendations)\n",
    "        if len(recommendations) >= num_recommendations:\n",
    "            break\n",
    "            \n",
    "    return recommendations[:num_recommendations]\n",
    "\n",
    "# 예시 사용자에게 영화 추천\n",
    "user_id = 1  # 원하는 사용자 ID 입력\n",
    "recommended_movies = recommend_movie(user_id, user_similarity, user_movie_ratings)\n",
    "print(\"Recommended movies for user\", user_id)\n",
    "recommended_movie_titles = movies_df[movies_df['movieId'].isin(recommended_movies)]['title']\n",
    "for title in recommended_movie_titles:\n",
    "    print(\"Movie:\", title)"
   ]
  },
  {
   "cell_type": "code",
   "execution_count": 31,
   "metadata": {},
   "outputs": [
    {
     "data": {
      "text/html": [
       "<div>\n",
       "<style scoped>\n",
       "    .dataframe tbody tr th:only-of-type {\n",
       "        vertical-align: middle;\n",
       "    }\n",
       "\n",
       "    .dataframe tbody tr th {\n",
       "        vertical-align: top;\n",
       "    }\n",
       "\n",
       "    .dataframe thead th {\n",
       "        text-align: right;\n",
       "    }\n",
       "</style>\n",
       "<table border=\"1\" class=\"dataframe\">\n",
       "  <thead>\n",
       "    <tr style=\"text-align: right;\">\n",
       "      <th></th>\n",
       "      <th>movieId</th>\n",
       "      <th>title</th>\n",
       "      <th>genres</th>\n",
       "    </tr>\n",
       "  </thead>\n",
       "  <tbody>\n",
       "    <tr>\n",
       "      <th>10</th>\n",
       "      <td>11</td>\n",
       "      <td>American President, The (1995)</td>\n",
       "      <td>Comedy|Drama|Romance</td>\n",
       "    </tr>\n",
       "    <tr>\n",
       "      <th>18</th>\n",
       "      <td>19</td>\n",
       "      <td>Ace Ventura: When Nature Calls (1995)</td>\n",
       "      <td>Comedy</td>\n",
       "    </tr>\n",
       "    <tr>\n",
       "      <th>33</th>\n",
       "      <td>34</td>\n",
       "      <td>Babe (1995)</td>\n",
       "      <td>Children's|Comedy|Drama</td>\n",
       "    </tr>\n",
       "    <tr>\n",
       "      <th>139</th>\n",
       "      <td>141</td>\n",
       "      <td>Birdcage, The (1996)</td>\n",
       "      <td>Comedy</td>\n",
       "    </tr>\n",
       "    <tr>\n",
       "      <th>145</th>\n",
       "      <td>147</td>\n",
       "      <td>Basketball Diaries, The (1995)</td>\n",
       "      <td>Drama</td>\n",
       "    </tr>\n",
       "  </tbody>\n",
       "</table>\n",
       "</div>"
      ],
      "text/plain": [
       "     movieId                                  title                   genres\n",
       "10        11         American President, The (1995)     Comedy|Drama|Romance\n",
       "18        19  Ace Ventura: When Nature Calls (1995)                   Comedy\n",
       "33        34                            Babe (1995)  Children's|Comedy|Drama\n",
       "139      141                   Birdcage, The (1996)                   Comedy\n",
       "145      147         Basketball Diaries, The (1995)                    Drama"
      ]
     },
     "execution_count": 31,
     "metadata": {},
     "output_type": "execute_result"
    }
   ],
   "source": [
    "movies_df[movies_df['movieId'].isin(recommended_movies)]"
   ]
  },
  {
   "cell_type": "code",
   "execution_count": 32,
   "metadata": {},
   "outputs": [
    {
     "data": {
      "text/plain": [
       "0     1193\n",
       "1      661\n",
       "2      914\n",
       "3     3408\n",
       "4     2355\n",
       "5     1197\n",
       "6     1287\n",
       "7     2804\n",
       "8      594\n",
       "9      919\n",
       "10     595\n",
       "11     938\n",
       "12    2398\n",
       "13    2918\n",
       "14    1035\n",
       "15    2791\n",
       "16    2687\n",
       "17    2018\n",
       "18    3105\n",
       "19    2797\n",
       "20    2321\n",
       "21     720\n",
       "22    1270\n",
       "23     527\n",
       "24    2340\n",
       "25      48\n",
       "26    1097\n",
       "27    1721\n",
       "28    1545\n",
       "29     745\n",
       "30    2294\n",
       "31    3186\n",
       "32    1566\n",
       "33     588\n",
       "34    1907\n",
       "35     783\n",
       "36    1836\n",
       "37    1022\n",
       "38    2762\n",
       "39     150\n",
       "40       1\n",
       "41    1961\n",
       "42    1962\n",
       "43    2692\n",
       "44     260\n",
       "45    1028\n",
       "46    1029\n",
       "47    1207\n",
       "48    2028\n",
       "49     531\n",
       "50    3114\n",
       "51     608\n",
       "52    1246\n",
       "Name: movieId, dtype: int64"
      ]
     },
     "execution_count": 32,
     "metadata": {},
     "output_type": "execute_result"
    }
   ],
   "source": [
    "ratings_df.loc[ratings_df['userId']==1]['movieId']"
   ]
  },
  {
   "cell_type": "markdown",
   "metadata": {},
   "source": [
    "### Surprise 설치가 안되는중... ㅜㅜ"
   ]
  },
  {
   "cell_type": "code",
   "execution_count": 33,
   "metadata": {},
   "outputs": [],
   "source": [
    "# from surprise.model_selection import train_test_split\n",
    "# from surprise import SVD, accuracy\n",
    "\n",
    "# trainset, testset = train_test_split(ratings_df, test_size=0.2)\n",
    "\n",
    "# # SVD 모델 생성\n",
    "# model = SVD(n_factors=100, n_epochs=20, verbose=True)\n",
    "\n",
    "# # 모델 학습\n",
    "# model.fit(trainset)\n",
    "\n",
    "# # 테스트 및 성능 평가\n",
    "# predictions = model.test(testset)\n",
    "# rmse = accuracy.rmse(predictions)\n",
    "# mae = accuracy.mae(predictions)\n",
    "\n",
    "# print(\"RMSE:\", rmse)\n",
    "# print(\"MAE:\", mae)\n",
    "\n",
    "# # 특정 사용자에게 영화 추천\n",
    "# user_id = 1\n",
    "# user_items = set(map(lambda x: x[1], filter(lambda x: x[0] == user_id, testset)))\n",
    "# recommendations = model.get_top_n(testset, n=10)\n",
    "\n",
    "# print(\"\\nRecommended movies for user\", user_id)\n",
    "# for movie_id, _ in recommendations[user_id]:\n",
    "#     if movie_id not in user_items:\n",
    "#         print(\"Movie:\", movie_id)"
   ]
  },
  {
   "cell_type": "markdown",
   "metadata": {},
   "source": [
    "### 기초적인 인기도 기반 추천시스템?"
   ]
  },
  {
   "cell_type": "code",
   "execution_count": 34,
   "metadata": {},
   "outputs": [
    {
     "data": {
      "text/html": [
       "<div>\n",
       "<style scoped>\n",
       "    .dataframe tbody tr th:only-of-type {\n",
       "        vertical-align: middle;\n",
       "    }\n",
       "\n",
       "    .dataframe tbody tr th {\n",
       "        vertical-align: top;\n",
       "    }\n",
       "\n",
       "    .dataframe thead th {\n",
       "        text-align: right;\n",
       "    }\n",
       "</style>\n",
       "<table border=\"1\" class=\"dataframe\">\n",
       "  <thead>\n",
       "    <tr style=\"text-align: right;\">\n",
       "      <th></th>\n",
       "      <th>movieId</th>\n",
       "      <th>title</th>\n",
       "      <th>genres</th>\n",
       "    </tr>\n",
       "  </thead>\n",
       "  <tbody>\n",
       "    <tr>\n",
       "      <th>0</th>\n",
       "      <td>1</td>\n",
       "      <td>Toy Story (1995)</td>\n",
       "      <td>Animation|Children's|Comedy</td>\n",
       "    </tr>\n",
       "    <tr>\n",
       "      <th>1</th>\n",
       "      <td>2</td>\n",
       "      <td>Jumanji (1995)</td>\n",
       "      <td>Adventure|Children's|Fantasy</td>\n",
       "    </tr>\n",
       "    <tr>\n",
       "      <th>2</th>\n",
       "      <td>3</td>\n",
       "      <td>Grumpier Old Men (1995)</td>\n",
       "      <td>Comedy|Romance</td>\n",
       "    </tr>\n",
       "    <tr>\n",
       "      <th>3</th>\n",
       "      <td>4</td>\n",
       "      <td>Waiting to Exhale (1995)</td>\n",
       "      <td>Comedy|Drama</td>\n",
       "    </tr>\n",
       "    <tr>\n",
       "      <th>4</th>\n",
       "      <td>5</td>\n",
       "      <td>Father of the Bride Part II (1995)</td>\n",
       "      <td>Comedy</td>\n",
       "    </tr>\n",
       "    <tr>\n",
       "      <th>...</th>\n",
       "      <td>...</td>\n",
       "      <td>...</td>\n",
       "      <td>...</td>\n",
       "    </tr>\n",
       "    <tr>\n",
       "      <th>3878</th>\n",
       "      <td>3948</td>\n",
       "      <td>Meet the Parents (2000)</td>\n",
       "      <td>Comedy</td>\n",
       "    </tr>\n",
       "    <tr>\n",
       "      <th>3879</th>\n",
       "      <td>3949</td>\n",
       "      <td>Requiem for a Dream (2000)</td>\n",
       "      <td>Drama</td>\n",
       "    </tr>\n",
       "    <tr>\n",
       "      <th>3880</th>\n",
       "      <td>3950</td>\n",
       "      <td>Tigerland (2000)</td>\n",
       "      <td>Drama</td>\n",
       "    </tr>\n",
       "    <tr>\n",
       "      <th>3881</th>\n",
       "      <td>3951</td>\n",
       "      <td>Two Family House (2000)</td>\n",
       "      <td>Drama</td>\n",
       "    </tr>\n",
       "    <tr>\n",
       "      <th>3882</th>\n",
       "      <td>3952</td>\n",
       "      <td>Contender, The (2000)</td>\n",
       "      <td>Drama|Thriller</td>\n",
       "    </tr>\n",
       "  </tbody>\n",
       "</table>\n",
       "<p>3883 rows × 3 columns</p>\n",
       "</div>"
      ],
      "text/plain": [
       "      movieId                               title  \\\n",
       "0           1                    Toy Story (1995)   \n",
       "1           2                      Jumanji (1995)   \n",
       "2           3             Grumpier Old Men (1995)   \n",
       "3           4            Waiting to Exhale (1995)   \n",
       "4           5  Father of the Bride Part II (1995)   \n",
       "...       ...                                 ...   \n",
       "3878     3948             Meet the Parents (2000)   \n",
       "3879     3949          Requiem for a Dream (2000)   \n",
       "3880     3950                    Tigerland (2000)   \n",
       "3881     3951             Two Family House (2000)   \n",
       "3882     3952               Contender, The (2000)   \n",
       "\n",
       "                            genres  \n",
       "0      Animation|Children's|Comedy  \n",
       "1     Adventure|Children's|Fantasy  \n",
       "2                   Comedy|Romance  \n",
       "3                     Comedy|Drama  \n",
       "4                           Comedy  \n",
       "...                            ...  \n",
       "3878                        Comedy  \n",
       "3879                         Drama  \n",
       "3880                         Drama  \n",
       "3881                         Drama  \n",
       "3882                Drama|Thriller  \n",
       "\n",
       "[3883 rows x 3 columns]"
      ]
     },
     "execution_count": 34,
     "metadata": {},
     "output_type": "execute_result"
    }
   ],
   "source": [
    "movies_df"
   ]
  },
  {
   "cell_type": "code",
   "execution_count": 35,
   "metadata": {},
   "outputs": [
    {
     "data": {
      "text/html": [
       "<div>\n",
       "<style scoped>\n",
       "    .dataframe tbody tr th:only-of-type {\n",
       "        vertical-align: middle;\n",
       "    }\n",
       "\n",
       "    .dataframe tbody tr th {\n",
       "        vertical-align: top;\n",
       "    }\n",
       "\n",
       "    .dataframe thead tr th {\n",
       "        text-align: left;\n",
       "    }\n",
       "\n",
       "    .dataframe thead tr:last-of-type th {\n",
       "        text-align: right;\n",
       "    }\n",
       "</style>\n",
       "<table border=\"1\" class=\"dataframe\">\n",
       "  <thead>\n",
       "    <tr>\n",
       "      <th></th>\n",
       "      <th colspan=\"2\" halign=\"left\">rating</th>\n",
       "      <th>title</th>\n",
       "    </tr>\n",
       "    <tr>\n",
       "      <th></th>\n",
       "      <th>count</th>\n",
       "      <th>mean</th>\n",
       "      <th></th>\n",
       "    </tr>\n",
       "    <tr>\n",
       "      <th>movieId</th>\n",
       "      <th></th>\n",
       "      <th></th>\n",
       "      <th></th>\n",
       "    </tr>\n",
       "  </thead>\n",
       "  <tbody>\n",
       "    <tr>\n",
       "      <th>1</th>\n",
       "      <td>2077</td>\n",
       "      <td>4.146846</td>\n",
       "      <td>Toy Story (1995)</td>\n",
       "    </tr>\n",
       "    <tr>\n",
       "      <th>2</th>\n",
       "      <td>701</td>\n",
       "      <td>3.201141</td>\n",
       "      <td>Jumanji (1995)</td>\n",
       "    </tr>\n",
       "    <tr>\n",
       "      <th>3</th>\n",
       "      <td>478</td>\n",
       "      <td>3.016736</td>\n",
       "      <td>Grumpier Old Men (1995)</td>\n",
       "    </tr>\n",
       "    <tr>\n",
       "      <th>4</th>\n",
       "      <td>170</td>\n",
       "      <td>2.729412</td>\n",
       "      <td>Waiting to Exhale (1995)</td>\n",
       "    </tr>\n",
       "    <tr>\n",
       "      <th>5</th>\n",
       "      <td>296</td>\n",
       "      <td>3.006757</td>\n",
       "      <td>Father of the Bride Part II (1995)</td>\n",
       "    </tr>\n",
       "    <tr>\n",
       "      <th>...</th>\n",
       "      <td>...</td>\n",
       "      <td>...</td>\n",
       "      <td>...</td>\n",
       "    </tr>\n",
       "    <tr>\n",
       "      <th>3948</th>\n",
       "      <td>862</td>\n",
       "      <td>3.635731</td>\n",
       "      <td>Meet the Parents (2000)</td>\n",
       "    </tr>\n",
       "    <tr>\n",
       "      <th>3949</th>\n",
       "      <td>304</td>\n",
       "      <td>4.115132</td>\n",
       "      <td>Requiem for a Dream (2000)</td>\n",
       "    </tr>\n",
       "    <tr>\n",
       "      <th>3950</th>\n",
       "      <td>54</td>\n",
       "      <td>3.666667</td>\n",
       "      <td>Tigerland (2000)</td>\n",
       "    </tr>\n",
       "    <tr>\n",
       "      <th>3951</th>\n",
       "      <td>40</td>\n",
       "      <td>3.900000</td>\n",
       "      <td>Two Family House (2000)</td>\n",
       "    </tr>\n",
       "    <tr>\n",
       "      <th>3952</th>\n",
       "      <td>388</td>\n",
       "      <td>3.780928</td>\n",
       "      <td>Contender, The (2000)</td>\n",
       "    </tr>\n",
       "  </tbody>\n",
       "</table>\n",
       "<p>3706 rows × 3 columns</p>\n",
       "</div>"
      ],
      "text/plain": [
       "        rating                                         title\n",
       "         count      mean                                    \n",
       "movieId                                                     \n",
       "1         2077  4.146846                    Toy Story (1995)\n",
       "2          701  3.201141                      Jumanji (1995)\n",
       "3          478  3.016736             Grumpier Old Men (1995)\n",
       "4          170  2.729412            Waiting to Exhale (1995)\n",
       "5          296  3.006757  Father of the Bride Part II (1995)\n",
       "...        ...       ...                                 ...\n",
       "3948       862  3.635731             Meet the Parents (2000)\n",
       "3949       304  4.115132          Requiem for a Dream (2000)\n",
       "3950        54  3.666667                    Tigerland (2000)\n",
       "3951        40  3.900000             Two Family House (2000)\n",
       "3952       388  3.780928               Contender, The (2000)\n",
       "\n",
       "[3706 rows x 3 columns]"
      ]
     },
     "execution_count": 35,
     "metadata": {},
     "output_type": "execute_result"
    }
   ],
   "source": [
    "# movies_df의 인덱스를 'movieId'로 설정\n",
    "movies_df_sample = movies_df.set_index('movieId')\n",
    "\n",
    "movie_ratings = ratings_df.groupby('movieId') \\\n",
    "                            .agg({'rating' : ['count', 'mean']})\n",
    "movie_ratings['title'] = movies_df_sample['title']\n",
    "\n",
    "movie_ratings"
   ]
  },
  {
   "cell_type": "code",
   "execution_count": 36,
   "metadata": {},
   "outputs": [
    {
     "name": "stdout",
     "output_type": "stream",
     "text": [
      "429.0\n"
     ]
    }
   ],
   "source": [
    "# 'rating' 컬럼의 'count' 값을 추출하여 시리즈로 변환\n",
    "count_series = movie_ratings[('rating', 'count')]\n",
    "\n",
    "# 80% 분위수 계산\n",
    "quantile_80 = count_series.quantile(0.8)\n",
    "\n",
    "print(quantile_80)"
   ]
  },
  {
   "cell_type": "code",
   "execution_count": 37,
   "metadata": {},
   "outputs": [
    {
     "data": {
      "text/html": [
       "<div>\n",
       "<style scoped>\n",
       "    .dataframe tbody tr th:only-of-type {\n",
       "        vertical-align: middle;\n",
       "    }\n",
       "\n",
       "    .dataframe tbody tr th {\n",
       "        vertical-align: top;\n",
       "    }\n",
       "\n",
       "    .dataframe thead tr th {\n",
       "        text-align: left;\n",
       "    }\n",
       "\n",
       "    .dataframe thead tr:last-of-type th {\n",
       "        text-align: right;\n",
       "    }\n",
       "</style>\n",
       "<table border=\"1\" class=\"dataframe\">\n",
       "  <thead>\n",
       "    <tr>\n",
       "      <th></th>\n",
       "      <th colspan=\"2\" halign=\"left\">rating</th>\n",
       "      <th>title</th>\n",
       "    </tr>\n",
       "    <tr>\n",
       "      <th></th>\n",
       "      <th>count</th>\n",
       "      <th>mean</th>\n",
       "      <th></th>\n",
       "    </tr>\n",
       "    <tr>\n",
       "      <th>movieId</th>\n",
       "      <th></th>\n",
       "      <th></th>\n",
       "      <th></th>\n",
       "    </tr>\n",
       "  </thead>\n",
       "  <tbody>\n",
       "    <tr>\n",
       "      <th>2019</th>\n",
       "      <td>628</td>\n",
       "      <td>4.560510</td>\n",
       "      <td>Seven Samurai (The Magnificent Seven) (Shichin...</td>\n",
       "    </tr>\n",
       "    <tr>\n",
       "      <th>318</th>\n",
       "      <td>2227</td>\n",
       "      <td>4.554558</td>\n",
       "      <td>Shawshank Redemption, The (1994)</td>\n",
       "    </tr>\n",
       "    <tr>\n",
       "      <th>858</th>\n",
       "      <td>2223</td>\n",
       "      <td>4.524966</td>\n",
       "      <td>Godfather, The (1972)</td>\n",
       "    </tr>\n",
       "    <tr>\n",
       "      <th>745</th>\n",
       "      <td>657</td>\n",
       "      <td>4.520548</td>\n",
       "      <td>Close Shave, A (1995)</td>\n",
       "    </tr>\n",
       "    <tr>\n",
       "      <th>50</th>\n",
       "      <td>1783</td>\n",
       "      <td>4.517106</td>\n",
       "      <td>Usual Suspects, The (1995)</td>\n",
       "    </tr>\n",
       "    <tr>\n",
       "      <th>527</th>\n",
       "      <td>2304</td>\n",
       "      <td>4.510417</td>\n",
       "      <td>Schindler's List (1993)</td>\n",
       "    </tr>\n",
       "    <tr>\n",
       "      <th>1148</th>\n",
       "      <td>882</td>\n",
       "      <td>4.507937</td>\n",
       "      <td>Wrong Trousers, The (1993)</td>\n",
       "    </tr>\n",
       "    <tr>\n",
       "      <th>922</th>\n",
       "      <td>470</td>\n",
       "      <td>4.491489</td>\n",
       "      <td>Sunset Blvd. (a.k.a. Sunset Boulevard) (1950)</td>\n",
       "    </tr>\n",
       "    <tr>\n",
       "      <th>1198</th>\n",
       "      <td>2514</td>\n",
       "      <td>4.477725</td>\n",
       "      <td>Raiders of the Lost Ark (1981)</td>\n",
       "    </tr>\n",
       "    <tr>\n",
       "      <th>904</th>\n",
       "      <td>1050</td>\n",
       "      <td>4.476190</td>\n",
       "      <td>Rear Window (1954)</td>\n",
       "    </tr>\n",
       "  </tbody>\n",
       "</table>\n",
       "</div>"
      ],
      "text/plain": [
       "        rating                                                        title\n",
       "         count      mean                                                   \n",
       "movieId                                                                    \n",
       "2019       628  4.560510  Seven Samurai (The Magnificent Seven) (Shichin...\n",
       "318       2227  4.554558                   Shawshank Redemption, The (1994)\n",
       "858       2223  4.524966                              Godfather, The (1972)\n",
       "745        657  4.520548                              Close Shave, A (1995)\n",
       "50        1783  4.517106                         Usual Suspects, The (1995)\n",
       "527       2304  4.510417                            Schindler's List (1993)\n",
       "1148       882  4.507937                         Wrong Trousers, The (1993)\n",
       "922        470  4.491489      Sunset Blvd. (a.k.a. Sunset Boulevard) (1950)\n",
       "1198      2514  4.477725                     Raiders of the Lost Ark (1981)\n",
       "904       1050  4.476190                                 Rear Window (1954)"
      ]
     },
     "execution_count": 37,
     "metadata": {},
     "output_type": "execute_result"
    }
   ],
   "source": [
    "movie_ratings[movie_ratings[(\"rating\", \"count\")] >= 429] \\\n",
    "             .sort_values([(\"rating\", \"mean\"), (\"rating\", \"count\")], ascending=[False, False]) \\\n",
    "             .head(10)"
   ]
  },
  {
   "cell_type": "markdown",
   "metadata": {},
   "source": [
    "### TF-IDF 코사인유사도 기법?"
   ]
  },
  {
   "cell_type": "markdown",
   "metadata": {},
   "source": [
    "- 피어슨 유사도\n",
    "- 각 벡터의 표본평균으로 normalization을 하고, 코사인 유사도를 구하면 그게 곧 피어슨 유사도 식\n",
    "$$r_{rs} = \\frac{\\sum_{i=1}^n (X_{ri} - \\overline{X_r}) (X_{si} - \\overline{X_s})}{\\sqrt{\\sum_{i=1}^n (X_{ri} - \\overline{X_r})^2}\\sqrt{\\sum_{i=1}^n (X_{si} - \\overline{X_s})^2}}$$"
   ]
  },
  {
   "cell_type": "code",
   "execution_count": 38,
   "metadata": {},
   "outputs": [
    {
     "name": "stdout",
     "output_type": "stream",
     "text": [
      "1050            Aladdin and the King of Thieves (1996)\n",
      "2072                          American Tail, An (1986)\n",
      "2073        American Tail: Fievel Goes West, An (1991)\n",
      "2285                         Rugrats Movie, The (1998)\n",
      "2286                              Bug's Life, A (1998)\n",
      "3045                                Toy Story 2 (1999)\n",
      "3542                             Saludos Amigos (1943)\n",
      "3682                                Chicken Run (2000)\n",
      "3685    Adventures of Rocky and Bullwinkle, The (2000)\n",
      "12                                        Balto (1995)\n",
      "Name: title, dtype: object\n"
     ]
    }
   ],
   "source": [
    "from sklearn.feature_extraction.text import TfidfVectorizer\n",
    "from sklearn.metrics.pairwise import linear_kernel\n",
    "\n",
    "# TF-IDF 벡터화\n",
    "tfidf_vectorizer = TfidfVectorizer(stop_words='english')\n",
    "tfidf_matrix = tfidf_vectorizer.fit_transform(movies_df['genres'])\n",
    "\n",
    "# 코사인 유사도 계산\n",
    "cosine_sim = linear_kernel(tfidf_matrix, tfidf_matrix)\n",
    "\n",
    "# 영화 제목과 인덱스 매핑\n",
    "title_to_index = pd.Series(movies_df.index, index=movies_df['title'])\n",
    "\n",
    "# 추천 함수 정의\n",
    "def recommend_movie(title, cosine_sim=cosine_sim):\n",
    "    idx = title_to_index[title]\n",
    "    sim_scores = list(enumerate(cosine_sim[idx]))\n",
    "    sim_scores = sorted(sim_scores, key=lambda x: x[1], reverse=True)\n",
    "    sim_scores = sim_scores[1:11]  # 자기 자신은 제외하고 상위 10개 선택\n",
    "    movie_indices = [score[0] for score in sim_scores]\n",
    "    return movies_df['title'].iloc[movie_indices]\n",
    "\n",
    "# 영화 추천\n",
    "recommended_movies = recommend_movie('Toy Story (1995)')\n",
    "print(recommended_movies)"
   ]
  },
  {
   "cell_type": "markdown",
   "metadata": {},
   "source": [
    "### Kmeans 클러스터링 이용한건데 이상해서 보류"
   ]
  },
  {
   "cell_type": "code",
   "execution_count": 39,
   "metadata": {},
   "outputs": [],
   "source": [
    "# import pandas as pd\n",
    "# from sklearn.feature_extraction.text import TfidfVectorizer\n",
    "# from sklearn.cluster import KMeans\n",
    "# from sklearn.metrics.pairwise import cosine_similarity\n",
    "\n",
    "# # TF-IDF 벡터화\n",
    "# tfidf_vectorizer = TfidfVectorizer(stop_words='english')\n",
    "# tfidf_matrix = tfidf_vectorizer.fit_transform(movies_df['genres'])\n",
    "\n",
    "# # K-Means 군집화\n",
    "# num_clusters = 5\n",
    "# kmeans = KMeans(n_clusters=num_clusters, random_state=0)\n",
    "# kmeans.fit(tfidf_matrix)\n",
    "# movies_df['cluster'] = kmeans.labels_\n",
    "\n",
    "# def recommend_movies_for_user(user_id, num_recommendations=5):\n",
    "#     # 해당 사용자가 시청한 영화들의 클러스터를 가져옴\n",
    "#     user_movie_ratings = ratings_df[ratings_df['userId'] == user_id]\n",
    "#     user_rated_movie_titles = movies_df[movies_df['movieId'].isin(user_movie_ratings['movieId'])]['title']\n",
    "#     user_clusters = movies_df[movies_df['title'].isin(user_rated_movie_titles)]['cluster'].values\n",
    "\n",
    "#     # 클러스터 내의 다른 영화들을 추천\n",
    "#     recommended_movies = []\n",
    "#     for cluster in user_clusters:\n",
    "#         cluster_movies = movies_df[movies_df['cluster'] == cluster]['title']\n",
    "#         cluster_movies = cluster_movies[~cluster_movies.isin(user_rated_movie_titles)]\n",
    "#         recommended_movies.extend(cluster_movies)\n",
    "    \n",
    "#     return recommended_movies[:num_recommendations]\n",
    "\n",
    "# # 예시 사용자에게 영화 추천\n",
    "# user_id = 1  # 원하는 사용자 ID 입력\n",
    "# recommended_movies = recommend_movies_for_user(user_id)\n",
    "# print(f\"Recommended movies for user {user_id}:\")\n",
    "# for title in recommended_movies:\n",
    "#     print(title)"
   ]
  },
  {
   "cell_type": "markdown",
   "metadata": {},
   "source": [
    "### 실험"
   ]
  },
  {
   "cell_type": "code",
   "execution_count": 40,
   "metadata": {},
   "outputs": [
    {
     "name": "stdout",
     "output_type": "stream",
     "text": [
      "Recommended movies for user 1:\n",
      "Aladdin (1992)\n",
      "Fargo (1996)\n",
      "Steamboat Willie (1940)\n",
      "Last Summer in the Hamptons (1995)\n",
      "Karate Kid, Part II, The (1986)\n"
     ]
    }
   ],
   "source": [
    "# TF-IDF 벡터화\n",
    "tfidf_vectorizer = TfidfVectorizer(stop_words='english')\n",
    "tfidf_matrix = tfidf_vectorizer.fit_transform(movies_df['genres'])\n",
    "\n",
    "# 코사인 유사도 계산\n",
    "cosine_sim = linear_kernel(tfidf_matrix, tfidf_matrix)\n",
    "\n",
    "# 영화 추천 함수\n",
    "def get_movie_recommendations(movie_title, cosine_sim=cosine_sim, num_recommendations=5):\n",
    "    idx = movies_df[movies_df['title'] == movie_title].index[0]\n",
    "    sim_scores = list(enumerate(cosine_sim[idx]))\n",
    "    sim_scores = sorted(sim_scores, key=lambda x: x[1], reverse=True)\n",
    "    sim_scores = sim_scores[1:(num_recommendations + 1)]  # 상위 n개 유사한 영화 선택\n",
    "    movie_indices = [score[0] for score in sim_scores]\n",
    "    return movies_df['title'].iloc[movie_indices]\n",
    "\n",
    "# 사용자 아이디를 입력받아 해당 사용자가 평가한 영화를 찾고, 그 영화들을 기반으로 추천\n",
    "user_id = int(input(\"Enter your user ID: \"))\n",
    "user_rated_movies = ratings_df[ratings_df['userId'] == user_id]['movieId']\n",
    "recommended_movies = []\n",
    "\n",
    "for movie_id in user_rated_movies:\n",
    "    movie_title = movies_df[movies_df['movieId'] == movie_id]['title'].values[0]\n",
    "    recommended_movies.extend(get_movie_recommendations(movie_title, num_recommendations=5))\n",
    "\n",
    "recommended_movies = list(set(recommended_movies))  # 중복 제거\n",
    "print(f\"Recommended movies for user {user_id}:\")\n",
    "for i, movie_title in enumerate(recommended_movies):\n",
    "    print(movie_title)\n",
    "    if i >= 4:  # 0부터 시작하므로 4까지 루프를 돌면 5개 출력됩니다.\n",
    "        break"
   ]
  },
  {
   "cell_type": "code",
   "execution_count": 41,
   "metadata": {},
   "outputs": [
    {
     "data": {
      "text/html": [
       "<div>\n",
       "<style scoped>\n",
       "    .dataframe tbody tr th:only-of-type {\n",
       "        vertical-align: middle;\n",
       "    }\n",
       "\n",
       "    .dataframe tbody tr th {\n",
       "        vertical-align: top;\n",
       "    }\n",
       "\n",
       "    .dataframe thead th {\n",
       "        text-align: right;\n",
       "    }\n",
       "</style>\n",
       "<table border=\"1\" class=\"dataframe\">\n",
       "  <thead>\n",
       "    <tr style=\"text-align: right;\">\n",
       "      <th></th>\n",
       "      <th>movieId</th>\n",
       "      <th>title</th>\n",
       "      <th>genres</th>\n",
       "    </tr>\n",
       "  </thead>\n",
       "  <tbody>\n",
       "    <tr>\n",
       "      <th>62</th>\n",
       "      <td>63</td>\n",
       "      <td>Don't Be a Menace to South Central While Drink...</td>\n",
       "      <td>Comedy</td>\n",
       "    </tr>\n",
       "  </tbody>\n",
       "</table>\n",
       "</div>"
      ],
      "text/plain": [
       "    movieId                                              title  genres\n",
       "62       63  Don't Be a Menace to South Central While Drink...  Comedy"
      ]
     },
     "execution_count": 41,
     "metadata": {},
     "output_type": "execute_result"
    }
   ],
   "source": [
    "movies_df.loc[movies_df['title']==\"Don't Be a Menace to South Central While Drinking Your Juice in the Hood (1996)\"]"
   ]
  },
  {
   "cell_type": "code",
   "execution_count": 42,
   "metadata": {},
   "outputs": [
    {
     "data": {
      "text/html": [
       "<div>\n",
       "<style scoped>\n",
       "    .dataframe tbody tr th:only-of-type {\n",
       "        vertical-align: middle;\n",
       "    }\n",
       "\n",
       "    .dataframe tbody tr th {\n",
       "        vertical-align: top;\n",
       "    }\n",
       "\n",
       "    .dataframe thead th {\n",
       "        text-align: right;\n",
       "    }\n",
       "</style>\n",
       "<table border=\"1\" class=\"dataframe\">\n",
       "  <thead>\n",
       "    <tr style=\"text-align: right;\">\n",
       "      <th></th>\n",
       "      <th>userId</th>\n",
       "      <th>movieId</th>\n",
       "      <th>rating</th>\n",
       "      <th>timestamp</th>\n",
       "      <th>title</th>\n",
       "      <th>genres</th>\n",
       "    </tr>\n",
       "  </thead>\n",
       "  <tbody>\n",
       "    <tr>\n",
       "      <th>0</th>\n",
       "      <td>1</td>\n",
       "      <td>1193</td>\n",
       "      <td>5</td>\n",
       "      <td>978300760</td>\n",
       "      <td>One Flew Over the Cuckoo's Nest (1975)</td>\n",
       "      <td>Drama</td>\n",
       "    </tr>\n",
       "    <tr>\n",
       "      <th>1</th>\n",
       "      <td>1</td>\n",
       "      <td>661</td>\n",
       "      <td>3</td>\n",
       "      <td>978302109</td>\n",
       "      <td>James and the Giant Peach (1996)</td>\n",
       "      <td>Animation|Children's|Musical</td>\n",
       "    </tr>\n",
       "    <tr>\n",
       "      <th>2</th>\n",
       "      <td>1</td>\n",
       "      <td>914</td>\n",
       "      <td>3</td>\n",
       "      <td>978301968</td>\n",
       "      <td>My Fair Lady (1964)</td>\n",
       "      <td>Musical|Romance</td>\n",
       "    </tr>\n",
       "    <tr>\n",
       "      <th>3</th>\n",
       "      <td>1</td>\n",
       "      <td>3408</td>\n",
       "      <td>4</td>\n",
       "      <td>978300275</td>\n",
       "      <td>Erin Brockovich (2000)</td>\n",
       "      <td>Drama</td>\n",
       "    </tr>\n",
       "    <tr>\n",
       "      <th>4</th>\n",
       "      <td>1</td>\n",
       "      <td>2355</td>\n",
       "      <td>5</td>\n",
       "      <td>978824291</td>\n",
       "      <td>Bug's Life, A (1998)</td>\n",
       "      <td>Animation|Children's|Comedy</td>\n",
       "    </tr>\n",
       "  </tbody>\n",
       "</table>\n",
       "</div>"
      ],
      "text/plain": [
       "   userId  movieId  rating  timestamp                                   title  \\\n",
       "0       1     1193       5  978300760  One Flew Over the Cuckoo's Nest (1975)   \n",
       "1       1      661       3  978302109        James and the Giant Peach (1996)   \n",
       "2       1      914       3  978301968                     My Fair Lady (1964)   \n",
       "3       1     3408       4  978300275                  Erin Brockovich (2000)   \n",
       "4       1     2355       5  978824291                    Bug's Life, A (1998)   \n",
       "\n",
       "                         genres  \n",
       "0                         Drama  \n",
       "1  Animation|Children's|Musical  \n",
       "2               Musical|Romance  \n",
       "3                         Drama  \n",
       "4   Animation|Children's|Comedy  "
      ]
     },
     "execution_count": 42,
     "metadata": {},
     "output_type": "execute_result"
    }
   ],
   "source": [
    "ratings_df.loc[ratings_df['userId']==1].merge(movies_df, on='movieId').head()"
   ]
  },
  {
   "cell_type": "markdown",
   "metadata": {},
   "source": [
    "### 기존 베이스코드 확인용"
   ]
  },
  {
   "cell_type": "code",
   "execution_count": 43,
   "metadata": {},
   "outputs": [],
   "source": [
    "import spacy\n",
    "import re\n",
    "from gensim.models import Word2Vec\n",
    "\n",
    "nlp = spacy.load('en_core_web_sm')\n",
    "wv = Word2Vec.load(\"./models/word2vec.model\").wv\n",
    "\n",
    "def tokenizer(sentence):\n",
    "    doc = nlp(sentence)\n",
    "    word_list = [token.lemma_ for token in doc[:-3]]\n",
    "    \n",
    "    return word_list\n",
    "\n",
    "def vectorizer(token_list):\n",
    "    vector=0\n",
    "    for token in token_list:\n",
    "        vector += wv[token]\n",
    "    return vector / len(token_list)"
   ]
  },
  {
   "cell_type": "code",
   "execution_count": 44,
   "metadata": {},
   "outputs": [
    {
     "data": {
      "text/plain": [
       "0                             [Toy, Story]\n",
       "1                                [Jumanji]\n",
       "2                     [Grumpier, Old, Men]\n",
       "3                       [wait, to, Exhale]\n",
       "4       [Father, of, the, Bride, Part, II]\n",
       "                       ...                \n",
       "3878                  [meet, the, Parents]\n",
       "3879              [requiem, for, a, Dream]\n",
       "3880                           [Tigerland]\n",
       "3881                  [two, Family, House]\n",
       "3882                   [Contender, ,, the]\n",
       "Name: title, Length: 3883, dtype: object"
      ]
     },
     "execution_count": 44,
     "metadata": {},
     "output_type": "execute_result"
    }
   ],
   "source": [
    "tokens = movies_df['title'].apply(tokenizer)\n",
    "tokens"
   ]
  },
  {
   "cell_type": "code",
   "execution_count": 45,
   "metadata": {},
   "outputs": [
    {
     "data": {
      "text/plain": [
       "0       [0.0054866513, 0.0032308605, 0.0013986481, 0.0...\n",
       "1       [-0.0006995118, -0.0023238945, 0.0070697903, 0...\n",
       "2       [0.003346272, 0.002474196, 0.0029867303, -0.00...\n",
       "3       [0.006451275, 0.004833282, 0.00618937, -0.0055...\n",
       "4       [0.000665534, 0.01464364, 0.004658632, 0.00657...\n",
       "                              ...                        \n",
       "3878    [0.0014647451, 0.011758839, 0.0045830016, 0.00...\n",
       "3879    [-0.0031211274, 0.007642671, 0.005658868, 0.00...\n",
       "3880    [0.0009737313, 0.00430058, 0.004994031, 0.0013...\n",
       "3881    [-0.0040753265, -0.0034061226, -0.0034471836, ...\n",
       "3882    [-0.004033853, 0.025354007, 0.011837549, 0.012...\n",
       "Name: title, Length: 3883, dtype: object"
      ]
     },
     "execution_count": 45,
     "metadata": {},
     "output_type": "execute_result"
    }
   ],
   "source": [
    "w2v = Word2Vec(sentences=tokens, vector_size = 100, window = 2, min_count = 1, workers = 4, sg= 0)\n",
    "\n",
    "wv = w2v.wv\n",
    "\n",
    "vectors = tokens.apply(vectorizer)\n",
    "vectors"
   ]
  },
  {
   "cell_type": "code",
   "execution_count": 46,
   "metadata": {},
   "outputs": [
    {
     "data": {
      "text/plain": [
       "0       [1.42654, -0.93405104, -1.17714, -0.17778003, ...\n",
       "1       [0.42144004, -1.93853, -0.42549, -0.23044002, ...\n",
       "2       [-0.6199, -1.231791, -1.51003, -0.83217, -0.50...\n",
       "3       [-0.70461, -0.103062004, 0.13604, -0.91016, -0...\n",
       "4       [-0.02061, -0.018991, -0.33583, -0.71372, -0.3...\n",
       "                              ...                        \n",
       "3878    [-0.02061, -0.018991, -0.33583, -0.71372, -0.3...\n",
       "3879    [-0.684, -0.084071, 0.47187, -0.19644, -0.4484...\n",
       "3880    [-0.684, -0.084071, 0.47187, -0.19644, -0.4484...\n",
       "3881    [-0.684, -0.084071, 0.47187, -0.19644, -0.4484...\n",
       "3882    [-0.99079, -0.35396102, -0.69253, -0.71013, -0...\n",
       "Name: genres, Length: 3883, dtype: object"
      ]
     },
     "execution_count": 46,
     "metadata": {},
     "output_type": "execute_result"
    }
   ],
   "source": [
    "import gensim.downloader as api\n",
    "\n",
    "wv2 = api.load('glove-twitter-100')\n",
    "\n",
    "def gen2vec(sentence):\n",
    "    vector = 0\n",
    "    for g in sentence.split('|'):\n",
    "        if g.lower() == \"children's\":\n",
    "            g = \"children\"\n",
    "        elif g.lower() == \"film-noir\":\n",
    "            g = \"noir\"\n",
    "\n",
    "        vector += wv2[g.lower()]\n",
    "    return vector\n",
    "\n",
    "g_vector = movies_df['genres'].apply(gen2vec)\n",
    "g_vector"
   ]
  },
  {
   "cell_type": "code",
   "execution_count": 47,
   "metadata": {},
   "outputs": [
    {
     "data": {
      "text/plain": [
       "0       [1.42654, -0.93405104, -1.17714, -0.17778003, ...\n",
       "1       [0.42144004, -1.93853, -0.42549, -0.23044002, ...\n",
       "2       [-0.6199, -1.231791, -1.51003, -0.83217, -0.50...\n",
       "3       [-0.70461, -0.103062004, 0.13604, -0.91016, -0...\n",
       "4       [-0.02061, -0.018991, -0.33583, -0.71372, -0.3...\n",
       "                              ...                        \n",
       "3878    [-0.02061, -0.018991, -0.33583, -0.71372, -0.3...\n",
       "3879    [-0.684, -0.084071, 0.47187, -0.19644, -0.4484...\n",
       "3880    [-0.684, -0.084071, 0.47187, -0.19644, -0.4484...\n",
       "3881    [-0.684, -0.084071, 0.47187, -0.19644, -0.4484...\n",
       "3882    [-0.99079, -0.35396102, -0.69253, -0.71013, -0...\n",
       "Name: genres, Length: 3883, dtype: object"
      ]
     },
     "execution_count": 47,
     "metadata": {},
     "output_type": "execute_result"
    }
   ],
   "source": [
    "g_vector"
   ]
  },
  {
   "cell_type": "code",
   "execution_count": 48,
   "metadata": {},
   "outputs": [],
   "source": [
    "#훈련 데이터 생성\n",
    "cbf_vectors = ((vectors.to_numpy() + g_vector.to_numpy()) / 2).tolist()\n",
    "cbf_data = np.zeros((movies_df['movieId'].max()+1, 100))\n",
    "\n",
    "for idx, vec in zip(movies_df['movieId'], cbf_vectors):\n",
    "    cbf_data[idx] = vec"
   ]
  },
  {
   "cell_type": "code",
   "execution_count": 49,
   "metadata": {},
   "outputs": [
    {
     "data": {
      "text/plain": [
       "array([[ 0.        ,  0.        ,  0.        , ...,  0.        ,\n",
       "         0.        ,  0.        ],\n",
       "       [ 0.71601331, -0.46541008, -0.58787066, ..., -0.32836464,\n",
       "         0.03358372,  0.43909499],\n",
       "       [ 0.21037026, -0.97042692, -0.2092101 , ...,  0.62405741,\n",
       "        -0.12289575,  0.31501853],\n",
       "       ...,\n",
       "       [-0.34151316, -0.03988521,  0.23843202, ...,  0.06137858,\n",
       "        -0.28577647, -0.03957826],\n",
       "       [-0.34403768, -0.04373856,  0.23421142, ...,  0.0585944 ,\n",
       "        -0.29058266, -0.04149549],\n",
       "       [-0.49741194, -0.16430351, -0.34034622, ...,  0.39904594,\n",
       "        -0.29104164,  0.03970239]])"
      ]
     },
     "execution_count": 49,
     "metadata": {},
     "output_type": "execute_result"
    }
   ],
   "source": [
    "cbf_data"
   ]
  },
  {
   "cell_type": "markdown",
   "metadata": {},
   "source": [
    "### tag추가 해보려다 태그없는영화가 너무 많음..."
   ]
  },
  {
   "cell_type": "code",
   "execution_count": 50,
   "metadata": {},
   "outputs": [
    {
     "data": {
      "text/plain": [
       "0        4973\n",
       "1        1747\n",
       "2        1747\n",
       "3        2424\n",
       "4        2424\n",
       "         ... \n",
       "95575    1377\n",
       "95576    2424\n",
       "95577    3033\n",
       "95578    3081\n",
       "95579    7438\n",
       "Name: movieId, Length: 95580, dtype: int64"
      ]
     },
     "execution_count": 50,
     "metadata": {},
     "output_type": "execute_result"
    }
   ],
   "source": [
    "tags_df['movieId']"
   ]
  },
  {
   "cell_type": "code",
   "execution_count": 70,
   "metadata": {},
   "outputs": [],
   "source": [
    "# 태그 전체 movieId\n",
    "array3 = tags_df['movieId'].unique()\n",
    "# rating 전체 movieId\n",
    "array2 = movies_df['movieId'].unique()"
   ]
  },
  {
   "cell_type": "code",
   "execution_count": 77,
   "metadata": {},
   "outputs": [
    {
     "data": {
      "text/html": [
       "<div>\n",
       "<style scoped>\n",
       "    .dataframe tbody tr th:only-of-type {\n",
       "        vertical-align: middle;\n",
       "    }\n",
       "\n",
       "    .dataframe tbody tr th {\n",
       "        vertical-align: top;\n",
       "    }\n",
       "\n",
       "    .dataframe thead th {\n",
       "        text-align: right;\n",
       "    }\n",
       "</style>\n",
       "<table border=\"1\" class=\"dataframe\">\n",
       "  <thead>\n",
       "    <tr style=\"text-align: right;\">\n",
       "      <th></th>\n",
       "      <th>userId</th>\n",
       "      <th>movieId</th>\n",
       "      <th>tag</th>\n",
       "      <th>timestamp</th>\n",
       "    </tr>\n",
       "  </thead>\n",
       "  <tbody>\n",
       "  </tbody>\n",
       "</table>\n",
       "</div>"
      ],
      "text/plain": [
       "Empty DataFrame\n",
       "Columns: [userId, movieId, tag, timestamp]\n",
       "Index: []"
      ]
     },
     "execution_count": 77,
     "metadata": {},
     "output_type": "execute_result"
    }
   ],
   "source": [
    "tags_df[tags_df['movieId']==3940]"
   ]
  },
  {
   "cell_type": "code",
   "execution_count": 71,
   "metadata": {},
   "outputs": [
    {
     "name": "stdout",
     "output_type": "stream",
     "text": [
      "Missing elements in array2: [27, 30, 33, 37, 51, 56, 61, 64, 73, 77, 84, 87, 90, 99, 102, 106, 108, 109, 113, 115, 118, 119, 120, 124, 126, 127, 128, 130, 131, 133, 137, 138, 139, 142, 143, 146, 159, 182, 192, 195, 197, 200, 206, 209, 210, 211, 212, 217, 219, 226, 228, 238, 241, 243, 244, 245, 254, 255, 267, 268, 269, 274, 278, 283, 284, 285, 286, 287, 294, 295, 297, 304, 310, 311, 313, 330, 331, 335, 336, 341, 343, 359, 360, 366, 375, 378, 384, 385, 386, 387, 388, 391, 396, 397, 398, 399, 400, 401, 402, 403, 406, 408, 409, 411, 414, 429, 430, 437, 438, 439, 447, 449, 450, 452, 453, 462, 463, 473, 476, 478, 479, 486, 487, 498, 510, 525, 526, 528, 530, 545, 557, 560, 561, 564, 566, 569, 570, 571, 572, 573, 575, 576, 577, 578, 579, 580, 582, 583, 584, 591, 601, 603, 604, 607, 609, 612, 613, 614, 615, 621, 623, 624, 625, 626, 633, 634, 641, 642, 643, 649, 651, 652, 654, 656, 657, 658, 660, 664, 669, 672, 675, 676, 679, 682, 683, 684, 687, 690, 693, 695, 699, 701, 703, 706, 710, 712, 713, 717, 721, 723, 726, 727, 730, 732, 734, 739, 744, 749, 752, 754, 755, 756, 758, 763, 767, 768, 769, 770, 771, 772, 773, 774, 776, 777, 779, 790, 791, 792, 793, 794, 795, 796, 797, 806, 807, 811, 812, 813, 814, 815, 816, 819, 820, 821, 822, 824, 825, 826, 828, 834, 840, 843, 844, 845, 847, 848, 850, 851, 854, 855, 856, 857, 859, 862, 863, 865, 868, 870, 871, 872, 873, 874, 875, 876, 877, 878, 879, 881, 884, 886, 887, 889, 890, 894, 895, 896, 925, 939, 957, 958, 960, 961, 962, 966, 967, 972, 975, 977, 978, 979, 980, 981, 984, 985, 987, 988, 989, 997, 998, 1000, 1001, 1002, 1039, 1045, 1052, 1055, 1058, 1062, 1063, 1065, 1067, 1070, 1075, 1087, 1098, 1102, 1105, 1106, 1107, 1108, 1109, 1110, 1112, 1113, 1115, 1117, 1118, 1121, 1122, 1134, 1137, 1138, 1139, 1141, 1142, 1143, 1144, 1145, 1146, 1151, 1152, 1154, 1155, 1158, 1159, 1160, 1163, 1164, 1165, 1166, 1170, 1174, 1181, 1205, 1294, 1308, 1309, 1312, 1313, 1314, 1315, 1316, 1317, 1318, 1319, 1322, 1324, 1325, 1326, 1328, 1330, 1336, 1341, 1355, 1360, 1362, 1364, 1368, 1369, 1383, 1384, 1386, 1397, 1400, 1410, 1415, 1420, 1421, 1424, 1426, 1432, 1433, 1434, 1436, 1439, 1443, 1444, 1448, 1453, 1455, 1458, 1460, 1462, 1463, 1467, 1468, 1470, 1471, 1472, 1473, 1486, 1490, 1493, 1494, 1495, 1501, 1504, 1510, 1511, 1514, 1516, 1522, 1523, 1524, 1525, 1528, 1532, 1533, 1534, 1535, 1538, 1539, 1543, 1550, 1551, 1553, 1557, 1559, 1561, 1563, 1564, 1565, 1571, 1574, 1575, 1577, 1578, 1579, 1581, 1582, 1583, 1585, 1592, 1596, 1598, 1600, 1601, 1612, 1613, 1614, 1621, 1622, 1623, 1630, 1636, 1640, 1642, 1647, 1651, 1652, 1654, 1659, 1661, 1662, 1664, 1666, 1667, 1668, 1671, 1689, 1692, 1697, 1698, 1703, 1705, 1706, 1708, 1709, 1710, 1714, 1715, 1716, 1718, 1720, 1723, 1724, 1728, 1738, 1740, 1741, 1742, 1743, 1746, 1750, 1756, 1758, 1759, 1764, 1768, 1771, 1774, 1776, 1780, 1781, 1782, 1787, 1788, 1793, 1795, 1796, 1798, 1811, 1814, 1817, 1820, 1824, 1825, 1826, 1830, 1842, 1843, 1847, 1849, 1851, 1852, 1854, 1857, 1861, 1863, 1864, 1867, 1868, 1869, 1870, 1871, 1872, 1877, 1878, 1886, 1890, 1896, 1898, 1903, 1905, 1908, 1910, 1915, 1922, 1988, 1989, 1990, 2007, 2008, 2017, 2026, 2030, 2032, 2035, 2037, 2039, 2041, 2044, 2045, 2049, 2055, 2056, 2062, 2063, 2079, 2086, 2091, 2095, 2098, 2101, 2103, 2113, 2151, 2156, 2157, 2165, 2168, 2169, 2172, 2175, 2190, 2192, 2195, 2197, 2199, 2207, 2213, 2214, 2215, 2216, 2217, 2219, 2220, 2222, 2224, 2226, 2228, 2230, 2233, 2234, 2235, 2239, 2240, 2242, 2244, 2246, 2250, 2251, 2254, 2255, 2256, 2260, 2267, 2274, 2276, 2277, 2286, 2292, 2293, 2298, 2299, 2305, 2306, 2307, 2309, 2315, 2317, 2319, 2326, 2327, 2332, 2339, 2341, 2343, 2350, 2364, 2372, 2374, 2385, 2386, 2397, 2400, 2415, 2418, 2426, 2434, 2438, 2449, 2452, 2456, 2462, 2464, 2466, 2473, 2479, 2480, 2484, 2486, 2487, 2489, 2492, 2493, 2495, 2499, 2504, 2507, 2508, 2510, 2514, 2515, 2522, 2523, 2526, 2534, 2536, 2537, 2540, 2543, 2544, 2545, 2547, 2548, 2552, 2556, 2558, 2562, 2564, 2568, 2569, 2574, 2576, 2577, 2584, 2586, 2588, 2589, 2591, 2592, 2595, 2601, 2603, 2604, 2611, 2614, 2619, 2620, 2621, 2623, 2626, 2631, 2645, 2656, 2658, 2659, 2663, 2666, 2667, 2669, 2678, 2679, 2680, 2684, 2685, 2689, 2696, 2698, 2703, 2705, 2711, 2714, 2715, 2733, 2740, 2741, 2743, 2744, 2749, 2754, 2755, 2756, 2758, 2760, 2766, 2767, 2768, 2771, 2773, 2776, 2777, 2781, 2786, 2789, 2809, 2811, 2812, 2813, 2814, 2817, 2818, 2823, 2830, 2831, 2832, 2834, 2835, 2838, 2842, 2844, 2854, 2855, 2856, 2865, 2866, 2869, 2874, 2876, 2878, 2884, 2885, 2892, 2893, 2909, 2910, 2911, 2914, 2923, 2938, 2945, 2954, 2957, 2960, 2963, 2974, 2977, 2980, 2981, 2982, 2992, 2999, 3001, 3009, 3021, 3023, 3025, 3026, 3027, 3041, 3042, 3048, 3049, 3056, 3057, 3059, 3069, 3073, 3080, 3084, 3085, 3096, 3106, 3117, 3118, 3119, 3120, 3122, 3123, 3124, 3126, 3128, 3131, 3136, 3137, 3139, 3149, 3162, 3164, 3170, 3177, 3180, 3184, 3187, 3191, 3193, 3209, 3212, 3215, 3220, 3227, 3228, 3229, 3230, 3233, 3234, 3236, 3237, 3239, 3240, 3242, 3245, 3277, 3279, 3280, 3286, 3288, 3290, 3291, 3293, 3295, 3302, 3308, 3312, 3314, 3315, 3319, 3321, 3322, 3323, 3327, 3329, 3345, 3346, 3348, 3349, 3352, 3353, 3356, 3366, 3369, 3370, 3380, 3381, 3382, 3383, 3389, 3395, 3402, 3407, 3410, 3411, 3413, 3414, 3416, 3419, 3434, 3436, 3446, 3449, 3453, 3454, 3460, 3464, 3465, 3474, 3482, 3485, 3486, 3488, 3491, 3493, 3496, 3497, 3501, 3509, 3514, 3517, 3520, 3522, 3523, 3530, 3531, 3532, 3533, 3537, 3541, 3542, 3553, 3558, 3561, 3567, 3568, 3571, 3572, 3573, 3574, 3575, 3576, 3580, 3582, 3585, 3589, 3592, 3595, 3596, 3597, 3602, 3603, 3605, 3610, 3612, 3613, 3616, 3621, 3625, 3630, 3636, 3641, 3642, 3646, 3647, 3648, 3651, 3655, 3656, 3657, 3659, 3661, 3662, 3663, 3664, 3666, 3667, 3673, 3674, 3687, 3689, 3711, 3714, 3718, 3721, 3722, 3731, 3743, 3746, 3748, 3750, 3757, 3762, 3764, 3772, 3774, 3778, 3780, 3787, 3790, 3792, 3794, 3797, 3800, 3803, 3817, 3818, 3828, 3829, 3838, 3839, 3842, 3846, 3848, 3850, 3853, 3856, 3864, 3865, 3866, 3870, 3876, 3878, 3884, 3885, 3886, 3888, 3890, 3898, 3899, 3900, 3901, 3903, 3904, 3907, 3908, 3909, 3912, 3913, 3919, 3920, 3922, 3924, 3934, 3935, 3938, 3940, 3941, 3943, 3944]\n"
     ]
    }
   ],
   "source": [
    "# 태그데이터 영화ID는 있지만 평점매긴영화ID에는 없는 원소 찾기\n",
    "missing_elements = [element for element in array2 if element not in array3]\n",
    "print(\"Missing elements in array2:\", missing_elements)"
   ]
  },
  {
   "cell_type": "code",
   "execution_count": 72,
   "metadata": {},
   "outputs": [
    {
     "data": {
      "text/plain": [
       "1078"
      ]
     },
     "execution_count": 72,
     "metadata": {},
     "output_type": "execute_result"
    }
   ],
   "source": [
    "# tag를 추가하면 3883개 영화중 1078개정도가 날라감... 음..\n",
    "len(missing_elements)"
   ]
  },
  {
   "cell_type": "markdown",
   "metadata": {},
   "source": [
    "### NDCG@N 계산식??"
   ]
  },
  {
   "cell_type": "code",
   "execution_count": 54,
   "metadata": {},
   "outputs": [],
   "source": [
    "import numpy as np\n",
    "\n",
    "def calculate_ndcg(recommended_movies, actual_ratings, num_recommendations):\n",
    "    # DCG 계산\n",
    "    dcg = 0\n",
    "    for i in range(num_recommendations):\n",
    "        movie = recommended_movies[i]\n",
    "        if movie in actual_ratings:\n",
    "            relevance = actual_ratings[movie]\n",
    "            dcg += (2 ** relevance - 1) / np.log2(i + 2)\n",
    "\n",
    "    # IDCG 계산\n",
    "    sorted_actual_ratings = sorted(actual_ratings.values(), reverse=True)\n",
    "    idcg = 0\n",
    "    for i in range(min(num_recommendations, len(sorted_actual_ratings))):\n",
    "        idcg += (2 ** sorted_actual_ratings[i] - 1) / np.log2(i + 2)\n",
    "\n",
    "    # NDCG 계산\n",
    "    if idcg == 0:\n",
    "        ndcg = 0\n",
    "    else:\n",
    "        ndcg = dcg / idcg\n",
    "\n",
    "    return ndcg"
   ]
  },
  {
   "cell_type": "markdown",
   "metadata": {},
   "source": [
    "### kaggle movies데이터셋의 리뷰!?"
   ]
  },
  {
   "cell_type": "code",
   "execution_count": 55,
   "metadata": {},
   "outputs": [],
   "source": [
    "kaggle_movies = pd.read_csv('./data/movies_metadata.csv', low_memory=False)"
   ]
  },
  {
   "cell_type": "code",
   "execution_count": 56,
   "metadata": {},
   "outputs": [
    {
     "data": {
      "text/html": [
       "<div>\n",
       "<style scoped>\n",
       "    .dataframe tbody tr th:only-of-type {\n",
       "        vertical-align: middle;\n",
       "    }\n",
       "\n",
       "    .dataframe tbody tr th {\n",
       "        vertical-align: top;\n",
       "    }\n",
       "\n",
       "    .dataframe thead th {\n",
       "        text-align: right;\n",
       "    }\n",
       "</style>\n",
       "<table border=\"1\" class=\"dataframe\">\n",
       "  <thead>\n",
       "    <tr style=\"text-align: right;\">\n",
       "      <th></th>\n",
       "      <th>adult</th>\n",
       "      <th>belongs_to_collection</th>\n",
       "      <th>budget</th>\n",
       "      <th>genres</th>\n",
       "      <th>homepage</th>\n",
       "      <th>id</th>\n",
       "      <th>imdb_id</th>\n",
       "      <th>original_language</th>\n",
       "      <th>original_title</th>\n",
       "      <th>overview</th>\n",
       "      <th>...</th>\n",
       "      <th>release_date</th>\n",
       "      <th>revenue</th>\n",
       "      <th>runtime</th>\n",
       "      <th>spoken_languages</th>\n",
       "      <th>status</th>\n",
       "      <th>tagline</th>\n",
       "      <th>title</th>\n",
       "      <th>video</th>\n",
       "      <th>vote_average</th>\n",
       "      <th>vote_count</th>\n",
       "    </tr>\n",
       "  </thead>\n",
       "  <tbody>\n",
       "    <tr>\n",
       "      <th>0</th>\n",
       "      <td>False</td>\n",
       "      <td>{'id': 10194, 'name': 'Toy Story Collection', ...</td>\n",
       "      <td>30000000</td>\n",
       "      <td>[{'id': 16, 'name': 'Animation'}, {'id': 35, '...</td>\n",
       "      <td>http://toystory.disney.com/toy-story</td>\n",
       "      <td>862</td>\n",
       "      <td>tt0114709</td>\n",
       "      <td>en</td>\n",
       "      <td>Toy Story</td>\n",
       "      <td>Led by Woody, Andy's toys live happily in his ...</td>\n",
       "      <td>...</td>\n",
       "      <td>1995-10-30</td>\n",
       "      <td>373554033.0</td>\n",
       "      <td>81.0</td>\n",
       "      <td>[{'iso_639_1': 'en', 'name': 'English'}]</td>\n",
       "      <td>Released</td>\n",
       "      <td>NaN</td>\n",
       "      <td>Toy Story</td>\n",
       "      <td>False</td>\n",
       "      <td>7.7</td>\n",
       "      <td>5415.0</td>\n",
       "    </tr>\n",
       "    <tr>\n",
       "      <th>1</th>\n",
       "      <td>False</td>\n",
       "      <td>NaN</td>\n",
       "      <td>65000000</td>\n",
       "      <td>[{'id': 12, 'name': 'Adventure'}, {'id': 14, '...</td>\n",
       "      <td>NaN</td>\n",
       "      <td>8844</td>\n",
       "      <td>tt0113497</td>\n",
       "      <td>en</td>\n",
       "      <td>Jumanji</td>\n",
       "      <td>When siblings Judy and Peter discover an encha...</td>\n",
       "      <td>...</td>\n",
       "      <td>1995-12-15</td>\n",
       "      <td>262797249.0</td>\n",
       "      <td>104.0</td>\n",
       "      <td>[{'iso_639_1': 'en', 'name': 'English'}, {'iso...</td>\n",
       "      <td>Released</td>\n",
       "      <td>Roll the dice and unleash the excitement!</td>\n",
       "      <td>Jumanji</td>\n",
       "      <td>False</td>\n",
       "      <td>6.9</td>\n",
       "      <td>2413.0</td>\n",
       "    </tr>\n",
       "    <tr>\n",
       "      <th>2</th>\n",
       "      <td>False</td>\n",
       "      <td>{'id': 119050, 'name': 'Grumpy Old Men Collect...</td>\n",
       "      <td>0</td>\n",
       "      <td>[{'id': 10749, 'name': 'Romance'}, {'id': 35, ...</td>\n",
       "      <td>NaN</td>\n",
       "      <td>15602</td>\n",
       "      <td>tt0113228</td>\n",
       "      <td>en</td>\n",
       "      <td>Grumpier Old Men</td>\n",
       "      <td>A family wedding reignites the ancient feud be...</td>\n",
       "      <td>...</td>\n",
       "      <td>1995-12-22</td>\n",
       "      <td>0.0</td>\n",
       "      <td>101.0</td>\n",
       "      <td>[{'iso_639_1': 'en', 'name': 'English'}]</td>\n",
       "      <td>Released</td>\n",
       "      <td>Still Yelling. Still Fighting. Still Ready for...</td>\n",
       "      <td>Grumpier Old Men</td>\n",
       "      <td>False</td>\n",
       "      <td>6.5</td>\n",
       "      <td>92.0</td>\n",
       "    </tr>\n",
       "    <tr>\n",
       "      <th>3</th>\n",
       "      <td>False</td>\n",
       "      <td>NaN</td>\n",
       "      <td>16000000</td>\n",
       "      <td>[{'id': 35, 'name': 'Comedy'}, {'id': 18, 'nam...</td>\n",
       "      <td>NaN</td>\n",
       "      <td>31357</td>\n",
       "      <td>tt0114885</td>\n",
       "      <td>en</td>\n",
       "      <td>Waiting to Exhale</td>\n",
       "      <td>Cheated on, mistreated and stepped on, the wom...</td>\n",
       "      <td>...</td>\n",
       "      <td>1995-12-22</td>\n",
       "      <td>81452156.0</td>\n",
       "      <td>127.0</td>\n",
       "      <td>[{'iso_639_1': 'en', 'name': 'English'}]</td>\n",
       "      <td>Released</td>\n",
       "      <td>Friends are the people who let you be yourself...</td>\n",
       "      <td>Waiting to Exhale</td>\n",
       "      <td>False</td>\n",
       "      <td>6.1</td>\n",
       "      <td>34.0</td>\n",
       "    </tr>\n",
       "    <tr>\n",
       "      <th>4</th>\n",
       "      <td>False</td>\n",
       "      <td>{'id': 96871, 'name': 'Father of the Bride Col...</td>\n",
       "      <td>0</td>\n",
       "      <td>[{'id': 35, 'name': 'Comedy'}]</td>\n",
       "      <td>NaN</td>\n",
       "      <td>11862</td>\n",
       "      <td>tt0113041</td>\n",
       "      <td>en</td>\n",
       "      <td>Father of the Bride Part II</td>\n",
       "      <td>Just when George Banks has recovered from his ...</td>\n",
       "      <td>...</td>\n",
       "      <td>1995-02-10</td>\n",
       "      <td>76578911.0</td>\n",
       "      <td>106.0</td>\n",
       "      <td>[{'iso_639_1': 'en', 'name': 'English'}]</td>\n",
       "      <td>Released</td>\n",
       "      <td>Just When His World Is Back To Normal... He's ...</td>\n",
       "      <td>Father of the Bride Part II</td>\n",
       "      <td>False</td>\n",
       "      <td>5.7</td>\n",
       "      <td>173.0</td>\n",
       "    </tr>\n",
       "  </tbody>\n",
       "</table>\n",
       "<p>5 rows × 24 columns</p>\n",
       "</div>"
      ],
      "text/plain": [
       "   adult                              belongs_to_collection    budget  \\\n",
       "0  False  {'id': 10194, 'name': 'Toy Story Collection', ...  30000000   \n",
       "1  False                                                NaN  65000000   \n",
       "2  False  {'id': 119050, 'name': 'Grumpy Old Men Collect...         0   \n",
       "3  False                                                NaN  16000000   \n",
       "4  False  {'id': 96871, 'name': 'Father of the Bride Col...         0   \n",
       "\n",
       "                                              genres  \\\n",
       "0  [{'id': 16, 'name': 'Animation'}, {'id': 35, '...   \n",
       "1  [{'id': 12, 'name': 'Adventure'}, {'id': 14, '...   \n",
       "2  [{'id': 10749, 'name': 'Romance'}, {'id': 35, ...   \n",
       "3  [{'id': 35, 'name': 'Comedy'}, {'id': 18, 'nam...   \n",
       "4                     [{'id': 35, 'name': 'Comedy'}]   \n",
       "\n",
       "                               homepage     id    imdb_id original_language  \\\n",
       "0  http://toystory.disney.com/toy-story    862  tt0114709                en   \n",
       "1                                   NaN   8844  tt0113497                en   \n",
       "2                                   NaN  15602  tt0113228                en   \n",
       "3                                   NaN  31357  tt0114885                en   \n",
       "4                                   NaN  11862  tt0113041                en   \n",
       "\n",
       "                original_title  \\\n",
       "0                    Toy Story   \n",
       "1                      Jumanji   \n",
       "2             Grumpier Old Men   \n",
       "3            Waiting to Exhale   \n",
       "4  Father of the Bride Part II   \n",
       "\n",
       "                                            overview  ... release_date  \\\n",
       "0  Led by Woody, Andy's toys live happily in his ...  ...   1995-10-30   \n",
       "1  When siblings Judy and Peter discover an encha...  ...   1995-12-15   \n",
       "2  A family wedding reignites the ancient feud be...  ...   1995-12-22   \n",
       "3  Cheated on, mistreated and stepped on, the wom...  ...   1995-12-22   \n",
       "4  Just when George Banks has recovered from his ...  ...   1995-02-10   \n",
       "\n",
       "       revenue runtime                                   spoken_languages  \\\n",
       "0  373554033.0    81.0           [{'iso_639_1': 'en', 'name': 'English'}]   \n",
       "1  262797249.0   104.0  [{'iso_639_1': 'en', 'name': 'English'}, {'iso...   \n",
       "2          0.0   101.0           [{'iso_639_1': 'en', 'name': 'English'}]   \n",
       "3   81452156.0   127.0           [{'iso_639_1': 'en', 'name': 'English'}]   \n",
       "4   76578911.0   106.0           [{'iso_639_1': 'en', 'name': 'English'}]   \n",
       "\n",
       "     status                                            tagline  \\\n",
       "0  Released                                                NaN   \n",
       "1  Released          Roll the dice and unleash the excitement!   \n",
       "2  Released  Still Yelling. Still Fighting. Still Ready for...   \n",
       "3  Released  Friends are the people who let you be yourself...   \n",
       "4  Released  Just When His World Is Back To Normal... He's ...   \n",
       "\n",
       "                         title  video vote_average vote_count  \n",
       "0                    Toy Story  False          7.7     5415.0  \n",
       "1                      Jumanji  False          6.9     2413.0  \n",
       "2             Grumpier Old Men  False          6.5       92.0  \n",
       "3            Waiting to Exhale  False          6.1       34.0  \n",
       "4  Father of the Bride Part II  False          5.7      173.0  \n",
       "\n",
       "[5 rows x 24 columns]"
      ]
     },
     "execution_count": 56,
     "metadata": {},
     "output_type": "execute_result"
    }
   ],
   "source": [
    "kaggle_movies.head()"
   ]
  },
  {
   "cell_type": "code",
   "execution_count": 57,
   "metadata": {},
   "outputs": [
    {
     "name": "stdout",
     "output_type": "stream",
     "text": [
      "<class 'pandas.core.frame.DataFrame'>\n",
      "RangeIndex: 45466 entries, 0 to 45465\n",
      "Data columns (total 24 columns):\n",
      " #   Column                 Non-Null Count  Dtype  \n",
      "---  ------                 --------------  -----  \n",
      " 0   adult                  45466 non-null  object \n",
      " 1   belongs_to_collection  4494 non-null   object \n",
      " 2   budget                 45466 non-null  object \n",
      " 3   genres                 45466 non-null  object \n",
      " 4   homepage               7782 non-null   object \n",
      " 5   id                     45466 non-null  object \n",
      " 6   imdb_id                45449 non-null  object \n",
      " 7   original_language      45455 non-null  object \n",
      " 8   original_title         45466 non-null  object \n",
      " 9   overview               44512 non-null  object \n",
      " 10  popularity             45461 non-null  object \n",
      " 11  poster_path            45080 non-null  object \n",
      " 12  production_companies   45463 non-null  object \n",
      " 13  production_countries   45463 non-null  object \n",
      " 14  release_date           45379 non-null  object \n",
      " 15  revenue                45460 non-null  float64\n",
      " 16  runtime                45203 non-null  float64\n",
      " 17  spoken_languages       45460 non-null  object \n",
      " 18  status                 45379 non-null  object \n",
      " 19  tagline                20412 non-null  object \n",
      " 20  title                  45460 non-null  object \n",
      " 21  video                  45460 non-null  object \n",
      " 22  vote_average           45460 non-null  float64\n",
      " 23  vote_count             45460 non-null  float64\n",
      "dtypes: float64(4), object(20)\n",
      "memory usage: 8.3+ MB\n"
     ]
    }
   ],
   "source": [
    "kaggle_movies.info()"
   ]
  },
  {
   "cell_type": "code",
   "execution_count": 58,
   "metadata": {},
   "outputs": [],
   "source": [
    "# overview 컬럼과 title 컬럼 선택\n",
    "selected_columns = ['overview', 'title']\n",
    "selected_data = kaggle_movies[selected_columns]"
   ]
  },
  {
   "cell_type": "code",
   "execution_count": 59,
   "metadata": {},
   "outputs": [
    {
     "name": "stdout",
     "output_type": "stream",
     "text": [
      "<class 'pandas.core.frame.DataFrame'>\n",
      "RangeIndex: 45466 entries, 0 to 45465\n",
      "Data columns (total 2 columns):\n",
      " #   Column    Non-Null Count  Dtype \n",
      "---  ------    --------------  ----- \n",
      " 0   overview  44512 non-null  object\n",
      " 1   title     45460 non-null  object\n",
      "dtypes: object(2)\n",
      "memory usage: 710.5+ KB\n"
     ]
    }
   ],
   "source": [
    "selected_data.info()"
   ]
  },
  {
   "cell_type": "code",
   "execution_count": 60,
   "metadata": {},
   "outputs": [],
   "source": [
    "selected_data = selected_data.dropna()"
   ]
  },
  {
   "cell_type": "code",
   "execution_count": 61,
   "metadata": {},
   "outputs": [
    {
     "name": "stdout",
     "output_type": "stream",
     "text": [
      "<class 'pandas.core.frame.DataFrame'>\n",
      "Index: 44506 entries, 0 to 45465\n",
      "Data columns (total 2 columns):\n",
      " #   Column    Non-Null Count  Dtype \n",
      "---  ------    --------------  ----- \n",
      " 0   overview  44506 non-null  object\n",
      " 1   title     44506 non-null  object\n",
      "dtypes: object(2)\n",
      "memory usage: 1.0+ MB\n"
     ]
    }
   ],
   "source": [
    "selected_data.info()"
   ]
  },
  {
   "cell_type": "code",
   "execution_count": 62,
   "metadata": {},
   "outputs": [
    {
     "data": {
      "text/html": [
       "<div>\n",
       "<style scoped>\n",
       "    .dataframe tbody tr th:only-of-type {\n",
       "        vertical-align: middle;\n",
       "    }\n",
       "\n",
       "    .dataframe tbody tr th {\n",
       "        vertical-align: top;\n",
       "    }\n",
       "\n",
       "    .dataframe thead th {\n",
       "        text-align: right;\n",
       "    }\n",
       "</style>\n",
       "<table border=\"1\" class=\"dataframe\">\n",
       "  <thead>\n",
       "    <tr style=\"text-align: right;\">\n",
       "      <th></th>\n",
       "      <th>overview</th>\n",
       "      <th>title</th>\n",
       "    </tr>\n",
       "  </thead>\n",
       "  <tbody>\n",
       "    <tr>\n",
       "      <th>0</th>\n",
       "      <td>Led by Woody, Andy's toys live happily in his ...</td>\n",
       "      <td>Toy Story</td>\n",
       "    </tr>\n",
       "    <tr>\n",
       "      <th>1</th>\n",
       "      <td>When siblings Judy and Peter discover an encha...</td>\n",
       "      <td>Jumanji</td>\n",
       "    </tr>\n",
       "    <tr>\n",
       "      <th>2</th>\n",
       "      <td>A family wedding reignites the ancient feud be...</td>\n",
       "      <td>Grumpier Old Men</td>\n",
       "    </tr>\n",
       "    <tr>\n",
       "      <th>3</th>\n",
       "      <td>Cheated on, mistreated and stepped on, the wom...</td>\n",
       "      <td>Waiting to Exhale</td>\n",
       "    </tr>\n",
       "    <tr>\n",
       "      <th>4</th>\n",
       "      <td>Just when George Banks has recovered from his ...</td>\n",
       "      <td>Father of the Bride Part II</td>\n",
       "    </tr>\n",
       "  </tbody>\n",
       "</table>\n",
       "</div>"
      ],
      "text/plain": [
       "                                            overview  \\\n",
       "0  Led by Woody, Andy's toys live happily in his ...   \n",
       "1  When siblings Judy and Peter discover an encha...   \n",
       "2  A family wedding reignites the ancient feud be...   \n",
       "3  Cheated on, mistreated and stepped on, the wom...   \n",
       "4  Just when George Banks has recovered from his ...   \n",
       "\n",
       "                         title  \n",
       "0                    Toy Story  \n",
       "1                      Jumanji  \n",
       "2             Grumpier Old Men  \n",
       "3            Waiting to Exhale  \n",
       "4  Father of the Bride Part II  "
      ]
     },
     "execution_count": 62,
     "metadata": {},
     "output_type": "execute_result"
    }
   ],
   "source": [
    "# 앞부분은 동일해보여서 일단 가져와봄 컨텐츠기반을 하는데 뭔가 장르만 가지고 하자니 부족해보여서 뭘해야할지 어려움..\n",
    "selected_data.head()"
   ]
  },
  {
   "cell_type": "code",
   "execution_count": 63,
   "metadata": {},
   "outputs": [],
   "source": [
    "movies_test_df = movies_df.copy()\n",
    "# Year 컬럼 생성\n",
    "movies_test_df['Year'] = movies_test_df['title'].str.extract(r'\\((\\d{4})\\)')\n",
    "# (Year) 부분 제거\n",
    "movies_test_df['title'] = movies_test_df['title'].str.replace(r'\\s*\\(\\d{4}\\)', '', regex=True)\n",
    "\n",
    "movies_test_df = movies_test_df.merge(selected_data, on='title', how='inner')"
   ]
  },
  {
   "cell_type": "markdown",
   "metadata": {},
   "source": [
    "- 리뷰데이터를 합치고나니 700개넘게 영화데이터의 리뷰가 없어서 날라간다..\n",
    "- 영화를 줄이는 대신 overview를 쓸것인지 아니면 그냥 영화를 살려두고 다른 알고리즘을 사용할지 고민.."
   ]
  },
  {
   "cell_type": "code",
   "execution_count": 64,
   "metadata": {},
   "outputs": [
    {
     "data": {
      "text/html": [
       "<div>\n",
       "<style scoped>\n",
       "    .dataframe tbody tr th:only-of-type {\n",
       "        vertical-align: middle;\n",
       "    }\n",
       "\n",
       "    .dataframe tbody tr th {\n",
       "        vertical-align: top;\n",
       "    }\n",
       "\n",
       "    .dataframe thead th {\n",
       "        text-align: right;\n",
       "    }\n",
       "</style>\n",
       "<table border=\"1\" class=\"dataframe\">\n",
       "  <thead>\n",
       "    <tr style=\"text-align: right;\">\n",
       "      <th></th>\n",
       "      <th>movieId</th>\n",
       "      <th>title</th>\n",
       "      <th>genres</th>\n",
       "      <th>Year</th>\n",
       "      <th>overview</th>\n",
       "    </tr>\n",
       "  </thead>\n",
       "  <tbody>\n",
       "    <tr>\n",
       "      <th>0</th>\n",
       "      <td>1</td>\n",
       "      <td>Toy Story</td>\n",
       "      <td>Animation|Children's|Comedy</td>\n",
       "      <td>1995</td>\n",
       "      <td>Led by Woody, Andy's toys live happily in his ...</td>\n",
       "    </tr>\n",
       "    <tr>\n",
       "      <th>1</th>\n",
       "      <td>2</td>\n",
       "      <td>Jumanji</td>\n",
       "      <td>Adventure|Children's|Fantasy</td>\n",
       "      <td>1995</td>\n",
       "      <td>When siblings Judy and Peter discover an encha...</td>\n",
       "    </tr>\n",
       "    <tr>\n",
       "      <th>2</th>\n",
       "      <td>3</td>\n",
       "      <td>Grumpier Old Men</td>\n",
       "      <td>Comedy|Romance</td>\n",
       "      <td>1995</td>\n",
       "      <td>A family wedding reignites the ancient feud be...</td>\n",
       "    </tr>\n",
       "    <tr>\n",
       "      <th>3</th>\n",
       "      <td>4</td>\n",
       "      <td>Waiting to Exhale</td>\n",
       "      <td>Comedy|Drama</td>\n",
       "      <td>1995</td>\n",
       "      <td>Cheated on, mistreated and stepped on, the wom...</td>\n",
       "    </tr>\n",
       "    <tr>\n",
       "      <th>4</th>\n",
       "      <td>5</td>\n",
       "      <td>Father of the Bride Part II</td>\n",
       "      <td>Comedy</td>\n",
       "      <td>1995</td>\n",
       "      <td>Just when George Banks has recovered from his ...</td>\n",
       "    </tr>\n",
       "    <tr>\n",
       "      <th>...</th>\n",
       "      <td>...</td>\n",
       "      <td>...</td>\n",
       "      <td>...</td>\n",
       "      <td>...</td>\n",
       "      <td>...</td>\n",
       "    </tr>\n",
       "    <tr>\n",
       "      <th>3101</th>\n",
       "      <td>3947</td>\n",
       "      <td>Get Carter</td>\n",
       "      <td>Thriller</td>\n",
       "      <td>1971</td>\n",
       "      <td>Michael Caine is Jack Carter, a small-time hoo...</td>\n",
       "    </tr>\n",
       "    <tr>\n",
       "      <th>3102</th>\n",
       "      <td>3948</td>\n",
       "      <td>Meet the Parents</td>\n",
       "      <td>Comedy</td>\n",
       "      <td>2000</td>\n",
       "      <td>Greg Focker is ready to marry his girlfriend, ...</td>\n",
       "    </tr>\n",
       "    <tr>\n",
       "      <th>3103</th>\n",
       "      <td>3949</td>\n",
       "      <td>Requiem for a Dream</td>\n",
       "      <td>Drama</td>\n",
       "      <td>2000</td>\n",
       "      <td>The hopes and dreams of four ambitious people ...</td>\n",
       "    </tr>\n",
       "    <tr>\n",
       "      <th>3104</th>\n",
       "      <td>3950</td>\n",
       "      <td>Tigerland</td>\n",
       "      <td>Drama</td>\n",
       "      <td>2000</td>\n",
       "      <td>A group of recruits go through Advanced Infant...</td>\n",
       "    </tr>\n",
       "    <tr>\n",
       "      <th>3105</th>\n",
       "      <td>3951</td>\n",
       "      <td>Two Family House</td>\n",
       "      <td>Drama</td>\n",
       "      <td>2000</td>\n",
       "      <td>Buddy Visalo (Michael Rispoli) is a factory wo...</td>\n",
       "    </tr>\n",
       "  </tbody>\n",
       "</table>\n",
       "<p>3106 rows × 5 columns</p>\n",
       "</div>"
      ],
      "text/plain": [
       "      movieId                        title                        genres  \\\n",
       "0           1                    Toy Story   Animation|Children's|Comedy   \n",
       "1           2                      Jumanji  Adventure|Children's|Fantasy   \n",
       "2           3             Grumpier Old Men                Comedy|Romance   \n",
       "3           4            Waiting to Exhale                  Comedy|Drama   \n",
       "4           5  Father of the Bride Part II                        Comedy   \n",
       "...       ...                          ...                           ...   \n",
       "3101     3947                   Get Carter                      Thriller   \n",
       "3102     3948             Meet the Parents                        Comedy   \n",
       "3103     3949          Requiem for a Dream                         Drama   \n",
       "3104     3950                    Tigerland                         Drama   \n",
       "3105     3951             Two Family House                         Drama   \n",
       "\n",
       "      Year                                           overview  \n",
       "0     1995  Led by Woody, Andy's toys live happily in his ...  \n",
       "1     1995  When siblings Judy and Peter discover an encha...  \n",
       "2     1995  A family wedding reignites the ancient feud be...  \n",
       "3     1995  Cheated on, mistreated and stepped on, the wom...  \n",
       "4     1995  Just when George Banks has recovered from his ...  \n",
       "...    ...                                                ...  \n",
       "3101  1971  Michael Caine is Jack Carter, a small-time hoo...  \n",
       "3102  2000  Greg Focker is ready to marry his girlfriend, ...  \n",
       "3103  2000  The hopes and dreams of four ambitious people ...  \n",
       "3104  2000  A group of recruits go through Advanced Infant...  \n",
       "3105  2000  Buddy Visalo (Michael Rispoli) is a factory wo...  \n",
       "\n",
       "[3106 rows x 5 columns]"
      ]
     },
     "execution_count": 64,
     "metadata": {},
     "output_type": "execute_result"
    }
   ],
   "source": [
    "movies_test_df"
   ]
  },
  {
   "cell_type": "code",
   "execution_count": 65,
   "metadata": {},
   "outputs": [
    {
     "name": "stdout",
     "output_type": "stream",
     "text": [
      "<class 'pandas.core.frame.DataFrame'>\n",
      "RangeIndex: 3106 entries, 0 to 3105\n",
      "Data columns (total 5 columns):\n",
      " #   Column    Non-Null Count  Dtype \n",
      "---  ------    --------------  ----- \n",
      " 0   movieId   3106 non-null   int64 \n",
      " 1   title     3106 non-null   object\n",
      " 2   genres    3106 non-null   object\n",
      " 3   Year      3106 non-null   object\n",
      " 4   overview  3106 non-null   object\n",
      "dtypes: int64(1), object(4)\n",
      "memory usage: 121.5+ KB\n"
     ]
    }
   ],
   "source": [
    "movies_test_df.info()"
   ]
  },
  {
   "cell_type": "code",
   "execution_count": 66,
   "metadata": {},
   "outputs": [
    {
     "data": {
      "text/html": [
       "<div>\n",
       "<style scoped>\n",
       "    .dataframe tbody tr th:only-of-type {\n",
       "        vertical-align: middle;\n",
       "    }\n",
       "\n",
       "    .dataframe tbody tr th {\n",
       "        vertical-align: top;\n",
       "    }\n",
       "\n",
       "    .dataframe thead th {\n",
       "        text-align: right;\n",
       "    }\n",
       "</style>\n",
       "<table border=\"1\" class=\"dataframe\">\n",
       "  <thead>\n",
       "    <tr style=\"text-align: right;\">\n",
       "      <th></th>\n",
       "      <th>title</th>\n",
       "      <th>original_title</th>\n",
       "    </tr>\n",
       "  </thead>\n",
       "  <tbody>\n",
       "    <tr>\n",
       "      <th>28</th>\n",
       "      <td>The City of Lost Children</td>\n",
       "      <td>La Cité des Enfants Perdus</td>\n",
       "    </tr>\n",
       "    <tr>\n",
       "      <th>29</th>\n",
       "      <td>Shanghai Triad</td>\n",
       "      <td>摇啊摇，摇到外婆桥</td>\n",
       "    </tr>\n",
       "    <tr>\n",
       "      <th>32</th>\n",
       "      <td>Wings of Courage</td>\n",
       "      <td>Guillaumet, les ailes du courage</td>\n",
       "    </tr>\n",
       "    <tr>\n",
       "      <th>57</th>\n",
       "      <td>The Postman</td>\n",
       "      <td>Il postino</td>\n",
       "    </tr>\n",
       "    <tr>\n",
       "      <th>58</th>\n",
       "      <td>The Confessional</td>\n",
       "      <td>Le confessionnal</td>\n",
       "    </tr>\n",
       "    <tr>\n",
       "      <th>...</th>\n",
       "      <td>...</td>\n",
       "      <td>...</td>\n",
       "    </tr>\n",
       "    <tr>\n",
       "      <th>45453</th>\n",
       "      <td>Mom</td>\n",
       "      <td>Maa</td>\n",
       "    </tr>\n",
       "    <tr>\n",
       "      <th>45455</th>\n",
       "      <td>St. Michael Had a Rooster</td>\n",
       "      <td>San Michele aveva un gallo</td>\n",
       "    </tr>\n",
       "    <tr>\n",
       "      <th>45461</th>\n",
       "      <td>Subdue</td>\n",
       "      <td>رگ خواب</td>\n",
       "    </tr>\n",
       "    <tr>\n",
       "      <th>45462</th>\n",
       "      <td>Century of Birthing</td>\n",
       "      <td>Siglo ng Pagluluwal</td>\n",
       "    </tr>\n",
       "    <tr>\n",
       "      <th>45464</th>\n",
       "      <td>Satan Triumphant</td>\n",
       "      <td>Satana likuyushchiy</td>\n",
       "    </tr>\n",
       "  </tbody>\n",
       "</table>\n",
       "<p>11402 rows × 2 columns</p>\n",
       "</div>"
      ],
      "text/plain": [
       "                           title                    original_title\n",
       "28     The City of Lost Children        La Cité des Enfants Perdus\n",
       "29                Shanghai Triad                         摇啊摇，摇到外婆桥\n",
       "32              Wings of Courage  Guillaumet, les ailes du courage\n",
       "57                   The Postman                        Il postino\n",
       "58              The Confessional                  Le confessionnal\n",
       "...                          ...                               ...\n",
       "45453                        Mom                               Maa\n",
       "45455  St. Michael Had a Rooster        San Michele aveva un gallo\n",
       "45461                     Subdue                           رگ خواب\n",
       "45462        Century of Birthing               Siglo ng Pagluluwal\n",
       "45464           Satan Triumphant               Satana likuyushchiy\n",
       "\n",
       "[11402 rows x 2 columns]"
      ]
     },
     "execution_count": 66,
     "metadata": {},
     "output_type": "execute_result"
    }
   ],
   "source": [
    "kaggle_test = kaggle_movies[['title', 'original_title']]\n",
    "kaggle_test.loc[kaggle_test['title'] != kaggle_test['original_title']]"
   ]
  },
  {
   "cell_type": "markdown",
   "metadata": {},
   "source": [
    "### 비개인화 평가만드신거(배나연님)"
   ]
  },
  {
   "cell_type": "code",
   "execution_count": 67,
   "metadata": {},
   "outputs": [],
   "source": [
    "# def evaluation(targets, predictions, k):\n",
    "#     pred = predictions[:k]\n",
    "\n",
    "#     # precision, recall 구하기\n",
    "#     precision = []\n",
    "#     recall = []\n",
    "\n",
    "#     for i in targets:\n",
    "#         num_hit = len(set(pred).intersection(set(i)))\n",
    "#         precision.append(float(num_hit) / len(pred))\n",
    "#         recall.append(float(num_hit) / len(i))\n",
    "\n",
    "#     mean_precision = round((sum(precision) / len(precision)), 3)\n",
    "#     mean_recall = round((sum(recall) / len(precision)), 3)\n",
    "\n",
    "\n",
    "#     # map 구하기\n",
    "#     pred = predictions[:k]\n",
    "\n",
    "#     avg_precision = 0.0     # 값 초기화\n",
    "#     num_queries = len(targets)  # 유저 숫자\n",
    "\n",
    "#     for num_query in range(num_queries):\n",
    "#         num_hit = 0     # 값 초기화\n",
    "#         sum_precision = 0.0     # 값 초기화\n",
    "#         # i번째 유저가 본 영화\n",
    "#         query_targets = targets[num_query+1]\n",
    "\n",
    "#         query_predictions = predictions.copy()  # 추천 영화 리스트 복사\n",
    "\n",
    "#         # 추천 영화의 인덱스와 영화 ID 반복 = 추천 영화 리스트 반복\n",
    "#         for j, item in enumerate(query_predictions, 1): # 인덱스 시작을 1로 세팅. 나눌 때 0이면 곤란하므로.\n",
    "#             # i번째 유저가 본 영화 리스트 중에 j번째 추천 영화가 있는가\n",
    "#             if item in query_targets:\n",
    "#                 # 있으면 +1\n",
    "#                 num_hit += 1\n",
    "#                 # 맞춘 영화 / 추천 영화 인덱스\n",
    "#                 precision = num_hit / j\n",
    "#                 # 유저별 precision 값 누적 계산\n",
    "#                 sum_precision += precision\n",
    "#         # 전체 유저들의 precision 평균 구하기\n",
    "#         avg_precision += sum_precision / min(len(query_targets), k) # 맞춘 영화 수와 K 중 작은 값으로 나누기\n",
    "\n",
    "#     # 전체 유저들의 precision 평균 구하기\n",
    "#     m_ap = round((avg_precision / num_queries), 3)\n",
    "\n",
    "#     result = pd.DataFrame(\n",
    "#     {'precision': [mean_precision], 'recall': [mean_recall], 'map': [m_ap]},\n",
    "#     columns=['precision', 'recall', 'map'])\n",
    "#     return result"
   ]
  },
  {
   "cell_type": "markdown",
   "metadata": {},
   "source": [
    "### 다시 컨텐츠기반 모델링\n",
    "- 나중에 이거 언제 다 정리하지 ㅜㅜ"
   ]
  },
  {
   "cell_type": "code",
   "execution_count": 68,
   "metadata": {},
   "outputs": [
    {
     "name": "stdout",
     "output_type": "stream",
     "text": [
      "Recommended movies for user 1:\n",
      "2033       Steamboat Willie (1940)\n",
      "2009       Jungle Book, The (1967)\n",
      "584                 Aladdin (1992)\n",
      "2011     Lady and the Tramp (1955)\n",
      "2012    Little Mermaid, The (1989)\n",
      "Name: title, dtype: object\n"
     ]
    }
   ],
   "source": [
    "import pandas as pd\n",
    "from sklearn.feature_extraction.text import TfidfVectorizer\n",
    "from sklearn.metrics.pairwise import linear_kernel\n",
    "\n",
    "# 3개의 데이터 합치기\n",
    "user_movie_ratings = ratings_df.merge(movies_df, on='movieId', how='inner')\n",
    "user_movie_ratings = user_movie_ratings.merge(users_df, on='userId', how='inner')\n",
    "\n",
    "# 평점을 매긴 영화의 장르를 기반으로 사용자 프로필 만들기\n",
    "user_profiles = user_movie_ratings.groupby('userId')['genres'].apply(lambda x: ' '.join(x))\n",
    "\n",
    "# TF-IDF vectorization\n",
    "tfidf_vectorizer = TfidfVectorizer(stop_words='english')\n",
    "tfidf_matrix = tfidf_vectorizer.fit_transform(movies_df['genres'])\n",
    "\n",
    "# 리니어커널 벡터내적 계산\n",
    "cosine_sim = linear_kernel(tfidf_matrix, tfidf_matrix)\n",
    "\n",
    "# 영화 제목과 인덱스 매핑\n",
    "title_to_index = pd.Series(movies_df.index, index=movies_df['title'])\n",
    "\n",
    "# 사용자의 평점 장르를 기반으로 영화를 추천하는 기능\n",
    "def recommend_movies_for_user(user_id, cosine_sim=cosine_sim, num_recommendations=5):\n",
    "    global cosine_scores, rated_movie_indices, related_movies_indices\n",
    "\n",
    "    user_profile = user_profiles[user_id]\n",
    "    user_tfidf = tfidf_vectorizer.transform([user_profile])\n",
    "    cosine_scores = linear_kernel(user_tfidf, tfidf_matrix).flatten()\n",
    "    rated_movie_indices = user_movie_ratings[user_movie_ratings['userId'] == user_id]['movieId'].tolist()\n",
    "    related_movies_indices = [idx for idx in cosine_scores.argsort()[::-1] if idx not in rated_movie_indices][:num_recommendations]\n",
    "    \n",
    "    return movies_df['title'].iloc[related_movies_indices]\n",
    "\n",
    "# 특정 사용자에게 동영상 추천\n",
    "user_id = 1\n",
    "num_recommendations = 5\n",
    "recommended_movies = recommend_movies_for_user(user_id, num_recommendations=num_recommendations)\n",
    "print(f\"Recommended movies for user {user_id}:\")\n",
    "print(recommended_movies)"
   ]
  }
 ],
 "metadata": {
  "kernelspec": {
   "display_name": "base",
   "language": "python",
   "name": "python3"
  },
  "language_info": {
   "codemirror_mode": {
    "name": "ipython",
    "version": 3
   },
   "file_extension": ".py",
   "mimetype": "text/x-python",
   "name": "python",
   "nbconvert_exporter": "python",
   "pygments_lexer": "ipython3",
   "version": "3.11.3"
  },
  "orig_nbformat": 4
 },
 "nbformat": 4,
 "nbformat_minor": 2
}
