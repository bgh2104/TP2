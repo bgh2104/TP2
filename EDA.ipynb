{
 "cells": [
  {
   "cell_type": "code",
   "execution_count": 41,
   "metadata": {},
   "outputs": [],
   "source": [
    "import matplotlib.pyplot as plt # 3.7.2\n",
    "import seaborn as sns #0.12.2\n",
    "# 깃허브에 올려야 함!!"
   ]
  },
  {
   "cell_type": "code",
   "execution_count": 76,
   "metadata": {},
   "outputs": [
    {
     "name": "stdout",
     "output_type": "stream",
     "text": [
      "      movieId                               title  \\\n",
      "0           1                    Toy Story (1995)   \n",
      "1           2                      Jumanji (1995)   \n",
      "2           3             Grumpier Old Men (1995)   \n",
      "3           4            Waiting to Exhale (1995)   \n",
      "4           5  Father of the Bride Part II (1995)   \n",
      "...       ...                                 ...   \n",
      "3878     3948             Meet the Parents (2000)   \n",
      "3879     3949          Requiem for a Dream (2000)   \n",
      "3880     3950                    Tigerland (2000)   \n",
      "3881     3951             Two Family House (2000)   \n",
      "3882     3952               Contender, The (2000)   \n",
      "\n",
      "                            genres  \n",
      "0      Animation|Children's|Comedy  \n",
      "1     Adventure|Children's|Fantasy  \n",
      "2                   Comedy|Romance  \n",
      "3                     Comedy|Drama  \n",
      "4                           Comedy  \n",
      "...                            ...  \n",
      "3878                        Comedy  \n",
      "3879                         Drama  \n",
      "3880                         Drama  \n",
      "3881                         Drama  \n",
      "3882                Drama|Thriller  \n",
      "\n",
      "[3883 rows x 3 columns]\n",
      "         userId  movieId  rating  timestamp\n",
      "0             1     1193       5  978300760\n",
      "1             1      661       3  978302109\n",
      "2             1      914       3  978301968\n",
      "3             1     3408       4  978300275\n",
      "4             1     2355       5  978824291\n",
      "...         ...      ...     ...        ...\n",
      "1000204    6040     1091       1  956716541\n",
      "1000205    6040     1094       5  956704887\n",
      "1000206    6040      562       5  956704746\n",
      "1000207    6040     1096       4  956715648\n",
      "1000208    6040     1097       4  956715569\n",
      "\n",
      "[1000209 rows x 4 columns]\n",
      "      userId gender  age  Occupation zip_code\n",
      "0          1      F    1          10    48067\n",
      "1          2      M   56          16    70072\n",
      "2          3      M   25          15    55117\n",
      "3          4      M   45           7    02460\n",
      "4          5      M   25          20    55455\n",
      "...      ...    ...  ...         ...      ...\n",
      "6035    6036      F   25          15    32603\n",
      "6036    6037      F   45           1    76006\n",
      "6037    6038      F   56           1    14706\n",
      "6038    6039      F   45           0    01060\n",
      "6039    6040      M   25           6    11106\n",
      "\n",
      "[6040 rows x 5 columns]\n"
     ]
    }
   ],
   "source": [
    "from utils import Dataloader\n",
    "\n",
    "\n",
    "path = 'data'\n",
    "movies_df = Dataloader.load_movies(path)\n",
    "ratings_df = Dataloader.load_ratings(path)\n",
    "users_df = Dataloader.load_users(path)\n",
    "\n",
    "print(movies_df)\n",
    "print(ratings_df)\n",
    "print(users_df)"
   ]
  },
  {
   "cell_type": "code",
   "execution_count": 65,
   "metadata": {},
   "outputs": [
    {
     "data": {
      "text/html": [
       "<div>\n",
       "<style scoped>\n",
       "    .dataframe tbody tr th:only-of-type {\n",
       "        vertical-align: middle;\n",
       "    }\n",
       "\n",
       "    .dataframe tbody tr th {\n",
       "        vertical-align: top;\n",
       "    }\n",
       "\n",
       "    .dataframe thead th {\n",
       "        text-align: right;\n",
       "    }\n",
       "</style>\n",
       "<table border=\"1\" class=\"dataframe\">\n",
       "  <thead>\n",
       "    <tr style=\"text-align: right;\">\n",
       "      <th></th>\n",
       "      <th>movieId</th>\n",
       "      <th>title</th>\n",
       "      <th>genres</th>\n",
       "    </tr>\n",
       "  </thead>\n",
       "  <tbody>\n",
       "    <tr>\n",
       "      <th>0</th>\n",
       "      <td>1</td>\n",
       "      <td>Toy Story (1995)</td>\n",
       "      <td>Animation|Children's|Comedy</td>\n",
       "    </tr>\n",
       "    <tr>\n",
       "      <th>1</th>\n",
       "      <td>2</td>\n",
       "      <td>Jumanji (1995)</td>\n",
       "      <td>Adventure|Children's|Fantasy</td>\n",
       "    </tr>\n",
       "    <tr>\n",
       "      <th>2</th>\n",
       "      <td>3</td>\n",
       "      <td>Grumpier Old Men (1995)</td>\n",
       "      <td>Comedy|Romance</td>\n",
       "    </tr>\n",
       "    <tr>\n",
       "      <th>3</th>\n",
       "      <td>4</td>\n",
       "      <td>Waiting to Exhale (1995)</td>\n",
       "      <td>Comedy|Drama</td>\n",
       "    </tr>\n",
       "    <tr>\n",
       "      <th>4</th>\n",
       "      <td>5</td>\n",
       "      <td>Father of the Bride Part II (1995)</td>\n",
       "      <td>Comedy</td>\n",
       "    </tr>\n",
       "    <tr>\n",
       "      <th>...</th>\n",
       "      <td>...</td>\n",
       "      <td>...</td>\n",
       "      <td>...</td>\n",
       "    </tr>\n",
       "    <tr>\n",
       "      <th>3878</th>\n",
       "      <td>3948</td>\n",
       "      <td>Meet the Parents (2000)</td>\n",
       "      <td>Comedy</td>\n",
       "    </tr>\n",
       "    <tr>\n",
       "      <th>3879</th>\n",
       "      <td>3949</td>\n",
       "      <td>Requiem for a Dream (2000)</td>\n",
       "      <td>Drama</td>\n",
       "    </tr>\n",
       "    <tr>\n",
       "      <th>3880</th>\n",
       "      <td>3950</td>\n",
       "      <td>Tigerland (2000)</td>\n",
       "      <td>Drama</td>\n",
       "    </tr>\n",
       "    <tr>\n",
       "      <th>3881</th>\n",
       "      <td>3951</td>\n",
       "      <td>Two Family House (2000)</td>\n",
       "      <td>Drama</td>\n",
       "    </tr>\n",
       "    <tr>\n",
       "      <th>3882</th>\n",
       "      <td>3952</td>\n",
       "      <td>Contender, The (2000)</td>\n",
       "      <td>Drama|Thriller</td>\n",
       "    </tr>\n",
       "  </tbody>\n",
       "</table>\n",
       "<p>3883 rows × 3 columns</p>\n",
       "</div>"
      ],
      "text/plain": [
       "      movieId                               title  \\\n",
       "0           1                    Toy Story (1995)   \n",
       "1           2                      Jumanji (1995)   \n",
       "2           3             Grumpier Old Men (1995)   \n",
       "3           4            Waiting to Exhale (1995)   \n",
       "4           5  Father of the Bride Part II (1995)   \n",
       "...       ...                                 ...   \n",
       "3878     3948             Meet the Parents (2000)   \n",
       "3879     3949          Requiem for a Dream (2000)   \n",
       "3880     3950                    Tigerland (2000)   \n",
       "3881     3951             Two Family House (2000)   \n",
       "3882     3952               Contender, The (2000)   \n",
       "\n",
       "                            genres  \n",
       "0      Animation|Children's|Comedy  \n",
       "1     Adventure|Children's|Fantasy  \n",
       "2                   Comedy|Romance  \n",
       "3                     Comedy|Drama  \n",
       "4                           Comedy  \n",
       "...                            ...  \n",
       "3878                        Comedy  \n",
       "3879                         Drama  \n",
       "3880                         Drama  \n",
       "3881                         Drama  \n",
       "3882                Drama|Thriller  \n",
       "\n",
       "[3883 rows x 3 columns]"
      ]
     },
     "execution_count": 65,
     "metadata": {},
     "output_type": "execute_result"
    }
   ],
   "source": [
    "# 1. movies_df\n",
    "\n",
    "# 총 데이터 3883개\n",
    "# 결측치, 이상치, 중복값 없음\n",
    "# movieId는 수치형(범주형), title과 genres는 문자형\n",
    "# movieId, title : 3883\n",
    "\n",
    "# 전처리\n",
    "# title에서 영화제목과 년도 분리 필요\n",
    "# 장르 종류 301개 - 갯수 전처리 필요?\n",
    "\n",
    "movies_df"
   ]
  },
  {
   "cell_type": "code",
   "execution_count": 66,
   "metadata": {},
   "outputs": [
    {
     "name": "stdout",
     "output_type": "stream",
     "text": [
      "<class 'pandas.core.frame.DataFrame'>\n",
      "RangeIndex: 3883 entries, 0 to 3882\n",
      "Data columns (total 3 columns):\n",
      " #   Column   Non-Null Count  Dtype \n",
      "---  ------   --------------  ----- \n",
      " 0   movieId  3883 non-null   int64 \n",
      " 1   title    3883 non-null   object\n",
      " 2   genres   3883 non-null   object\n",
      "dtypes: int64(1), object(2)\n",
      "memory usage: 91.1+ KB\n",
      "None\n",
      "           movieId\n",
      "count  3883.000000\n",
      "mean   1986.049446\n",
      "std    1146.778349\n",
      "min       1.000000\n",
      "25%     982.500000\n",
      "50%    2010.000000\n",
      "75%    2980.500000\n",
      "max    3952.000000\n",
      "0\n",
      "genres\n",
      "Drama                                  843\n",
      "Comedy                                 521\n",
      "Horror                                 178\n",
      "Comedy|Drama                           162\n",
      "Comedy|Romance                         142\n",
      "                                      ... \n",
      "Action|Comedy|Crime|Horror|Thriller      1\n",
      "Action|Drama|Thriller|War                1\n",
      "Action|Adventure|Children's              1\n",
      "Action|Adventure|Children's|Fantasy      1\n",
      "Adventure|Crime|Sci-Fi|Thriller          1\n",
      "Name: count, Length: 301, dtype: int64\n"
     ]
    }
   ],
   "source": [
    "print(movies_df.info())\n",
    "print(movies_df.describe())\n",
    "print(movies_df.duplicated().sum())\n",
    "print(movies_df['genres'].value_counts())"
   ]
  },
  {
   "cell_type": "code",
   "execution_count": 31,
   "metadata": {},
   "outputs": [
    {
     "name": "stdout",
     "output_type": "stream",
     "text": [
      "movieId\n",
      "1       1\n",
      "2677    1\n",
      "2649    1\n",
      "2650    1\n",
      "2651    1\n",
      "       ..\n",
      "1319    1\n",
      "1320    1\n",
      "1321    1\n",
      "1322    1\n",
      "3952    1\n",
      "Name: count, Length: 3883, dtype: int64\n",
      "title\n",
      "Toy Story (1995)                           1\n",
      "Buena Vista Social Club (1999)             1\n",
      "Son of Frankenstein (1939)                 1\n",
      "Ghost of Frankenstein, The (1942)          1\n",
      "Frankenstein Meets the Wolf Man (1943)     1\n",
      "                                          ..\n",
      "Kids of Survival (1993)                    1\n",
      "Alien³ (1992)                              1\n",
      "American Werewolf in London, An (1981)     1\n",
      "Amityville 1992: It's About Time (1992)    1\n",
      "Contender, The (2000)                      1\n",
      "Name: count, Length: 3883, dtype: int64\n"
     ]
    }
   ],
   "source": [
    "print(movies_df['movieId'].value_counts())\n",
    "print(movies_df['title'].value_counts())"
   ]
  },
  {
   "cell_type": "code",
   "execution_count": 64,
   "metadata": {},
   "outputs": [
    {
     "data": {
      "image/png": "[encoded data removed]",
      "text/plain": [
       "<Figure size 1400x800 with 1 Axes>"
      ]
     },
     "metadata": {},
     "output_type": "display_data"
    }
   ],
   "source": [
    "# 데이터 분포 확인\n",
    "# 왜 이렇게 나오지??\n",
    "\n",
    "movies_df.hist(bins=30, figsize=(14,8), grid=False)\n",
    "plt.show()"
   ]
  },
  {
   "cell_type": "code",
   "execution_count": 77,
   "metadata": {},
   "outputs": [
    {
     "data": {
      "text/html": [
       "<div>\n",
       "<style scoped>\n",
       "    .dataframe tbody tr th:only-of-type {\n",
       "        vertical-align: middle;\n",
       "    }\n",
       "\n",
       "    .dataframe tbody tr th {\n",
       "        vertical-align: top;\n",
       "    }\n",
       "\n",
       "    .dataframe thead th {\n",
       "        text-align: right;\n",
       "    }\n",
       "</style>\n",
       "<table border=\"1\" class=\"dataframe\">\n",
       "  <thead>\n",
       "    <tr style=\"text-align: right;\">\n",
       "      <th></th>\n",
       "      <th>movieId</th>\n",
       "      <th>title</th>\n",
       "      <th>genres</th>\n",
       "      <th>year</th>\n",
       "      <th>year_term</th>\n",
       "    </tr>\n",
       "  </thead>\n",
       "  <tbody>\n",
       "    <tr>\n",
       "      <th>0</th>\n",
       "      <td>1</td>\n",
       "      <td>ToyStory</td>\n",
       "      <td>Animation|Children's|Comedy</td>\n",
       "      <td>1995</td>\n",
       "      <td>1990</td>\n",
       "    </tr>\n",
       "    <tr>\n",
       "      <th>1</th>\n",
       "      <td>2</td>\n",
       "      <td>Jumanji</td>\n",
       "      <td>Adventure|Children's|Fantasy</td>\n",
       "      <td>1995</td>\n",
       "      <td>1990</td>\n",
       "    </tr>\n",
       "    <tr>\n",
       "      <th>2</th>\n",
       "      <td>3</td>\n",
       "      <td>GrumpierOldMen</td>\n",
       "      <td>Comedy|Romance</td>\n",
       "      <td>1995</td>\n",
       "      <td>1990</td>\n",
       "    </tr>\n",
       "    <tr>\n",
       "      <th>3</th>\n",
       "      <td>4</td>\n",
       "      <td>WaitingtoExhale</td>\n",
       "      <td>Comedy|Drama</td>\n",
       "      <td>1995</td>\n",
       "      <td>1990</td>\n",
       "    </tr>\n",
       "    <tr>\n",
       "      <th>4</th>\n",
       "      <td>5</td>\n",
       "      <td>FatheroftheBridePartII</td>\n",
       "      <td>Comedy</td>\n",
       "      <td>1995</td>\n",
       "      <td>1990</td>\n",
       "    </tr>\n",
       "    <tr>\n",
       "      <th>...</th>\n",
       "      <td>...</td>\n",
       "      <td>...</td>\n",
       "      <td>...</td>\n",
       "      <td>...</td>\n",
       "      <td>...</td>\n",
       "    </tr>\n",
       "    <tr>\n",
       "      <th>3878</th>\n",
       "      <td>3948</td>\n",
       "      <td>MeettheParents</td>\n",
       "      <td>Comedy</td>\n",
       "      <td>2000</td>\n",
       "      <td>2000</td>\n",
       "    </tr>\n",
       "    <tr>\n",
       "      <th>3879</th>\n",
       "      <td>3949</td>\n",
       "      <td>RequiemforaDream</td>\n",
       "      <td>Drama</td>\n",
       "      <td>2000</td>\n",
       "      <td>2000</td>\n",
       "    </tr>\n",
       "    <tr>\n",
       "      <th>3880</th>\n",
       "      <td>3950</td>\n",
       "      <td>Tigerland</td>\n",
       "      <td>Drama</td>\n",
       "      <td>2000</td>\n",
       "      <td>2000</td>\n",
       "    </tr>\n",
       "    <tr>\n",
       "      <th>3881</th>\n",
       "      <td>3951</td>\n",
       "      <td>TwoFamilyHouse</td>\n",
       "      <td>Drama</td>\n",
       "      <td>2000</td>\n",
       "      <td>2000</td>\n",
       "    </tr>\n",
       "    <tr>\n",
       "      <th>3882</th>\n",
       "      <td>3952</td>\n",
       "      <td>ContenderThe</td>\n",
       "      <td>Drama|Thriller</td>\n",
       "      <td>2000</td>\n",
       "      <td>2000</td>\n",
       "    </tr>\n",
       "  </tbody>\n",
       "</table>\n",
       "<p>3883 rows × 5 columns</p>\n",
       "</div>"
      ],
      "text/plain": [
       "      movieId                   title                        genres  year  \\\n",
       "0           1                ToyStory   Animation|Children's|Comedy  1995   \n",
       "1           2                 Jumanji  Adventure|Children's|Fantasy  1995   \n",
       "2           3          GrumpierOldMen                Comedy|Romance  1995   \n",
       "3           4         WaitingtoExhale                  Comedy|Drama  1995   \n",
       "4           5  FatheroftheBridePartII                        Comedy  1995   \n",
       "...       ...                     ...                           ...   ...   \n",
       "3878     3948          MeettheParents                        Comedy  2000   \n",
       "3879     3949        RequiemforaDream                         Drama  2000   \n",
       "3880     3950               Tigerland                         Drama  2000   \n",
       "3881     3951          TwoFamilyHouse                         Drama  2000   \n",
       "3882     3952            ContenderThe                Drama|Thriller  2000   \n",
       "\n",
       "     year_term  \n",
       "0         1990  \n",
       "1         1990  \n",
       "2         1990  \n",
       "3         1990  \n",
       "4         1990  \n",
       "...        ...  \n",
       "3878      2000  \n",
       "3879      2000  \n",
       "3880      2000  \n",
       "3881      2000  \n",
       "3882      2000  \n",
       "\n",
       "[3883 rows x 5 columns]"
      ]
     },
     "execution_count": 77,
     "metadata": {},
     "output_type": "execute_result"
    }
   ],
   "source": [
    "# 연도, 연대 컬럼 만들기\n",
    "year = movies_df[\"title\"].apply(lambda x : x[-5:-1])\n",
    "\n",
    "e_movies_df = movies_df\n",
    "e_movies_df[\"year\"] = year\n",
    "\n",
    "\n",
    "e_movies_df[\"year_term\"] = movies_df[\"title\"].apply(lambda x : x[-5 :-2] + \"0\")\n",
    "\n",
    "# title에 연도 제거\n",
    "e_movies_df['title'] = e_movies_df['title'].str.replace(pat=r'[^\\w]', repl=r'', regex=True)\n",
    "e_movies_df['title'] = e_movies_df['title'].str.replace(pat=r'[0-9]', repl=r'', regex=True)\n",
    "\n",
    "e_movies_df"
   ]
  },
  {
   "cell_type": "code",
   "execution_count": 89,
   "metadata": {},
   "outputs": [
    {
     "data": {
      "image/png": "[encoded data removed]",
      "text/plain": [
       "<Figure size 640x480 with 1 Axes>"
      ]
     },
     "metadata": {},
     "output_type": "display_data"
    }
   ],
   "source": [
    "# 연대별 영화의 수\n",
    "movie_year_term = e_movies_df[\"year_term\"].value_counts().sort_index()\n",
    "movie_year_term\n",
    "\n",
    "# 연도별 영화 갯수\n",
    "plt.rcParams['font.family'] = 'AppleGothic'  # Mac OS 기준 한글 폰트 설정\n",
    "sns.barplot(x=movie_year_term.index, y=movie_year_term.values, alpha=0.8)\n",
    "plt.title(\"연대별 영화 수\")\n",
    "plt.xlabel(\"연대\")\n",
    "plt.ylabel(\"영화 수\")\n",
    "\n",
    "plt.show()"
   ]
  },
  {
   "cell_type": "code",
   "execution_count": 93,
   "metadata": {},
   "outputs": [
    {
     "data": {
      "text/plain": [
       "{'Animation': 105,\n",
       " \"Children's\": 251,\n",
       " 'Comedy': 1200,\n",
       " 'Adventure': 283,\n",
       " 'Fantasy': 68,\n",
       " 'Romance': 471,\n",
       " 'Drama': 1603,\n",
       " 'Action': 503,\n",
       " 'Crime': 211,\n",
       " 'Thriller': 492,\n",
       " 'Horror': 343,\n",
       " 'Sci-Fi': 276,\n",
       " 'Documentary': 127,\n",
       " 'War': 143,\n",
       " 'Musical': 114,\n",
       " 'Mystery': 106,\n",
       " 'Film-Noir': 44,\n",
       " 'Western': 68}"
      ]
     },
     "execution_count": 93,
     "metadata": {},
     "output_type": "execute_result"
    }
   ],
   "source": [
    "# 장르들을 담을 딕셔너리\n",
    "unique_genre_dict = {}\n",
    "\n",
    "# 영화의 수만큼 반복된다.\n",
    "for row in e_movies_df['genres'] : \n",
    "\t# | 를 기준으로 문자열을 잘라준다.\n",
    "    parsed_genre = row.split(\"|\")\n",
    "    \n",
    "    # 장르의 수만큼 반복한다.\n",
    "    for genre_name in parsed_genre : \n",
    "    \t# 현재 장르의 이름으로 저장된 데이터가 없다면\n",
    "        if (genre_name in unique_genre_dict) == False :\n",
    "        \tunique_genre_dict[genre_name] = 1\n",
    "        else :\n",
    "        \tunique_genre_dict[genre_name] = unique_genre_dict[genre_name] + 1\n",
    "            \n",
    "            \n",
    "unique_genre_dict"
   ]
  },
  {
   "cell_type": "code",
   "execution_count": 99,
   "metadata": {},
   "outputs": [
    {
     "data": {
      "image/png": "[encoded data removed]",
      "text/plain": [
       "<Figure size 1400x800 with 1 Axes>"
      ]
     },
     "metadata": {},
     "output_type": "display_data"
    }
   ],
   "source": [
    "# 장르별 영화 수\n",
    "x = list(unique_genre_dict.keys())\n",
    "y = list(unique_genre_dict.values())\n",
    "plt.figure(figsize=(14, 8)) \n",
    "sns.barplot(x=x, y=y, alpha=0.8)\n",
    "plt.xlabel(\"영화수\")\n",
    "plt.ylabel(\"장르\")\n",
    "plt.show()"
   ]
  },
  {
   "cell_type": "code",
   "execution_count": 67,
   "metadata": {},
   "outputs": [
    {
     "data": {
      "text/html": [
       "<div>\n",
       "<style scoped>\n",
       "    .dataframe tbody tr th:only-of-type {\n",
       "        vertical-align: middle;\n",
       "    }\n",
       "\n",
       "    .dataframe tbody tr th {\n",
       "        vertical-align: top;\n",
       "    }\n",
       "\n",
       "    .dataframe thead th {\n",
       "        text-align: right;\n",
       "    }\n",
       "</style>\n",
       "<table border=\"1\" class=\"dataframe\">\n",
       "  <thead>\n",
       "    <tr style=\"text-align: right;\">\n",
       "      <th></th>\n",
       "      <th>userId</th>\n",
       "      <th>movieId</th>\n",
       "      <th>rating</th>\n",
       "      <th>timestamp</th>\n",
       "    </tr>\n",
       "  </thead>\n",
       "  <tbody>\n",
       "    <tr>\n",
       "      <th>0</th>\n",
       "      <td>1</td>\n",
       "      <td>1193</td>\n",
       "      <td>5</td>\n",
       "      <td>978300760</td>\n",
       "    </tr>\n",
       "    <tr>\n",
       "      <th>1</th>\n",
       "      <td>1</td>\n",
       "      <td>661</td>\n",
       "      <td>3</td>\n",
       "      <td>978302109</td>\n",
       "    </tr>\n",
       "    <tr>\n",
       "      <th>2</th>\n",
       "      <td>1</td>\n",
       "      <td>914</td>\n",
       "      <td>3</td>\n",
       "      <td>978301968</td>\n",
       "    </tr>\n",
       "    <tr>\n",
       "      <th>3</th>\n",
       "      <td>1</td>\n",
       "      <td>3408</td>\n",
       "      <td>4</td>\n",
       "      <td>978300275</td>\n",
       "    </tr>\n",
       "    <tr>\n",
       "      <th>4</th>\n",
       "      <td>1</td>\n",
       "      <td>2355</td>\n",
       "      <td>5</td>\n",
       "      <td>978824291</td>\n",
       "    </tr>\n",
       "    <tr>\n",
       "      <th>...</th>\n",
       "      <td>...</td>\n",
       "      <td>...</td>\n",
       "      <td>...</td>\n",
       "      <td>...</td>\n",
       "    </tr>\n",
       "    <tr>\n",
       "      <th>1000204</th>\n",
       "      <td>6040</td>\n",
       "      <td>1091</td>\n",
       "      <td>1</td>\n",
       "      <td>956716541</td>\n",
       "    </tr>\n",
       "    <tr>\n",
       "      <th>1000205</th>\n",
       "      <td>6040</td>\n",
       "      <td>1094</td>\n",
       "      <td>5</td>\n",
       "      <td>956704887</td>\n",
       "    </tr>\n",
       "    <tr>\n",
       "      <th>1000206</th>\n",
       "      <td>6040</td>\n",
       "      <td>562</td>\n",
       "      <td>5</td>\n",
       "      <td>956704746</td>\n",
       "    </tr>\n",
       "    <tr>\n",
       "      <th>1000207</th>\n",
       "      <td>6040</td>\n",
       "      <td>1096</td>\n",
       "      <td>4</td>\n",
       "      <td>956715648</td>\n",
       "    </tr>\n",
       "    <tr>\n",
       "      <th>1000208</th>\n",
       "      <td>6040</td>\n",
       "      <td>1097</td>\n",
       "      <td>4</td>\n",
       "      <td>956715569</td>\n",
       "    </tr>\n",
       "  </tbody>\n",
       "</table>\n",
       "<p>1000209 rows × 4 columns</p>\n",
       "</div>"
      ],
      "text/plain": [
       "         userId  movieId  rating  timestamp\n",
       "0             1     1193       5  978300760\n",
       "1             1      661       3  978302109\n",
       "2             1      914       3  978301968\n",
       "3             1     3408       4  978300275\n",
       "4             1     2355       5  978824291\n",
       "...         ...      ...     ...        ...\n",
       "1000204    6040     1091       1  956716541\n",
       "1000205    6040     1094       5  956704887\n",
       "1000206    6040      562       5  956704746\n",
       "1000207    6040     1096       4  956715648\n",
       "1000208    6040     1097       4  956715569\n",
       "\n",
       "[1000209 rows x 4 columns]"
      ]
     },
     "execution_count": 67,
     "metadata": {},
     "output_type": "execute_result"
    }
   ],
   "source": [
    "# 2. ratings_df\n",
    "\n",
    "# 총 데이터 1000208개\n",
    "# 결측치, 중복값 없음\n",
    "# 모든 특성 수치형, timestamp 제외 모두 범주형\n",
    "# userId : 6040, movieId : 3706, rating : 1~5\n",
    "# 타임스탬프는 초단위로 측정되어 표기됨\n",
    "# 각 유저는 최소한 20개 이상의 평점 기록을 가지고 있음\n",
    "\n",
    "# 타임스탬프..? 시간이 지날수록 rating이 올라갔느냐, 적어졌느냐\n",
    "# timestamp 컬럼은 영화 평가가 이루어진 시간을 나타내는 값입니다. 이 컬럼은 Unix 시간(Unix timestamp) 형식으로 저장되어 있습니다.\n",
    "# Unix 시간은 1970년 1월 1일 00:00:00 (UTC)부터 경과한 시간을 초 단위로 표현한 값입니다.\n",
    "\n",
    "# 전처리\n",
    "ratings_df"
   ]
  },
  {
   "cell_type": "code",
   "execution_count": 118,
   "metadata": {},
   "outputs": [
    {
     "data": {
      "text/plain": [
       "[2858, 260, 1196, 1210, 480]"
      ]
     },
     "execution_count": 118,
     "metadata": {},
     "output_type": "execute_result"
    }
   ],
   "source": [
    "# impersonal.py 파일 : ratings_df 사용\n",
    "# movieId별로 각 컬럼을 카운팅 -> userId 컬럼만 추출해서 내림차순으로 정렬 -> 인덱스만 뽑아서 리스트 만들고 -> 최상단 5개 출력\n",
    "\n",
    "ratings_df.groupby('movieId').count()['userId'].sort_values(ascending=False).index.tolist()[:5]"
   ]
  },
  {
   "cell_type": "code",
   "execution_count": 68,
   "metadata": {},
   "outputs": [
    {
     "name": "stdout",
     "output_type": "stream",
     "text": [
      "<class 'pandas.core.frame.DataFrame'>\n",
      "RangeIndex: 1000209 entries, 0 to 1000208\n",
      "Data columns (total 4 columns):\n",
      " #   Column     Non-Null Count    Dtype\n",
      "---  ------     --------------    -----\n",
      " 0   userId     1000209 non-null  int64\n",
      " 1   movieId    1000209 non-null  int64\n",
      " 2   rating     1000209 non-null  int64\n",
      " 3   timestamp  1000209 non-null  int64\n",
      "dtypes: int64(4)\n",
      "memory usage: 30.5 MB\n",
      "None\n",
      "             userId       movieId        rating     timestamp\n",
      "count  1.000209e+06  1.000209e+06  1.000209e+06  1.000209e+06\n",
      "mean   3.024512e+03  1.865540e+03  3.581564e+00  9.722437e+08\n",
      "std    1.728413e+03  1.096041e+03  1.117102e+00  1.215256e+07\n",
      "min    1.000000e+00  1.000000e+00  1.000000e+00  9.567039e+08\n",
      "25%    1.506000e+03  1.030000e+03  3.000000e+00  9.653026e+08\n",
      "50%    3.070000e+03  1.835000e+03  4.000000e+00  9.730180e+08\n",
      "75%    4.476000e+03  2.770000e+03  4.000000e+00  9.752209e+08\n",
      "max    6.040000e+03  3.952000e+03  5.000000e+00  1.046455e+09\n",
      "0\n"
     ]
    }
   ],
   "source": [
    "print(ratings_df.info())\n",
    "print(ratings_df.describe())\n",
    "print(ratings_df.duplicated().sum())"
   ]
  },
  {
   "cell_type": "code",
   "execution_count": 27,
   "metadata": {},
   "outputs": [
    {
     "name": "stdout",
     "output_type": "stream",
     "text": [
      "userId\n",
      "4169    2314\n",
      "1680    1850\n",
      "4277    1743\n",
      "1941    1595\n",
      "1181    1521\n",
      "        ... \n",
      "5725      20\n",
      "3407      20\n",
      "1664      20\n",
      "4419      20\n",
      "3021      20\n",
      "Name: count, Length: 6040, dtype: int64\n"
     ]
    }
   ],
   "source": [
    "print(ratings_df['userId'].value_counts())"
   ]
  },
  {
   "cell_type": "code",
   "execution_count": 28,
   "metadata": {},
   "outputs": [
    {
     "name": "stdout",
     "output_type": "stream",
     "text": [
      "movieId\n",
      "2858    3428\n",
      "260     2991\n",
      "1196    2990\n",
      "1210    2883\n",
      "480     2672\n",
      "        ... \n",
      "3458       1\n",
      "2226       1\n",
      "1815       1\n",
      "398        1\n",
      "2909       1\n",
      "Name: count, Length: 3706, dtype: int64\n",
      "rating\n",
      "4    348971\n",
      "3    261197\n",
      "5    226310\n",
      "2    107557\n",
      "1     56174\n",
      "Name: count, dtype: int64\n"
     ]
    }
   ],
   "source": [
    "print(ratings_df['movieId'].value_counts())\n",
    "print(ratings_df['rating'].value_counts())"
   ]
  },
  {
   "cell_type": "code",
   "execution_count": 37,
   "metadata": {},
   "outputs": [
    {
     "data": {
      "image/png": "[encoded data removed]",
      "text/plain": [
       "<Figure size 1400x800 with 4 Axes>"
      ]
     },
     "metadata": {},
     "output_type": "display_data"
    }
   ],
   "source": [
    "# 데이터 분포 확인\n",
    "ratings_df.iloc[:].hist(bins=30, figsize=(14,8), grid=False)\n",
    "plt.show()"
   ]
  },
  {
   "cell_type": "code",
   "execution_count": 53,
   "metadata": {},
   "outputs": [
    {
     "data": {
      "image/png": "[encoded data removed]",
      "text/plain": [
       "<Figure size 640x480 with 1 Axes>"
      ]
     },
     "metadata": {},
     "output_type": "display_data"
    },
    {
     "data": {
      "text/plain": [
       "<Figure size 2000x1500 with 0 Axes>"
      ]
     },
     "metadata": {},
     "output_type": "display_data"
    }
   ],
   "source": [
    "ratings_df.drop(['userId', 'movieId', 'rating'], axis=1).boxplot()\n",
    "plt.figure(figsize=(20,15))\n",
    "plt.show()"
   ]
  },
  {
   "cell_type": "code",
   "execution_count": 59,
   "metadata": {},
   "outputs": [
    {
     "data": {
      "text/plain": [
       "0          978300760\n",
       "1          978302109\n",
       "2          978301968\n",
       "3          978300275\n",
       "4          978824291\n",
       "             ...    \n",
       "1000204    956716541\n",
       "1000205    956704887\n",
       "1000206    956704746\n",
       "1000207    956715648\n",
       "1000208    956715569\n",
       "Name: timestamp, Length: 1000209, dtype: int64"
      ]
     },
     "execution_count": 59,
     "metadata": {},
     "output_type": "execute_result"
    }
   ],
   "source": [
    "ratings_df['timestamp']"
   ]
  },
  {
   "cell_type": "code",
   "execution_count": 107,
   "metadata": {},
   "outputs": [
    {
     "data": {
      "text/plain": [
       "userId\n",
       "1       4.188679\n",
       "2       3.713178\n",
       "3       3.901961\n",
       "4       4.190476\n",
       "5       3.146465\n",
       "          ...   \n",
       "6036    3.302928\n",
       "6037    3.717822\n",
       "6038    3.800000\n",
       "6039    3.878049\n",
       "6040    3.577713\n",
       "Name: rating, Length: 6040, dtype: float64"
      ]
     },
     "execution_count": 107,
     "metadata": {},
     "output_type": "execute_result"
    }
   ],
   "source": [
    "# user별 ratings\n",
    "user_rating = ratings_df.groupby('userId')['rating'].mean()\n",
    "user_rating"
   ]
  },
  {
   "cell_type": "code",
   "execution_count": 108,
   "metadata": {},
   "outputs": [
    {
     "ename": "KeyError",
     "evalue": "'year_term'",
     "output_type": "error",
     "traceback": [
      "\u001b[0;31m---------------------------------------------------------------------------\u001b[0m",
      "\u001b[0;31mKeyError\u001b[0m                                  Traceback (most recent call last)",
      "File \u001b[0;32m~/miniforge3/envs/tp2/lib/python3.11/site-packages/pandas/core/indexes/base.py:3652\u001b[0m, in \u001b[0;36mIndex.get_loc\u001b[0;34m(self, key)\u001b[0m\n\u001b[1;32m   3651\u001b[0m \u001b[39mtry\u001b[39;00m:\n\u001b[0;32m-> 3652\u001b[0m     \u001b[39mreturn\u001b[39;00m \u001b[39mself\u001b[39m\u001b[39m.\u001b[39m_engine\u001b[39m.\u001b[39mget_loc(casted_key)\n\u001b[1;32m   3653\u001b[0m \u001b[39mexcept\u001b[39;00m \u001b[39mKeyError\u001b[39;00m \u001b[39mas\u001b[39;00m err:\n",
      "File \u001b[0;32m~/miniforge3/envs/tp2/lib/python3.11/site-packages/pandas/_libs/index.pyx:147\u001b[0m, in \u001b[0;36mpandas._libs.index.IndexEngine.get_loc\u001b[0;34m()\u001b[0m\n",
      "File \u001b[0;32m~/miniforge3/envs/tp2/lib/python3.11/site-packages/pandas/_libs/index.pyx:176\u001b[0m, in \u001b[0;36mpandas._libs.index.IndexEngine.get_loc\u001b[0;34m()\u001b[0m\n",
      "File \u001b[0;32mpandas/_libs/hashtable_class_helper.pxi:7080\u001b[0m, in \u001b[0;36mpandas._libs.hashtable.PyObjectHashTable.get_item\u001b[0;34m()\u001b[0m\n",
      "File \u001b[0;32mpandas/_libs/hashtable_class_helper.pxi:7088\u001b[0m, in \u001b[0;36mpandas._libs.hashtable.PyObjectHashTable.get_item\u001b[0;34m()\u001b[0m\n",
      "\u001b[0;31mKeyError\u001b[0m: 'year_term'",
      "\nThe above exception was the direct cause of the following exception:\n",
      "\u001b[0;31mKeyError\u001b[0m                                  Traceback (most recent call last)",
      "Cell \u001b[0;32mIn[108], line 2\u001b[0m\n\u001b[1;32m      1\u001b[0m \u001b[39m# user별 ratings\u001b[39;00m\n\u001b[0;32m----> 2\u001b[0m year_90 \u001b[39m=\u001b[39m ratings_df[ratings_df[\u001b[39m'\u001b[39m\u001b[39myear_term\u001b[39m\u001b[39m'\u001b[39m]\u001b[39m==\u001b[39m\u001b[39m1990\u001b[39m]\n\u001b[1;32m      3\u001b[0m year_90\n",
      "File \u001b[0;32m~/miniforge3/envs/tp2/lib/python3.11/site-packages/pandas/core/frame.py:3761\u001b[0m, in \u001b[0;36mDataFrame.__getitem__\u001b[0;34m(self, key)\u001b[0m\n\u001b[1;32m   3759\u001b[0m \u001b[39mif\u001b[39;00m \u001b[39mself\u001b[39m\u001b[39m.\u001b[39mcolumns\u001b[39m.\u001b[39mnlevels \u001b[39m>\u001b[39m \u001b[39m1\u001b[39m:\n\u001b[1;32m   3760\u001b[0m     \u001b[39mreturn\u001b[39;00m \u001b[39mself\u001b[39m\u001b[39m.\u001b[39m_getitem_multilevel(key)\n\u001b[0;32m-> 3761\u001b[0m indexer \u001b[39m=\u001b[39m \u001b[39mself\u001b[39m\u001b[39m.\u001b[39mcolumns\u001b[39m.\u001b[39mget_loc(key)\n\u001b[1;32m   3762\u001b[0m \u001b[39mif\u001b[39;00m is_integer(indexer):\n\u001b[1;32m   3763\u001b[0m     indexer \u001b[39m=\u001b[39m [indexer]\n",
      "File \u001b[0;32m~/miniforge3/envs/tp2/lib/python3.11/site-packages/pandas/core/indexes/base.py:3654\u001b[0m, in \u001b[0;36mIndex.get_loc\u001b[0;34m(self, key)\u001b[0m\n\u001b[1;32m   3652\u001b[0m     \u001b[39mreturn\u001b[39;00m \u001b[39mself\u001b[39m\u001b[39m.\u001b[39m_engine\u001b[39m.\u001b[39mget_loc(casted_key)\n\u001b[1;32m   3653\u001b[0m \u001b[39mexcept\u001b[39;00m \u001b[39mKeyError\u001b[39;00m \u001b[39mas\u001b[39;00m err:\n\u001b[0;32m-> 3654\u001b[0m     \u001b[39mraise\u001b[39;00m \u001b[39mKeyError\u001b[39;00m(key) \u001b[39mfrom\u001b[39;00m \u001b[39merr\u001b[39;00m\n\u001b[1;32m   3655\u001b[0m \u001b[39mexcept\u001b[39;00m \u001b[39mTypeError\u001b[39;00m:\n\u001b[1;32m   3656\u001b[0m     \u001b[39m# If we have a listlike key, _check_indexing_error will raise\u001b[39;00m\n\u001b[1;32m   3657\u001b[0m     \u001b[39m#  InvalidIndexError. Otherwise we fall through and re-raise\u001b[39;00m\n\u001b[1;32m   3658\u001b[0m     \u001b[39m#  the TypeError.\u001b[39;00m\n\u001b[1;32m   3659\u001b[0m     \u001b[39mself\u001b[39m\u001b[39m.\u001b[39m_check_indexing_error(key)\n",
      "\u001b[0;31mKeyError\u001b[0m: 'year_term'"
     ]
    }
   ],
   "source": [
    "\n"
   ]
  },
  {
   "cell_type": "code",
   "execution_count": null,
   "metadata": {},
   "outputs": [],
   "source": [
    "\n",
    "rating = ratings_df.groupby('year')['rating'].mean()\n",
    "rating"
   ]
  },
  {
   "cell_type": "code",
   "execution_count": null,
   "metadata": {},
   "outputs": [],
   "source": [
    "# 타임스탬프..? 시간이 지날수록 rating이 올라갔느냐, 적어졌느냐 시각화"
   ]
  },
  {
   "cell_type": "code",
   "execution_count": 69,
   "metadata": {},
   "outputs": [
    {
     "data": {
      "text/html": [
       "<div>\n",
       "<style scoped>\n",
       "    .dataframe tbody tr th:only-of-type {\n",
       "        vertical-align: middle;\n",
       "    }\n",
       "\n",
       "    .dataframe tbody tr th {\n",
       "        vertical-align: top;\n",
       "    }\n",
       "\n",
       "    .dataframe thead th {\n",
       "        text-align: right;\n",
       "    }\n",
       "</style>\n",
       "<table border=\"1\" class=\"dataframe\">\n",
       "  <thead>\n",
       "    <tr style=\"text-align: right;\">\n",
       "      <th></th>\n",
       "      <th>userId</th>\n",
       "      <th>gender</th>\n",
       "      <th>age</th>\n",
       "      <th>Occupation</th>\n",
       "      <th>zip_code</th>\n",
       "    </tr>\n",
       "  </thead>\n",
       "  <tbody>\n",
       "    <tr>\n",
       "      <th>0</th>\n",
       "      <td>1</td>\n",
       "      <td>F</td>\n",
       "      <td>1</td>\n",
       "      <td>10</td>\n",
       "      <td>48067</td>\n",
       "    </tr>\n",
       "    <tr>\n",
       "      <th>1</th>\n",
       "      <td>2</td>\n",
       "      <td>M</td>\n",
       "      <td>56</td>\n",
       "      <td>16</td>\n",
       "      <td>70072</td>\n",
       "    </tr>\n",
       "    <tr>\n",
       "      <th>2</th>\n",
       "      <td>3</td>\n",
       "      <td>M</td>\n",
       "      <td>25</td>\n",
       "      <td>15</td>\n",
       "      <td>55117</td>\n",
       "    </tr>\n",
       "    <tr>\n",
       "      <th>3</th>\n",
       "      <td>4</td>\n",
       "      <td>M</td>\n",
       "      <td>45</td>\n",
       "      <td>7</td>\n",
       "      <td>02460</td>\n",
       "    </tr>\n",
       "    <tr>\n",
       "      <th>4</th>\n",
       "      <td>5</td>\n",
       "      <td>M</td>\n",
       "      <td>25</td>\n",
       "      <td>20</td>\n",
       "      <td>55455</td>\n",
       "    </tr>\n",
       "    <tr>\n",
       "      <th>...</th>\n",
       "      <td>...</td>\n",
       "      <td>...</td>\n",
       "      <td>...</td>\n",
       "      <td>...</td>\n",
       "      <td>...</td>\n",
       "    </tr>\n",
       "    <tr>\n",
       "      <th>6035</th>\n",
       "      <td>6036</td>\n",
       "      <td>F</td>\n",
       "      <td>25</td>\n",
       "      <td>15</td>\n",
       "      <td>32603</td>\n",
       "    </tr>\n",
       "    <tr>\n",
       "      <th>6036</th>\n",
       "      <td>6037</td>\n",
       "      <td>F</td>\n",
       "      <td>45</td>\n",
       "      <td>1</td>\n",
       "      <td>76006</td>\n",
       "    </tr>\n",
       "    <tr>\n",
       "      <th>6037</th>\n",
       "      <td>6038</td>\n",
       "      <td>F</td>\n",
       "      <td>56</td>\n",
       "      <td>1</td>\n",
       "      <td>14706</td>\n",
       "    </tr>\n",
       "    <tr>\n",
       "      <th>6038</th>\n",
       "      <td>6039</td>\n",
       "      <td>F</td>\n",
       "      <td>45</td>\n",
       "      <td>0</td>\n",
       "      <td>01060</td>\n",
       "    </tr>\n",
       "    <tr>\n",
       "      <th>6039</th>\n",
       "      <td>6040</td>\n",
       "      <td>M</td>\n",
       "      <td>25</td>\n",
       "      <td>6</td>\n",
       "      <td>11106</td>\n",
       "    </tr>\n",
       "  </tbody>\n",
       "</table>\n",
       "<p>6040 rows × 5 columns</p>\n",
       "</div>"
      ],
      "text/plain": [
       "      userId gender  age  Occupation zip_code\n",
       "0          1      F    1          10    48067\n",
       "1          2      M   56          16    70072\n",
       "2          3      M   25          15    55117\n",
       "3          4      M   45           7    02460\n",
       "4          5      M   25          20    55455\n",
       "...      ...    ...  ...         ...      ...\n",
       "6035    6036      F   25          15    32603\n",
       "6036    6037      F   45           1    76006\n",
       "6037    6038      F   56           1    14706\n",
       "6038    6039      F   45           0    01060\n",
       "6039    6040      M   25           6    11106\n",
       "\n",
       "[6040 rows x 5 columns]"
      ]
     },
     "execution_count": 69,
     "metadata": {},
     "output_type": "execute_result"
    }
   ],
   "source": [
    "# 3. users_df\n",
    "\n",
    "# 총 6040개 데이터\n",
    "# 결측치, 중복값 없음\n",
    "# userId, age, Occupation은 수치형, gender와 zip_code는 문자형. 모두 범주형 데이터.\n",
    "# userId : 6040, zip_code는 3439 => 우편번호를 가진 사람들은 한 집에 살고 있을 확률 높음\n",
    "# gender는 2, age는 7, Occupation은 21개의 범주\n",
    "\n",
    "# 전처리\n",
    "# userId 드랍??\n",
    "\n",
    "users_df"
   ]
  },
  {
   "cell_type": "code",
   "execution_count": 70,
   "metadata": {},
   "outputs": [
    {
     "name": "stdout",
     "output_type": "stream",
     "text": [
      "<class 'pandas.core.frame.DataFrame'>\n",
      "RangeIndex: 6040 entries, 0 to 6039\n",
      "Data columns (total 5 columns):\n",
      " #   Column      Non-Null Count  Dtype \n",
      "---  ------      --------------  ----- \n",
      " 0   userId      6040 non-null   int64 \n",
      " 1   gender      6040 non-null   object\n",
      " 2   age         6040 non-null   int64 \n",
      " 3   Occupation  6040 non-null   int64 \n",
      " 4   zip_code    6040 non-null   object\n",
      "dtypes: int64(3), object(2)\n",
      "memory usage: 236.1+ KB\n",
      "None\n",
      "            userId          age   Occupation\n",
      "count  6040.000000  6040.000000  6040.000000\n",
      "mean   3020.500000    30.639238     8.146854\n",
      "std    1743.742145    12.895962     6.329511\n",
      "min       1.000000     1.000000     0.000000\n",
      "25%    1510.750000    25.000000     3.000000\n",
      "50%    3020.500000    25.000000     7.000000\n",
      "75%    4530.250000    35.000000    14.000000\n",
      "max    6040.000000    56.000000    20.000000\n",
      "0\n",
      "gender\n",
      "M    4331\n",
      "F    1709\n",
      "Name: count, dtype: int64\n"
     ]
    }
   ],
   "source": [
    "print(users_df.info())\n",
    "print(users_df.describe())\n",
    "print(users_df.duplicated().sum())\n",
    "print(users_df['gender'].value_counts())"
   ]
  },
  {
   "cell_type": "code",
   "execution_count": 34,
   "metadata": {},
   "outputs": [
    {
     "name": "stdout",
     "output_type": "stream",
     "text": [
      "userId\n",
      "1       1\n",
      "4024    1\n",
      "4033    1\n",
      "4032    1\n",
      "4031    1\n",
      "       ..\n",
      "2012    1\n",
      "2011    1\n",
      "2010    1\n",
      "2009    1\n",
      "6040    1\n",
      "Name: count, Length: 6040, dtype: int64\n",
      "age\n",
      "25    2096\n",
      "35    1193\n",
      "18    1103\n",
      "45     550\n",
      "50     496\n",
      "56     380\n",
      "1      222\n",
      "Name: count, dtype: int64\n",
      "Occupation\n",
      "4     759\n",
      "0     711\n",
      "7     679\n",
      "1     528\n",
      "17    502\n",
      "12    388\n",
      "14    302\n",
      "20    281\n",
      "2     267\n",
      "16    241\n",
      "6     236\n",
      "10    195\n",
      "3     173\n",
      "15    144\n",
      "13    142\n",
      "11    129\n",
      "5     112\n",
      "9      92\n",
      "19     72\n",
      "18     70\n",
      "8      17\n",
      "Name: count, dtype: int64\n",
      "zip_code\n",
      "48104    19\n",
      "22903    18\n",
      "55104    17\n",
      "94110    17\n",
      "55455    16\n",
      "         ..\n",
      "80236     1\n",
      "19428     1\n",
      "33073     1\n",
      "99005     1\n",
      "14706     1\n",
      "Name: count, Length: 3439, dtype: int64\n"
     ]
    }
   ],
   "source": [
    "print(users_df['userId'].value_counts())\n",
    "print(users_df['age'].value_counts())\n",
    "print(users_df['Occupation'].value_counts())\n",
    "print(users_df['zip_code'].value_counts())"
   ]
  },
  {
   "cell_type": "code",
   "execution_count": 39,
   "metadata": {},
   "outputs": [
    {
     "data": {
      "image/png": "[encoded data removed]",
      "text/plain": [
       "<Figure size 1400x800 with 4 Axes>"
      ]
     },
     "metadata": {},
     "output_type": "display_data"
    }
   ],
   "source": [
    "# 데이터 분포 확인\n",
    "users_df.iloc[:].hist(bins=30, figsize=(14,8), grid=False)\n",
    "plt.show()"
   ]
  },
  {
   "cell_type": "code",
   "execution_count": 54,
   "metadata": {},
   "outputs": [
    {
     "data": {
      "image/png": "[encoded data removed]",
      "text/plain": [
       "<Figure size 640x480 with 1 Axes>"
      ]
     },
     "metadata": {},
     "output_type": "display_data"
    },
    {
     "data": {
      "text/plain": [
       "<Figure size 2000x1500 with 0 Axes>"
      ]
     },
     "metadata": {},
     "output_type": "display_data"
    }
   ],
   "source": [
    "users_df.iloc[:].boxplot()\n",
    "plt.figure(figsize=(20,15))\n",
    "plt.show()"
   ]
  },
  {
   "cell_type": "code",
   "execution_count": 102,
   "metadata": {},
   "outputs": [
    {
     "data": {
      "image/png": "[encoded data removed]",
      "text/plain": [
       "<Figure size 640x480 with 1 Axes>"
      ]
     },
     "metadata": {},
     "output_type": "display_data"
    }
   ],
   "source": [
    "# 성별 비율\n",
    "gender = users_df['gender'].value_counts().sort_index()\n",
    "\n",
    "x = gender.index\n",
    "y = gender.values\n",
    "sns.barplot(x=x, y=y, alpha=0.8)\n",
    "plt.xlabel(\"성별\")\n",
    "plt.ylabel(\"인원 수\")\n",
    "plt.show()"
   ]
  },
  {
   "cell_type": "code",
   "execution_count": null,
   "metadata": {},
   "outputs": [],
   "source": []
  },
  {
   "cell_type": "markdown",
   "metadata": {},
   "source": [
    "- Gender : 남성은 \"M\" 여성은 \"F\"로 표기\n",
    "- Age :  다음과 같은 방식으로 표기\n",
    "\t*  1:  \"18살 미만\"\n",
    "\t* 18:  \"18-24\"\n",
    "\t* 25:  \"25-34\"\n",
    "\t* 35:  \"35-44\"\n",
    "\t* 45:  \"45-49\"\n",
    "\t* 50:  \"50-55\"\n",
    "\t* 56:  \"56+\"\n",
    "\n",
    "- Occupation : 다음과 같은 방식으로 표기\n",
    "\n",
    "\t*  0:  \"other\" or not specified\n",
    "\t*  1:  \"academic/educator\"\n",
    "\t*  2:  \"artist\"\n",
    "\t*  3:  \"clerical/admin\"\n",
    "\t*  4:  \"college/grad student\"\n",
    "\t*  5:  \"customer service\"\n",
    "\t*  6:  \"doctor/health care\"\n",
    "\t*  7:  \"executive/managerial\"\n",
    "\t*  8:  \"farmer\"\n",
    "\t*  9:  \"homemaker\"\n",
    "\t* 10:  \"K-12 student\"\n",
    "\t* 11:  \"lawyer\"\n",
    "\t* 12:  \"programmer\"\n",
    "\t* 13:  \"retired\"\n",
    "\t* 14:  \"sales/marketing\"\n",
    "\t* 15:  \"scientist\"\n",
    "\t* 16:  \"self-employed\"\n",
    "\t* 17:  \"technician/engineer\"\n",
    "\t* 18:  \"tradesman/craftsman\"\n",
    "\t* 19:  \"unemployed\"\n",
    "\t* 20:  \"writer\""
   ]
  },
  {
   "cell_type": "code",
   "execution_count": null,
   "metadata": {},
   "outputs": [],
   "source": [
    "#이상치??"
   ]
  }
 ],
 "metadata": {
  "kernelspec": {
   "display_name": "tp2",
   "language": "python",
   "name": "python3"
  },
  "language_info": {
   "codemirror_mode": {
    "name": "ipython",
    "version": 3
   },
   "file_extension": ".py",
   "mimetype": "text/x-python",
   "name": "python",
   "nbconvert_exporter": "python",
   "pygments_lexer": "ipython3",
   "version": "3.11.4"
  },
  "orig_nbformat": 4
 },
 "nbformat": 4,
 "nbformat_minor": 2
}
