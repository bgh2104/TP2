{
 "cells": [
  {
   "cell_type": "code",
   "execution_count": 1,
   "metadata": {},
   "outputs": [],
   "source": [
    "import pandas as pd\n",
    "import numpy as np\n",
    "import os\n",
    "import joblib\n",
    "from surprise import Dataset,Reader,KNNBasic,SVDpp,accuracy\n",
    "from surprise.model_selection import train_test_split,KFold\n",
    "from utils import Dataloader\n",
    "\n",
    "from joblib import dump, load\n",
    "from collections import defaultdict"
   ]
  },
  {
   "cell_type": "code",
   "execution_count": 2,
   "metadata": {},
   "outputs": [],
   "source": [
    "DIR_PATH = \"./data/\"\n",
    "users_df = Dataloader.load_users(DIR_PATH)\n",
    "ratings_df = Dataloader.load_ratings(DIR_PATH)\n",
    "movies_df = Dataloader.load_movies(DIR_PATH)"
   ]
  },
  {
   "cell_type": "code",
   "execution_count": 3,
   "metadata": {},
   "outputs": [],
   "source": [
    "reader = Reader(rating_scale=(1, 5))\n",
    "data = Dataset.load_from_df(ratings_df[['userId', 'movieId', 'rating']], reader)"
   ]
  },
  {
   "cell_type": "code",
   "execution_count": 12,
   "metadata": {},
   "outputs": [],
   "source": [
    "trainset, testset = train_test_split(data, test_size=0.2)"
   ]
  },
  {
   "cell_type": "code",
   "execution_count": 13,
   "metadata": {},
   "outputs": [],
   "source": [
    "svdpp_model = SVDpp()"
   ]
  },
  {
   "cell_type": "markdown",
   "metadata": {},
   "source": [
    "n_factors = 잠재요인의 수를 나타냄. 잠재요인은 사용자와 아이템 간의 특성을 나타내는 값. 클수록 복잡성 증가\n",
    "\n",
    "b_epochs = 모델이 전체 학습 데이터를 몇 번 반복할지 결정.\n",
    "\n",
    "lr_all = 학습 속도를 결정하는 파라미터 \n",
    "\n",
    "reg_all = 모델의 복잡성을 제어하는 파라미터. 값이 클수록 모델이 간단해지는데 너무 크면 성능 저하\n",
    "\n",
    "k = 사용자 또는 아이템 간의 유사성 측정할때 이웃 수\n",
    "\n",
    "sim_options= 유사성 측정 방법. 코사인 피어슨 등"
   ]
  },
  {
   "cell_type": "code",
   "execution_count": 14,
   "metadata": {},
   "outputs": [
    {
     "data": {
      "text/plain": [
       "['svdpp_model.joblib']"
      ]
     },
     "execution_count": 14,
     "metadata": {},
     "output_type": "execute_result"
    }
   ],
   "source": [
    "\n",
    "svdpp = SVDpp(n_factors=150, n_epochs=50, lr_all=0.003, reg_all=0.05)\n",
    "svdpp.fit(trainset)\n",
    "svdpp_predictions = svdpp.test(testset)\n",
    "svdpp_predictions_df = pd.DataFrame(svdpp_predictions, columns=['uid', 'iid', 'r_ui', 'est', 'details'])\n",
    "dump(svdpp_predictions_df, 'svdpp_model.joblib')"
   ]
  },
  {
   "cell_type": "code",
   "execution_count": 15,
   "metadata": {},
   "outputs": [
    {
     "name": "stdout",
     "output_type": "stream",
     "text": [
      "Computing the msd similarity matrix...\n",
      "Done computing similarity matrix.\n"
     ]
    }
   ],
   "source": [
    "knn = KNNBasic(k=60, min_k=2)\n",
    "knn.fit(trainset)\n",
    "knn_predictions = knn.test(testset)\n",
    "knn_predictions_df = pd.DataFrame(knn_predictions, columns=['uid', 'iid', 'r_ui', 'est', 'details'])"
   ]
  },
  {
   "cell_type": "code",
   "execution_count": 4,
   "metadata": {},
   "outputs": [],
   "source": [
    "def hybrid_model_loader():\n",
    "\n",
    "    # SVD모델 불러오기\n",
    "    svdpp_predictions_df = load('hybrid_models/svdpp_model.joblib')\n",
    "\n",
    "    # KNN모델 불러오기\n",
    "    knn_predictions_df = load('hybrid_models/knn_model.joblib')\n",
    "    \n",
    "    return svdpp_predictions_df, knn_predictions_df"
   ]
  },
  {
   "cell_type": "code",
   "execution_count": 5,
   "metadata": {},
   "outputs": [],
   "source": [
    "svdpp_predictions_df, knn_predictions_df = hybrid_model_loader()\n"
   ]
  },
  {
   "cell_type": "code",
   "execution_count": 6,
   "metadata": {},
   "outputs": [
    {
     "name": "stdout",
     "output_type": "stream",
     "text": [
      "Hybrid Model RMSE: 0.9016215686658994\n"
     ]
    }
   ],
   "source": [
    "weight_svdpp = 0.7  # SVDpp 모델의 가중치\n",
    "weight_knn = 0.3  # KNN 모델의 가중치\n",
    "\n",
    "hybrid_preds = (weight_svdpp * svdpp_predictions_df['est']) + (weight_knn * knn_predictions_df['est'])\n",
    "\n",
    "hybrid_errors = hybrid_preds - svdpp_predictions_df['r_ui'].values\n",
    "rmse = np.sqrt(np.mean(hybrid_errors ** 2))\n",
    "\n",
    "print(\"Hybrid Model RMSE:\", rmse)"
   ]
  },
  {
   "cell_type": "code",
   "execution_count": 7,
   "metadata": {},
   "outputs": [],
   "source": [
    "def precision_recall_at_k(predictions, k=10, threshold=3.5):\n",
    "    \"\"\"Return precision and recall at k metrics for each user\"\"\"\n",
    "\n",
    "    # First map the predictions to each user.\n",
    "    user_est_true = defaultdict(list)\n",
    "    for uid, _, true_r, est, _ in predictions:\n",
    "        user_est_true[uid].append((est, true_r))\n",
    "\n",
    "    precisions = dict()\n",
    "    recalls = dict()\n",
    "    for uid, user_ratings in user_est_true.items():\n",
    "\n",
    "        # Sort user ratings by estimated value\n",
    "        user_ratings.sort(key=lambda x: x[0], reverse=True)\n",
    "\n",
    "        # Number of relevant items\n",
    "        n_rel = sum((true_r >= threshold) for (_, true_r) in user_ratings)\n",
    "\n",
    "        # Number of recommended items in top k\n",
    "        n_rec_k = sum((est >= threshold) for (est, _) in user_ratings[:k])\n",
    "\n",
    "        # Number of relevant and recommended items in top k\n",
    "        n_rel_and_rec_k = sum(\n",
    "            ((true_r >= threshold) and (est >= threshold))\n",
    "            for (est, true_r) in user_ratings[:k]\n",
    "        )\n",
    "\n",
    "        # Precision@K: Proportion of recommended items that are relevant\n",
    "        # When n_rec_k is 0, Precision is undefined. We here set it to 0.\n",
    "\n",
    "        precisions[uid] = n_rel_and_rec_k / n_rec_k if n_rec_k != 0 else 0\n",
    "\n",
    "        # Recall@K: Proportion of relevant items that are recommended\n",
    "        # When n_rel is 0, Recall is undefined. We here set it to 0.\n",
    "\n",
    "        recalls[uid] = n_rel_and_rec_k / n_rel if n_rel != 0 else 0\n",
    "\n",
    "    return precisions, recalls"
   ]
  },
  {
   "cell_type": "code",
   "execution_count": 8,
   "metadata": {},
   "outputs": [
    {
     "name": "stdout",
     "output_type": "stream",
     "text": [
      "Average Precision@10(svdpp): 0.7942194146069702\n",
      "Average Recall@10(svdpp): 0.5540900407011167\n"
     ]
    }
   ],
   "source": [
    "svdpp_predictions_list = svdpp_predictions_df.values.tolist()\n",
    "\n",
    "# Precision@K와 Recall@K 계산\n",
    "svdpp_precisions, svdpp_recalls = precision_recall_at_k(svdpp_predictions_list, k=10, threshold=3.5)\n",
    "\n",
    "# Precision과 Recall 평균 계산\n",
    "svdpp_avg_precision = sum(prec for prec in svdpp_precisions.values()) / len(svdpp_precisions)\n",
    "svdpp_avg_recall = sum(rec for rec in svdpp_recalls.values()) / len(svdpp_recalls)\n",
    "\n",
    "print(\"Average Precision@10(svdpp):\", svdpp_avg_precision)\n",
    "print(\"Average Recall@10(svdpp):\", svdpp_avg_recall)"
   ]
  },
  {
   "cell_type": "code",
   "execution_count": 9,
   "metadata": {},
   "outputs": [
    {
     "name": "stdout",
     "output_type": "stream",
     "text": [
      "Average Precision@10: 0.8109197305951419\n",
      "Average Recall@10: 0.3960151036353499\n"
     ]
    }
   ],
   "source": [
    "hybrid_predictions = []\n",
    "\n",
    "for (svdpp_idx, svdpp_pred), (knn_idx, knn_pred) in zip(svdpp_predictions_df.iterrows(), knn_predictions_df.iterrows()):\n",
    "    hybrid_pred = svdpp_pred['est'] * 0.7 + knn_pred['est'] * 0.3  # 가중치 적용\n",
    "    hybrid_predictions.append((svdpp_pred['uid'], svdpp_pred['iid'], svdpp_pred['r_ui'], hybrid_pred, svdpp_pred['details']))\n",
    "\n",
    "# Precision@K와 Recall@K 계산\n",
    "precisions, recalls = precision_recall_at_k(hybrid_predictions, k=5, threshold=3.5)\n",
    "\n",
    "# Precision과 Recall 평균 계산\n",
    "avg_precision = sum(prec for prec in precisions.values()) / len(precisions)\n",
    "avg_recall = sum(rec for rec in recalls.values()) / len(recalls)\n",
    "\n",
    "print(\"Average Precision@10:\", avg_precision)\n",
    "print(\"Average Recall@10:\", avg_recall)"
   ]
  }
 ],
 "metadata": {
  "kernelspec": {
   "display_name": "62",
   "language": "python",
   "name": "python3"
  },
  "language_info": {
   "codemirror_mode": {
    "name": "ipython",
    "version": 3
   },
   "file_extension": ".py",
   "mimetype": "text/x-python",
   "name": "python",
   "nbconvert_exporter": "python",
   "pygments_lexer": "ipython3",
   "version": "3.11.3"
  },
  "orig_nbformat": 4
 },
 "nbformat": 4,
 "nbformat_minor": 2
}
