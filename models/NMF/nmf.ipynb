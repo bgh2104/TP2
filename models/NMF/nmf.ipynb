{
 "cells": [
  {
   "cell_type": "code",
   "execution_count": 1,
   "metadata": {},
   "outputs": [],
   "source": [
    "import os\n",
    "import sys\n",
    "\n",
    "# 현재 작업 디렉토리 가져오기\n",
    "current_dir = os.getcwd()\n",
    "\n",
    "# TP2 폴더의 경로\n",
    "tp2_dir = os.path.join(current_dir, '..', '..')\n",
    "\n",
    "sys.path.append(tp2_dir)\n",
    "\n",
    "import pandas as pd\n",
    "import numpy as np\n",
    "import os\n",
    "from joblib import dump, load\n",
    "from surprise import Dataset,Reader,NMF,accuracy\n",
    "from surprise.model_selection import train_test_split,KFold\n",
    "from utils import Dataloader\n",
    "from surprise.accuracy import rmse, mae\n",
    "\n",
    "import joblib\n",
    "from collections import defaultdict\n",
    "from surprise.model_selection import RandomizedSearchCV"
   ]
  },
  {
   "cell_type": "code",
   "execution_count": 5,
   "metadata": {},
   "outputs": [],
   "source": [
    "DIR_PATH = \"../../data\"\n",
    "users_df = Dataloader.load_users(DIR_PATH)\n",
    "ratings_df = Dataloader.load_ratings(DIR_PATH)\n",
    "movies_df = Dataloader.load_movies(DIR_PATH)"
   ]
  },
  {
   "cell_type": "code",
   "execution_count": 3,
   "metadata": {},
   "outputs": [],
   "source": [
    "reader = Reader(rating_scale=(1, 5))\n",
    "data = Dataset.load_from_df(ratings_df[['userId', 'movieId', 'rating']], reader)"
   ]
  },
  {
   "cell_type": "code",
   "execution_count": 4,
   "metadata": {},
   "outputs": [],
   "source": [
    "trainset, testset = train_test_split(data, test_size=0.2)"
   ]
  },
  {
   "cell_type": "code",
   "execution_count": 5,
   "metadata": {},
   "outputs": [],
   "source": [
    "NMF_model = NMF()"
   ]
  },
  {
   "cell_type": "code",
   "execution_count": 6,
   "metadata": {},
   "outputs": [],
   "source": [
    "param_dist_NMF = {\n",
    "    'n_factors': [5, 10, 15, 20],\n",
    "    'n_epochs': [30, 50, 100]\n",
    "}\n",
    "rs_NMF = RandomizedSearchCV(NMF, param_dist_NMF, measures=['rmse'], cv=3)\n",
    "rs_NMF.fit(data)"
   ]
  },
  {
   "cell_type": "code",
   "execution_count": 7,
   "metadata": {},
   "outputs": [
    {
     "name": "stdout",
     "output_type": "stream",
     "text": [
      "NMF Best RMSE Score: 0.8943936160293706\n",
      "NMF Best Params: {'n_factors': 20, 'n_epochs': 100}\n"
     ]
    }
   ],
   "source": [
    "print(\"NMF Best RMSE Score:\", rs_NMF.best_score['rmse'])\n",
    "print(\"NMF Best Params:\", rs_NMF.best_params['rmse'])"
   ]
  },
  {
   "cell_type": "code",
   "execution_count": 8,
   "metadata": {},
   "outputs": [],
   "source": [
    "NMF_model=NMF(n_factors=20 ,n_epochs=100)\n",
    "NMF_model.fit(trainset)\n",
    "NMF_model_predictions = NMF_model.test(testset)\n",
    "NMF_model_predictions_df = pd.DataFrame(NMF_model_predictions, columns=['uid', 'iid', 'r_ui', 'est', 'details'])"
   ]
  },
  {
   "cell_type": "code",
   "execution_count": 12,
   "metadata": {},
   "outputs": [
    {
     "data": {
      "text/plain": [
       "['NMF_model.joblib']"
      ]
     },
     "execution_count": 12,
     "metadata": {},
     "output_type": "execute_result"
    }
   ],
   "source": [
    "dump(NMF_model_predictions_df, 'NMF_model.joblib')"
   ]
  },
  {
   "cell_type": "code",
   "execution_count": 6,
   "metadata": {},
   "outputs": [],
   "source": [
    "def model_loader():\n",
    "\n",
    "    # nmf모델 불러오기\n",
    "    NMF_model_predictions_df = load('hybrid_models/NMF_model.joblib')\n",
    "\n",
    "    return NMF_model_predictions_df"
   ]
  },
  {
   "cell_type": "code",
   "execution_count": 7,
   "metadata": {},
   "outputs": [],
   "source": [
    "NMF_model_predictions_df = model_loader()"
   ]
  },
  {
   "cell_type": "code",
   "execution_count": 8,
   "metadata": {},
   "outputs": [],
   "source": [
    "def precision_recall_at_k(predictions, k=10, threshold=3.5):\n",
    "    \"\"\"Return precision and recall at k metrics for each user\"\"\"\n",
    "\n",
    "    # First map the predictions to each user.\n",
    "    user_est_true = defaultdict(list)\n",
    "    for uid, _, true_r, est, _ in predictions:\n",
    "        user_est_true[uid].append((est, true_r))\n",
    "\n",
    "    precisions = dict()\n",
    "    recalls = dict()\n",
    "    for uid, user_ratings in user_est_true.items():\n",
    "\n",
    "        # Sort user ratings by estimated value\n",
    "        user_ratings.sort(key=lambda x: x[0], reverse=True)\n",
    "\n",
    "        # Number of relevant items\n",
    "        n_rel = sum((true_r >= threshold) for (_, true_r) in user_ratings)\n",
    "\n",
    "        # Number of recommended items in top k\n",
    "        n_rec_k = sum((est >= threshold) for (est, _) in user_ratings[:k])\n",
    "\n",
    "        # Number of relevant and recommended items in top k\n",
    "        n_rel_and_rec_k = sum(\n",
    "            ((true_r >= threshold) and (est >= threshold))\n",
    "            for (est, true_r) in user_ratings[:k]\n",
    "        )\n",
    "\n",
    "        # Precision@K: Proportion of recommended items that are relevant\n",
    "        # When n_rec_k is 0, Precision is undefined. We here set it to 0.\n",
    "\n",
    "        precisions[uid] = n_rel_and_rec_k / n_rec_k if n_rec_k != 0 else 0\n",
    "\n",
    "        # Recall@K: Proportion of relevant items that are recommended\n",
    "        # When n_rel is 0, Recall is undefined. We here set it to 0.\n",
    "\n",
    "        recalls[uid] = n_rel_and_rec_k / n_rel if n_rel != 0 else 0\n",
    "\n",
    "    return precisions, recalls"
   ]
  },
  {
   "cell_type": "code",
   "execution_count": 11,
   "metadata": {},
   "outputs": [
    {
     "name": "stdout",
     "output_type": "stream",
     "text": [
      "Average Precision@10(NMF_model): 0.7774975613347425\n",
      "Average Recall@10(NMF_model): 0.5267192749422243\n"
     ]
    }
   ],
   "source": [
    "NMF_model_predictions_list = NMF_model_predictions_df.values.tolist()\n",
    "\n",
    "# Precision@K와 Recall@K 계산\n",
    "NMF_model_precisions, NMF_model_recalls = precision_recall_at_k(NMF_model_predictions_list, k=10, threshold=3.5)\n",
    "\n",
    "# Precision과 Recall 평균 계산\n",
    "NMF_model_avg_precision = sum(prec for prec in NMF_model_precisions.values()) / len(NMF_model_precisions)\n",
    "NMF_model_avg_recall = sum(rec for rec in NMF_model_recalls.values()) / len(NMF_model_recalls)\n",
    "\n",
    "print(\"Average Precision@10(NMF_model):\", NMF_model_avg_precision)\n",
    "print(\"Average Recall@10(NMF_model):\", NMF_model_avg_recall)"
   ]
  }
 ],
 "metadata": {
  "kernelspec": {
   "display_name": "62",
   "language": "python",
   "name": "python3"
  },
  "language_info": {
   "codemirror_mode": {
    "name": "ipython",
    "version": 3
   },
   "file_extension": ".py",
   "mimetype": "text/x-python",
   "name": "python",
   "nbconvert_exporter": "python",
   "pygments_lexer": "ipython3",
   "version": "3.11.3"
  },
  "orig_nbformat": 4
 },
 "nbformat": 4,
 "nbformat_minor": 2
}
